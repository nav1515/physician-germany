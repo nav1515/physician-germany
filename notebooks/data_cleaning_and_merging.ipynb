{
 "cells": [
  {
   "cell_type": "code",
   "execution_count": 1,
   "id": "4439afd9-7191-4eeb-be8c-18ec93dd2fa6",
   "metadata": {},
   "outputs": [],
   "source": [
    "import pandas as pd"
   ]
  },
  {
   "cell_type": "markdown",
   "id": "2151b40a-be9b-441e-af88-a2cb51f3e3c1",
   "metadata": {},
   "source": [
    "### Read in population data, rename columns and drop an unused one"
   ]
  },
  {
   "cell_type": "code",
   "execution_count": 2,
   "id": "68816776-fa10-4aa2-95b7-465a0b0286c7",
   "metadata": {},
   "outputs": [
    {
     "data": {
      "text/html": [
       "<div>\n",
       "<style scoped>\n",
       "    .dataframe tbody tr th:only-of-type {\n",
       "        vertical-align: middle;\n",
       "    }\n",
       "\n",
       "    .dataframe tbody tr th {\n",
       "        vertical-align: top;\n",
       "    }\n",
       "\n",
       "    .dataframe thead th {\n",
       "        text-align: right;\n",
       "    }\n",
       "</style>\n",
       "<table border=\"1\" class=\"dataframe\">\n",
       "  <thead>\n",
       "    <tr style=\"text-align: right;\">\n",
       "      <th></th>\n",
       "      <th>zipcode</th>\n",
       "      <th>population</th>\n",
       "      <th>sqkm</th>\n",
       "      <th>lat</th>\n",
       "      <th>lon</th>\n",
       "      <th>density</th>\n",
       "    </tr>\n",
       "  </thead>\n",
       "  <tbody>\n",
       "    <tr>\n",
       "      <th>0</th>\n",
       "      <td>80331</td>\n",
       "      <td>4741</td>\n",
       "      <td>0.782770</td>\n",
       "      <td>48.13575</td>\n",
       "      <td>11.57351</td>\n",
       "      <td>6056.696092</td>\n",
       "    </tr>\n",
       "    <tr>\n",
       "      <th>1</th>\n",
       "      <td>80333</td>\n",
       "      <td>11265</td>\n",
       "      <td>1.615148</td>\n",
       "      <td>48.14495</td>\n",
       "      <td>11.56824</td>\n",
       "      <td>6974.593040</td>\n",
       "    </tr>\n",
       "    <tr>\n",
       "      <th>2</th>\n",
       "      <td>80335</td>\n",
       "      <td>9042</td>\n",
       "      <td>1.697719</td>\n",
       "      <td>48.14657</td>\n",
       "      <td>11.55112</td>\n",
       "      <td>5325.969728</td>\n",
       "    </tr>\n",
       "    <tr>\n",
       "      <th>3</th>\n",
       "      <td>80336</td>\n",
       "      <td>8103</td>\n",
       "      <td>1.568529</td>\n",
       "      <td>48.13101</td>\n",
       "      <td>11.55228</td>\n",
       "      <td>5165.986730</td>\n",
       "    </tr>\n",
       "    <tr>\n",
       "      <th>4</th>\n",
       "      <td>80337</td>\n",
       "      <td>15280</td>\n",
       "      <td>1.046991</td>\n",
       "      <td>48.12675</td>\n",
       "      <td>11.55904</td>\n",
       "      <td>14594.203771</td>\n",
       "    </tr>\n",
       "  </tbody>\n",
       "</table>\n",
       "</div>"
      ],
      "text/plain": [
       "   zipcode  population      sqkm       lat       lon       density\n",
       "0    80331        4741  0.782770  48.13575  11.57351   6056.696092\n",
       "1    80333       11265  1.615148  48.14495  11.56824   6974.593040\n",
       "2    80335        9042  1.697719  48.14657  11.55112   5325.969728\n",
       "3    80336        8103  1.568529  48.13101  11.55228   5165.986730\n",
       "4    80337       15280  1.046991  48.12675  11.55904  14594.203771"
      ]
     },
     "execution_count": 2,
     "metadata": {},
     "output_type": "execute_result"
    }
   ],
   "source": [
    "df_pop = pd.read_csv(\"../data/munich_pop.csv\").rename(columns={\"plz\": \"zipcode\",\n",
    "                                                              \"einwohner\": \"population\",\n",
    "                                                              \"qkm\": \"sqkm\",\n",
    "                                                              \"Density\": \"density\"}\n",
    "                                                     )\n",
    "df_pop.drop(\"note\", axis=1, inplace=True)\n",
    "df_pop.astype({'zipcode':'str'})\n",
    "df_pop.head()"
   ]
  },
  {
   "cell_type": "code",
   "execution_count": 3,
   "id": "85d5d208-4ef2-43a6-bb08-2fcefba14a80",
   "metadata": {},
   "outputs": [
    {
     "name": "stdout",
     "output_type": "stream",
     "text": [
      "<class 'pandas.core.frame.DataFrame'>\n",
      "RangeIndex: 75 entries, 0 to 74\n",
      "Data columns (total 6 columns):\n",
      " #   Column      Non-Null Count  Dtype  \n",
      "---  ------      --------------  -----  \n",
      " 0   zipcode     75 non-null     int64  \n",
      " 1   population  75 non-null     int64  \n",
      " 2   sqkm        75 non-null     float64\n",
      " 3   lat         75 non-null     float64\n",
      " 4   lon         75 non-null     float64\n",
      " 5   density     75 non-null     float64\n",
      "dtypes: float64(4), int64(2)\n",
      "memory usage: 3.6 KB\n"
     ]
    }
   ],
   "source": [
    "df_pop.info()"
   ]
  },
  {
   "cell_type": "code",
   "execution_count": 11,
   "id": "cba9657e-0fd7-4857-8d33-fa76cc6fe3f7",
   "metadata": {},
   "outputs": [
    {
     "data": {
      "text/plain": [
       "75"
      ]
     },
     "execution_count": 11,
     "metadata": {},
     "output_type": "execute_result"
    }
   ],
   "source": [
    "df_pop.zipcode.nunique()"
   ]
  },
  {
   "cell_type": "markdown",
   "id": "bf8d866a-5bd7-4825-89f5-21368f8a0913",
   "metadata": {},
   "source": [
    "### Read in physitionas data and add a zipcode column"
   ]
  },
  {
   "cell_type": "code",
   "execution_count": 4,
   "id": "fe2f9e32-2dea-47dc-94db-2be4b0e45901",
   "metadata": {},
   "outputs": [
    {
     "data": {
      "text/html": [
       "<div>\n",
       "<style scoped>\n",
       "    .dataframe tbody tr th:only-of-type {\n",
       "        vertical-align: middle;\n",
       "    }\n",
       "\n",
       "    .dataframe tbody tr th {\n",
       "        vertical-align: top;\n",
       "    }\n",
       "\n",
       "    .dataframe thead th {\n",
       "        text-align: right;\n",
       "    }\n",
       "</style>\n",
       "<table border=\"1\" class=\"dataframe\">\n",
       "  <thead>\n",
       "    <tr style=\"text-align: right;\">\n",
       "      <th></th>\n",
       "      <th>name</th>\n",
       "      <th>expertise</th>\n",
       "      <th>distance</th>\n",
       "      <th>street_and_house_no</th>\n",
       "      <th>zipcode_and_city</th>\n",
       "      <th>telephone</th>\n",
       "      <th>lat</th>\n",
       "      <th>lon</th>\n",
       "    </tr>\n",
       "  </thead>\n",
       "  <tbody>\n",
       "    <tr>\n",
       "      <th>0</th>\n",
       "      <td>Frau Dr. med. Christa Hutterer</td>\n",
       "      <td>Fachärztin für Diagnostische Radiologie, Fachä...</td>\n",
       "      <td>0.1 km</td>\n",
       "      <td>Kaufingerstraße 15</td>\n",
       "      <td>80331 München-Altstadt-Lehel</td>\n",
       "      <td>089 / 2 00 01 43 - 50</td>\n",
       "      <td>48.137815</td>\n",
       "      <td>11.571804</td>\n",
       "    </tr>\n",
       "    <tr>\n",
       "      <th>1</th>\n",
       "      <td>Herr Dr. med. Josef J. Dohrenbusch</td>\n",
       "      <td>Facharzt für Allgemeinmedizin</td>\n",
       "      <td>0.1 km</td>\n",
       "      <td>Kaufingerstraße 12</td>\n",
       "      <td>80331 München</td>\n",
       "      <td>089 / 24 20 93 98</td>\n",
       "      <td>48.137615</td>\n",
       "      <td>11.573961</td>\n",
       "    </tr>\n",
       "    <tr>\n",
       "      <th>2</th>\n",
       "      <td>Frau Dr. med. Heidi Herrmann</td>\n",
       "      <td>Fachärztin für Innere Medizin</td>\n",
       "      <td>0.1 km</td>\n",
       "      <td>Altheimer Eck 2</td>\n",
       "      <td>80331 München</td>\n",
       "      <td>089 / 45 22 81 81</td>\n",
       "      <td>48.137541</td>\n",
       "      <td>11.571022</td>\n",
       "    </tr>\n",
       "    <tr>\n",
       "      <th>3</th>\n",
       "      <td>Herr Dr. med. (univ.) Thomas Wendel</td>\n",
       "      <td>Praktischer Arzt</td>\n",
       "      <td>0.1 km</td>\n",
       "      <td>Altheimer Eck 10</td>\n",
       "      <td>80331 München</td>\n",
       "      <td>089 / 89 67 40 20</td>\n",
       "      <td>48.137505</td>\n",
       "      <td>11.570328</td>\n",
       "    </tr>\n",
       "    <tr>\n",
       "      <th>4</th>\n",
       "      <td>Frau Dr. med. Sabine Konz</td>\n",
       "      <td>Praktische Ärztin</td>\n",
       "      <td>0.2 km</td>\n",
       "      <td>Eisenmannstraße 4</td>\n",
       "      <td>80331 München</td>\n",
       "      <td>089 / 37 02 97 67</td>\n",
       "      <td>48.137763</td>\n",
       "      <td>11.569028</td>\n",
       "    </tr>\n",
       "  </tbody>\n",
       "</table>\n",
       "</div>"
      ],
      "text/plain": [
       "                                  name  \\\n",
       "0       Frau Dr. med. Christa Hutterer   \n",
       "1   Herr Dr. med. Josef J. Dohrenbusch   \n",
       "2         Frau Dr. med. Heidi Herrmann   \n",
       "3  Herr Dr. med. (univ.) Thomas Wendel   \n",
       "4            Frau Dr. med. Sabine Konz   \n",
       "\n",
       "                                           expertise distance  \\\n",
       "0  Fachärztin für Diagnostische Radiologie, Fachä...   0.1 km   \n",
       "1                      Facharzt für Allgemeinmedizin   0.1 km   \n",
       "2                      Fachärztin für Innere Medizin   0.1 km   \n",
       "3                                   Praktischer Arzt   0.1 km   \n",
       "4                                  Praktische Ärztin   0.2 km   \n",
       "\n",
       "  street_and_house_no              zipcode_and_city              telephone  \\\n",
       "0  Kaufingerstraße 15  80331 München-Altstadt-Lehel  089 / 2 00 01 43 - 50   \n",
       "1  Kaufingerstraße 12                 80331 München      089 / 24 20 93 98   \n",
       "2     Altheimer Eck 2                 80331 München      089 / 45 22 81 81   \n",
       "3    Altheimer Eck 10                 80331 München      089 / 89 67 40 20   \n",
       "4   Eisenmannstraße 4                 80331 München      089 / 37 02 97 67   \n",
       "\n",
       "         lat        lon  \n",
       "0  48.137815  11.571804  \n",
       "1  48.137615  11.573961  \n",
       "2  48.137541  11.571022  \n",
       "3  48.137505  11.570328  \n",
       "4  48.137763  11.569028  "
      ]
     },
     "execution_count": 4,
     "metadata": {},
     "output_type": "execute_result"
    }
   ],
   "source": [
    "df_phys = pd.read_csv(\"../data/physicians_with_coordinates.csv\", index_col=0)\n",
    "df_phys.head()"
   ]
  },
  {
   "cell_type": "code",
   "execution_count": 5,
   "id": "eaf170d7-c1ec-47d0-a0dd-cc5ddff524a8",
   "metadata": {},
   "outputs": [
    {
     "data": {
      "text/html": [
       "<div>\n",
       "<style scoped>\n",
       "    .dataframe tbody tr th:only-of-type {\n",
       "        vertical-align: middle;\n",
       "    }\n",
       "\n",
       "    .dataframe tbody tr th {\n",
       "        vertical-align: top;\n",
       "    }\n",
       "\n",
       "    .dataframe thead th {\n",
       "        text-align: right;\n",
       "    }\n",
       "</style>\n",
       "<table border=\"1\" class=\"dataframe\">\n",
       "  <thead>\n",
       "    <tr style=\"text-align: right;\">\n",
       "      <th></th>\n",
       "      <th>name</th>\n",
       "      <th>expertise</th>\n",
       "      <th>distance</th>\n",
       "      <th>street_and_house_no</th>\n",
       "      <th>zipcode_and_city</th>\n",
       "      <th>telephone</th>\n",
       "      <th>lat</th>\n",
       "      <th>lon</th>\n",
       "      <th>zipcode</th>\n",
       "    </tr>\n",
       "  </thead>\n",
       "  <tbody>\n",
       "    <tr>\n",
       "      <th>0</th>\n",
       "      <td>Frau Dr. med. Christa Hutterer</td>\n",
       "      <td>Fachärztin für Diagnostische Radiologie, Fachä...</td>\n",
       "      <td>0.1 km</td>\n",
       "      <td>Kaufingerstraße 15</td>\n",
       "      <td>80331 München-Altstadt-Lehel</td>\n",
       "      <td>089 / 2 00 01 43 - 50</td>\n",
       "      <td>48.137815</td>\n",
       "      <td>11.571804</td>\n",
       "      <td>80331</td>\n",
       "    </tr>\n",
       "    <tr>\n",
       "      <th>1</th>\n",
       "      <td>Herr Dr. med. Josef J. Dohrenbusch</td>\n",
       "      <td>Facharzt für Allgemeinmedizin</td>\n",
       "      <td>0.1 km</td>\n",
       "      <td>Kaufingerstraße 12</td>\n",
       "      <td>80331 München</td>\n",
       "      <td>089 / 24 20 93 98</td>\n",
       "      <td>48.137615</td>\n",
       "      <td>11.573961</td>\n",
       "      <td>80331</td>\n",
       "    </tr>\n",
       "    <tr>\n",
       "      <th>2</th>\n",
       "      <td>Frau Dr. med. Heidi Herrmann</td>\n",
       "      <td>Fachärztin für Innere Medizin</td>\n",
       "      <td>0.1 km</td>\n",
       "      <td>Altheimer Eck 2</td>\n",
       "      <td>80331 München</td>\n",
       "      <td>089 / 45 22 81 81</td>\n",
       "      <td>48.137541</td>\n",
       "      <td>11.571022</td>\n",
       "      <td>80331</td>\n",
       "    </tr>\n",
       "    <tr>\n",
       "      <th>3</th>\n",
       "      <td>Herr Dr. med. (univ.) Thomas Wendel</td>\n",
       "      <td>Praktischer Arzt</td>\n",
       "      <td>0.1 km</td>\n",
       "      <td>Altheimer Eck 10</td>\n",
       "      <td>80331 München</td>\n",
       "      <td>089 / 89 67 40 20</td>\n",
       "      <td>48.137505</td>\n",
       "      <td>11.570328</td>\n",
       "      <td>80331</td>\n",
       "    </tr>\n",
       "    <tr>\n",
       "      <th>4</th>\n",
       "      <td>Frau Dr. med. Sabine Konz</td>\n",
       "      <td>Praktische Ärztin</td>\n",
       "      <td>0.2 km</td>\n",
       "      <td>Eisenmannstraße 4</td>\n",
       "      <td>80331 München</td>\n",
       "      <td>089 / 37 02 97 67</td>\n",
       "      <td>48.137763</td>\n",
       "      <td>11.569028</td>\n",
       "      <td>80331</td>\n",
       "    </tr>\n",
       "  </tbody>\n",
       "</table>\n",
       "</div>"
      ],
      "text/plain": [
       "                                  name  \\\n",
       "0       Frau Dr. med. Christa Hutterer   \n",
       "1   Herr Dr. med. Josef J. Dohrenbusch   \n",
       "2         Frau Dr. med. Heidi Herrmann   \n",
       "3  Herr Dr. med. (univ.) Thomas Wendel   \n",
       "4            Frau Dr. med. Sabine Konz   \n",
       "\n",
       "                                           expertise distance  \\\n",
       "0  Fachärztin für Diagnostische Radiologie, Fachä...   0.1 km   \n",
       "1                      Facharzt für Allgemeinmedizin   0.1 km   \n",
       "2                      Fachärztin für Innere Medizin   0.1 km   \n",
       "3                                   Praktischer Arzt   0.1 km   \n",
       "4                                  Praktische Ärztin   0.2 km   \n",
       "\n",
       "  street_and_house_no              zipcode_and_city              telephone  \\\n",
       "0  Kaufingerstraße 15  80331 München-Altstadt-Lehel  089 / 2 00 01 43 - 50   \n",
       "1  Kaufingerstraße 12                 80331 München      089 / 24 20 93 98   \n",
       "2     Altheimer Eck 2                 80331 München      089 / 45 22 81 81   \n",
       "3    Altheimer Eck 10                 80331 München      089 / 89 67 40 20   \n",
       "4   Eisenmannstraße 4                 80331 München      089 / 37 02 97 67   \n",
       "\n",
       "         lat        lon zipcode  \n",
       "0  48.137815  11.571804   80331  \n",
       "1  48.137615  11.573961   80331  \n",
       "2  48.137541  11.571022   80331  \n",
       "3  48.137505  11.570328   80331  \n",
       "4  48.137763  11.569028   80331  "
      ]
     },
     "execution_count": 5,
     "metadata": {},
     "output_type": "execute_result"
    }
   ],
   "source": [
    "df_phys[\"zipcode\"] = df_phys[\"zipcode_and_city\"].apply(lambda x: x.split(' ')[0])\n",
    "df_phys.head()"
   ]
  },
  {
   "cell_type": "code",
   "execution_count": 6,
   "id": "e76c08eb-5469-41fd-a48d-4bb0fd080d88",
   "metadata": {},
   "outputs": [
    {
     "data": {
      "text/html": [
       "<div>\n",
       "<style scoped>\n",
       "    .dataframe tbody tr th:only-of-type {\n",
       "        vertical-align: middle;\n",
       "    }\n",
       "\n",
       "    .dataframe tbody tr th {\n",
       "        vertical-align: top;\n",
       "    }\n",
       "\n",
       "    .dataframe thead th {\n",
       "        text-align: right;\n",
       "    }\n",
       "</style>\n",
       "<table border=\"1\" class=\"dataframe\">\n",
       "  <thead>\n",
       "    <tr style=\"text-align: right;\">\n",
       "      <th></th>\n",
       "      <th>zipcode</th>\n",
       "      <th>physicians_count</th>\n",
       "    </tr>\n",
       "  </thead>\n",
       "  <tbody>\n",
       "    <tr>\n",
       "      <th>0</th>\n",
       "      <td>80331</td>\n",
       "      <td>174</td>\n",
       "    </tr>\n",
       "    <tr>\n",
       "      <th>1</th>\n",
       "      <td>80333</td>\n",
       "      <td>102</td>\n",
       "    </tr>\n",
       "    <tr>\n",
       "      <th>2</th>\n",
       "      <td>80335</td>\n",
       "      <td>71</td>\n",
       "    </tr>\n",
       "    <tr>\n",
       "      <th>3</th>\n",
       "      <td>80336</td>\n",
       "      <td>108</td>\n",
       "    </tr>\n",
       "    <tr>\n",
       "      <th>4</th>\n",
       "      <td>80337</td>\n",
       "      <td>50</td>\n",
       "    </tr>\n",
       "  </tbody>\n",
       "</table>\n",
       "</div>"
      ],
      "text/plain": [
       "  zipcode  physicians_count\n",
       "0   80331               174\n",
       "1   80333               102\n",
       "2   80335                71\n",
       "3   80336               108\n",
       "4   80337                50"
      ]
     },
     "execution_count": 6,
     "metadata": {},
     "output_type": "execute_result"
    }
   ],
   "source": [
    "df_phys_by_zipcode = df_phys.groupby(\"zipcode\").agg(physicians_count=('name','count')).reset_index()\n",
    "df_phys_by_zipcode.astype({'zipcode':'str'})\n",
    "df_phys_by_zipcode.head()"
   ]
  },
  {
   "cell_type": "code",
   "execution_count": 7,
   "id": "cfd3c4a2-3ac9-4469-9e15-4a0de492885d",
   "metadata": {},
   "outputs": [
    {
     "name": "stdout",
     "output_type": "stream",
     "text": [
      "<class 'pandas.core.frame.DataFrame'>\n",
      "RangeIndex: 55 entries, 0 to 54\n",
      "Data columns (total 2 columns):\n",
      " #   Column            Non-Null Count  Dtype \n",
      "---  ------            --------------  ----- \n",
      " 0   zipcode           55 non-null     object\n",
      " 1   physicians_count  55 non-null     int64 \n",
      "dtypes: int64(1), object(1)\n",
      "memory usage: 1008.0+ bytes\n"
     ]
    }
   ],
   "source": [
    "df_phys_by_zipcode.info()"
   ]
  },
  {
   "cell_type": "code",
   "execution_count": 8,
   "id": "16a79546-2a59-4ceb-a42a-9856617a83d1",
   "metadata": {},
   "outputs": [
    {
     "name": "stdout",
     "output_type": "stream",
     "text": [
      "<class 'pandas.core.frame.DataFrame'>\n",
      "RangeIndex: 55 entries, 0 to 54\n",
      "Data columns (total 2 columns):\n",
      " #   Column            Non-Null Count  Dtype\n",
      "---  ------            --------------  -----\n",
      " 0   zipcode           55 non-null     int64\n",
      " 1   physicians_count  55 non-null     int64\n",
      "dtypes: int64(2)\n",
      "memory usage: 1008.0 bytes\n"
     ]
    }
   ],
   "source": [
    "df_phys_by_zipcode = df_phys_by_zipcode.astype({'zipcode': 'int64'})\n",
    "df_phys_by_zipcode.info()"
   ]
  },
  {
   "cell_type": "code",
   "execution_count": 12,
   "id": "754da361-4c1c-4bbc-b491-6cc3d17c8cc0",
   "metadata": {},
   "outputs": [
    {
     "data": {
      "text/plain": [
       "55"
      ]
     },
     "execution_count": 12,
     "metadata": {},
     "output_type": "execute_result"
    }
   ],
   "source": [
    "df_phys_by_zipcode.zipcode.nunique()"
   ]
  },
  {
   "cell_type": "code",
   "execution_count": 9,
   "id": "0c2ac568-57b8-49c9-a4f0-c410933a686d",
   "metadata": {},
   "outputs": [
    {
     "data": {
      "text/html": [
       "<div>\n",
       "<style scoped>\n",
       "    .dataframe tbody tr th:only-of-type {\n",
       "        vertical-align: middle;\n",
       "    }\n",
       "\n",
       "    .dataframe tbody tr th {\n",
       "        vertical-align: top;\n",
       "    }\n",
       "\n",
       "    .dataframe thead th {\n",
       "        text-align: right;\n",
       "    }\n",
       "</style>\n",
       "<table border=\"1\" class=\"dataframe\">\n",
       "  <thead>\n",
       "    <tr style=\"text-align: right;\">\n",
       "      <th></th>\n",
       "      <th>zipcode</th>\n",
       "      <th>population</th>\n",
       "      <th>sqkm</th>\n",
       "      <th>lat</th>\n",
       "      <th>lon</th>\n",
       "      <th>density</th>\n",
       "      <th>physicians_count</th>\n",
       "    </tr>\n",
       "  </thead>\n",
       "  <tbody>\n",
       "    <tr>\n",
       "      <th>0</th>\n",
       "      <td>80331</td>\n",
       "      <td>4741</td>\n",
       "      <td>0.782770</td>\n",
       "      <td>48.13575</td>\n",
       "      <td>11.57351</td>\n",
       "      <td>6056.696092</td>\n",
       "      <td>174</td>\n",
       "    </tr>\n",
       "    <tr>\n",
       "      <th>1</th>\n",
       "      <td>80333</td>\n",
       "      <td>11265</td>\n",
       "      <td>1.615148</td>\n",
       "      <td>48.14495</td>\n",
       "      <td>11.56824</td>\n",
       "      <td>6974.593040</td>\n",
       "      <td>102</td>\n",
       "    </tr>\n",
       "    <tr>\n",
       "      <th>2</th>\n",
       "      <td>80335</td>\n",
       "      <td>9042</td>\n",
       "      <td>1.697719</td>\n",
       "      <td>48.14657</td>\n",
       "      <td>11.55112</td>\n",
       "      <td>5325.969728</td>\n",
       "      <td>71</td>\n",
       "    </tr>\n",
       "    <tr>\n",
       "      <th>3</th>\n",
       "      <td>80336</td>\n",
       "      <td>8103</td>\n",
       "      <td>1.568529</td>\n",
       "      <td>48.13101</td>\n",
       "      <td>11.55228</td>\n",
       "      <td>5165.986730</td>\n",
       "      <td>108</td>\n",
       "    </tr>\n",
       "    <tr>\n",
       "      <th>4</th>\n",
       "      <td>80337</td>\n",
       "      <td>15280</td>\n",
       "      <td>1.046991</td>\n",
       "      <td>48.12675</td>\n",
       "      <td>11.55904</td>\n",
       "      <td>14594.203771</td>\n",
       "      <td>50</td>\n",
       "    </tr>\n",
       "  </tbody>\n",
       "</table>\n",
       "</div>"
      ],
      "text/plain": [
       "   zipcode  population      sqkm       lat       lon       density  \\\n",
       "0    80331        4741  0.782770  48.13575  11.57351   6056.696092   \n",
       "1    80333       11265  1.615148  48.14495  11.56824   6974.593040   \n",
       "2    80335        9042  1.697719  48.14657  11.55112   5325.969728   \n",
       "3    80336        8103  1.568529  48.13101  11.55228   5165.986730   \n",
       "4    80337       15280  1.046991  48.12675  11.55904  14594.203771   \n",
       "\n",
       "   physicians_count  \n",
       "0               174  \n",
       "1               102  \n",
       "2                71  \n",
       "3               108  \n",
       "4                50  "
      ]
     },
     "execution_count": 9,
     "metadata": {},
     "output_type": "execute_result"
    }
   ],
   "source": [
    "df_merged = df_pop.merge(df_phys_by_zipcode)\n",
    "df_merged.head()"
   ]
  },
  {
   "cell_type": "code",
   "execution_count": 10,
   "id": "468bf0b6-dd04-4632-8cdb-589f3eb140a5",
   "metadata": {},
   "outputs": [
    {
     "name": "stdout",
     "output_type": "stream",
     "text": [
      "<class 'pandas.core.frame.DataFrame'>\n",
      "RangeIndex: 53 entries, 0 to 52\n",
      "Data columns (total 7 columns):\n",
      " #   Column            Non-Null Count  Dtype  \n",
      "---  ------            --------------  -----  \n",
      " 0   zipcode           53 non-null     int64  \n",
      " 1   population        53 non-null     int64  \n",
      " 2   sqkm              53 non-null     float64\n",
      " 3   lat               53 non-null     float64\n",
      " 4   lon               53 non-null     float64\n",
      " 5   density           53 non-null     float64\n",
      " 6   physicians_count  53 non-null     int64  \n",
      "dtypes: float64(4), int64(3)\n",
      "memory usage: 3.0 KB\n"
     ]
    }
   ],
   "source": [
    "df_merged.info()"
   ]
  }
 ],
 "metadata": {
  "kernelspec": {
   "display_name": "VIZ",
   "language": "python",
   "name": "viz"
  },
  "language_info": {
   "codemirror_mode": {
    "name": "ipython",
    "version": 3
   },
   "file_extension": ".py",
   "mimetype": "text/x-python",
   "name": "python",
   "nbconvert_exporter": "python",
   "pygments_lexer": "ipython3",
   "version": "3.10.13"
  }
 },
 "nbformat": 4,
 "nbformat_minor": 5
}
