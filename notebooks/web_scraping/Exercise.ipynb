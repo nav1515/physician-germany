{
 "cells": [
  {
   "cell_type": "code",
   "execution_count": 91,
   "id": "61761e89-4ea8-4eb4-af33-092c8161148d",
   "metadata": {
    "tags": []
   },
   "outputs": [],
   "source": [
    "import requests\n",
    "from bs4 import BeautifulSoup\n",
    "import pandas as pd\n",
    "import numpy as np\n",
    "from tqdm import tqdm"
   ]
  },
  {
   "cell_type": "code",
   "execution_count": 99,
   "id": "1b86b2ce-0e90-4f76-9fe2-97d5b0a583a6",
   "metadata": {
    "tags": []
   },
   "outputs": [],
   "source": [
    "def loadDataframe(soup, df, position):\n",
    "    job_dict = {}\n",
    "    for jobs in soup.find_all('div', {'data-feat':\"searched_jobs\"}):\n",
    "        job_dict['title'] = jobs.find('span', {'class':'iDyMWN'}).get_text()\n",
    "        job_dict['date_posted'] = jobs.find('span', {'class':'eEFkdA'}).get_text().split(':')[1].strip()\n",
    "        job_dict['location'] = jobs.find('p', {'class':'cMsiEU'}).get_text()\n",
    "        job_dict['company'] = jobs.find('div', {'class':'gNMZoz'}).get_text()\n",
    "        job_dict['category'] = position\n",
    "        job_dict['url'] = f\"https://www.jobs.ch{jobs.find('a', {'class':'zoplL'}).get('href')}\"\n",
    "        # print(job_dict['url'])\n",
    "\n",
    "        job_df = pd.DataFrame(job_dict, index=[0])\n",
    "\n",
    "        df = pd.concat([df, job_df], ignore_index=True)\n",
    "\n",
    "        job_dict = {}\n",
    "    return(df)"
   ]
  },
  {
   "cell_type": "code",
   "execution_count": 89,
   "id": "921def16-26d1-4fb6-ade8-9eea145f17f8",
   "metadata": {
    "tags": []
   },
   "outputs": [],
   "source": [
    "pd.set_option('display.max_rows', None)\n",
    "pd.set_option('display.max_columns', None)\n",
    "pd.set_option('display.width', None)\n",
    "pd.set_option('display.max_colwidth', None)"
   ]
  },
  {
   "cell_type": "code",
   "execution_count": 104,
   "id": "835fcc0c-cf5b-4eed-ba7f-0e9279138b7d",
   "metadata": {
    "tags": []
   },
   "outputs": [
    {
     "name": "stderr",
     "output_type": "stream",
     "text": [
      "Running position: Data Scientist:   0%|                                                           | 0/8 [00:00<?, ?it/s]"
     ]
    },
    {
     "name": "stdout",
     "output_type": "stream",
     "text": [
      "Size of Data Frame:  420 current url:  https://www.jobs.ch/en/vacancies/?page=21&term=Data%20Scientist\r"
     ]
    },
    {
     "name": "stderr",
     "output_type": "stream",
     "text": [
      "Running position: Data Scientist:  12%|██████▍                                            | 1/8 [00:22<02:40, 22.91s/it]"
     ]
    },
    {
     "name": "stdout",
     "output_type": "stream",
     "text": [
      "Size of Data Frame:  888 current url:  https://www.jobs.ch/en/vacancies/?page=23&term=Data%20Analystst\r"
     ]
    },
    {
     "name": "stderr",
     "output_type": "stream",
     "text": [
      "Running position: Data Scientist:  25%|████████████▊                                      | 2/8 [00:48<02:28, 24.73s/it]"
     ]
    },
    {
     "name": "stdout",
     "output_type": "stream",
     "text": [
      "Size of Data Frame:  1006 current url:  https://www.jobs.ch/en/vacancies/?page=5&term=Python%20Developer\r"
     ]
    },
    {
     "name": "stderr",
     "output_type": "stream",
     "text": [
      "Running position: Data Scientist:  38%|███████████████████▏                               | 3/8 [00:55<01:21, 16.24s/it]"
     ]
    },
    {
     "name": "stdout",
     "output_type": "stream",
     "text": [
      "Size of Data Frame:  2296 current url:  https://www.jobs.ch/en/vacancies/?page=64&term=Data%20Engineerer\r"
     ]
    },
    {
     "name": "stderr",
     "output_type": "stream",
     "text": [
      "Running position: Data Scientist:  50%|█████████████████████████▌                         | 4/8 [02:04<02:29, 37.38s/it]"
     ]
    },
    {
     "name": "stdout",
     "output_type": "stream",
     "text": [
      "Size of Data Frame:  4044 current url:  https://www.jobs.ch/en/vacancies/?page=87&term=Data%20Managerr\r"
     ]
    },
    {
     "name": "stderr",
     "output_type": "stream",
     "text": [
      "Running position: Data Scientist:  62%|███████████████████████████████▉                   | 5/8 [03:41<02:56, 58.68s/it]"
     ]
    },
    {
     "name": "stdout",
     "output_type": "stream",
     "text": [
      "Size of Data Frame:  4302 current url:  https://www.jobs.ch/en/vacancies/?page=12&term=Data%20Architect\r"
     ]
    },
    {
     "name": "stderr",
     "output_type": "stream",
     "text": [
      "Running position: Data Scientist:  75%|██████████████████████████████████████▎            | 6/8 [03:56<01:27, 43.84s/it]"
     ]
    },
    {
     "name": "stdout",
     "output_type": "stream",
     "text": [
      "Size of Data Frame:  4467 current url:  https://www.jobs.ch/en/vacancies/?page=8&term=Big%20Data%20Analyst\r"
     ]
    },
    {
     "name": "stderr",
     "output_type": "stream",
     "text": [
      "Running position: Data Scientist:  88%|████████████████████████████████████████████▋      | 7/8 [04:08<00:33, 33.51s/it]"
     ]
    },
    {
     "name": "stdout",
     "output_type": "stream",
     "text": [
      "Size of Data Frame:  5045 current url:  https://www.jobs.ch/en/vacancies/?page=28&term=Data%20Pythonnalyst\r"
     ]
    },
    {
     "name": "stderr",
     "output_type": "stream",
     "text": [
      "Running position: Data Scientist: 100%|███████████████████████████████████████████████████| 8/8 [04:40<00:00, 35.08s/it]"
     ]
    },
    {
     "name": "stdout",
     "output_type": "stream",
     "text": [
      "Size of Data Frame:  5052 current url:  https://www.jobs.ch/en/vacancies/?page=29&term=Data%20Python\r"
     ]
    },
    {
     "name": "stderr",
     "output_type": "stream",
     "text": [
      "\n"
     ]
    },
    {
     "data": {
      "text/html": [
       "<div>\n",
       "<style scoped>\n",
       "    .dataframe tbody tr th:only-of-type {\n",
       "        vertical-align: middle;\n",
       "    }\n",
       "\n",
       "    .dataframe tbody tr th {\n",
       "        vertical-align: top;\n",
       "    }\n",
       "\n",
       "    .dataframe thead th {\n",
       "        text-align: right;\n",
       "    }\n",
       "</style>\n",
       "<table border=\"1\" class=\"dataframe\">\n",
       "  <thead>\n",
       "    <tr style=\"text-align: right;\">\n",
       "      <th></th>\n",
       "      <th>title</th>\n",
       "      <th>date_posted</th>\n",
       "      <th>location</th>\n",
       "      <th>company</th>\n",
       "      <th>category</th>\n",
       "      <th>url</th>\n",
       "    </tr>\n",
       "  </thead>\n",
       "  <tbody>\n",
       "    <tr>\n",
       "      <th>5042</th>\n",
       "      <td>Ph.D. student position in laser ablation (LA)</td>\n",
       "      <td>14 November 2023</td>\n",
       "      <td>Basel</td>\n",
       "      <td>Universität Basel</td>\n",
       "      <td>Data Python</td>\n",
       "      <td>https://www.jobs.ch/en/vacancies/detail/48ec0787-f4ab-4834-92ac-f23dfa0fb456/?source=vacancy_search</td>\n",
       "    </tr>\n",
       "    <tr>\n",
       "      <th>5043</th>\n",
       "      <td>Senior DevOps Engineer</td>\n",
       "      <td>18 August 2023</td>\n",
       "      <td>Zürich Oerlikon</td>\n",
       "      <td>PDF Tools AG</td>\n",
       "      <td>Data Python</td>\n",
       "      <td>https://www.jobs.ch/en/vacancies/detail/53aae677-7ba4-481f-905d-b02f8001f4b8/?source=vacancy_search</td>\n",
       "    </tr>\n",
       "    <tr>\n",
       "      <th>5044</th>\n",
       "      <td>Digital Manufacturing Consultant Industry X (all genders)</td>\n",
       "      <td>07 November 2023</td>\n",
       "      <td>Basel|Bern|Geneve|Lugano|Zurich</td>\n",
       "      <td>Accenture</td>\n",
       "      <td>Data Python</td>\n",
       "      <td>https://www.jobs.ch/en/vacancies/detail/f989f47a-7577-42a0-a14e-eca381a75994/?source=vacancy_search</td>\n",
       "    </tr>\n",
       "    <tr>\n",
       "      <th>5045</th>\n",
       "      <td>Senior Consultant - FS Treasury and Liquidity Risk Consulting</td>\n",
       "      <td>14 November 2023</td>\n",
       "      <td>Zürich</td>\n",
       "      <td>KPMG</td>\n",
       "      <td>Data Python</td>\n",
       "      <td>https://www.jobs.ch/en/vacancies/detail/3c78d516-b709-46e0-b52e-d0332b29ed28/?source=vacancy_search</td>\n",
       "    </tr>\n",
       "    <tr>\n",
       "      <th>5046</th>\n",
       "      <td>2 PhD positions: Real structure of materials with local lattice instabilities 100%, Zurich, fixed-term</td>\n",
       "      <td>25 October 2023</td>\n",
       "      <td>Zurich</td>\n",
       "      <td>ETH Zürich</td>\n",
       "      <td>Data Python</td>\n",
       "      <td>https://www.jobs.ch/en/vacancies/detail/9c6a15eb-27ec-429f-ac10-2e80a8ddb703/?source=vacancy_search</td>\n",
       "    </tr>\n",
       "    <tr>\n",
       "      <th>5047</th>\n",
       "      <td>Senior DevOps Engineer</td>\n",
       "      <td>07 November 2023</td>\n",
       "      <td>Zürich</td>\n",
       "      <td></td>\n",
       "      <td>Data Python</td>\n",
       "      <td>https://www.jobs.ch/en/vacancies/detail/f7e25b6a-9bd6-4e63-96cd-c8b68d66edf8/?source=vacancy_search</td>\n",
       "    </tr>\n",
       "    <tr>\n",
       "      <th>5048</th>\n",
       "      <td>Un poste d'assistant-e doctorant-e à 100%</td>\n",
       "      <td>12 October 2023</td>\n",
       "      <td>Genève</td>\n",
       "      <td>Université de Genève</td>\n",
       "      <td>Data Python</td>\n",
       "      <td>https://www.jobs.ch/en/vacancies/detail/7b296b13-1faa-4e56-9c5c-7f8519c34193/?source=vacancy_search</td>\n",
       "    </tr>\n",
       "    <tr>\n",
       "      <th>5049</th>\n",
       "      <td>Senior Consultant - FS Treasury and Liquidity Risk Consulting</td>\n",
       "      <td>15 November 2023</td>\n",
       "      <td>Zürich</td>\n",
       "      <td>KPMG</td>\n",
       "      <td>Data Python</td>\n",
       "      <td>https://www.jobs.ch/en/vacancies/detail/baf10d37-6838-4872-8326-8e79073c8e9b/?source=vacancy_search</td>\n",
       "    </tr>\n",
       "    <tr>\n",
       "      <th>5050</th>\n",
       "      <td>Revolutionize enterprise search with Generative AI - Internship 6 months COO_IT</td>\n",
       "      <td>31 October 2023</td>\n",
       "      <td>Geneva</td>\n",
       "      <td></td>\n",
       "      <td>Data Python</td>\n",
       "      <td>https://www.jobs.ch/en/vacancies/detail/0f2c58ea-5326-41c2-ab3a-236bdbce3324/?source=vacancy_search</td>\n",
       "    </tr>\n",
       "    <tr>\n",
       "      <th>5051</th>\n",
       "      <td>Administrateur de base de données de production/Administratrice de base de données de production H/F</td>\n",
       "      <td>14 November 2023</td>\n",
       "      <td>Lausanne</td>\n",
       "      <td>CA Indosuez (Switzerland) SA</td>\n",
       "      <td>Data Python</td>\n",
       "      <td>https://www.jobs.ch/en/vacancies/detail/a399114f-af72-4f9a-815e-43d5847feeb6/?source=vacancy_search</td>\n",
       "    </tr>\n",
       "  </tbody>\n",
       "</table>\n",
       "</div>"
      ],
      "text/plain": [
       "                                                                                                       title  \\\n",
       "5042                                                           Ph.D. student position in laser ablation (LA)   \n",
       "5043                                                                                  Senior DevOps Engineer   \n",
       "5044                                               Digital Manufacturing Consultant Industry X (all genders)   \n",
       "5045                                           Senior Consultant - FS Treasury and Liquidity Risk Consulting   \n",
       "5046  2 PhD positions: Real structure of materials with local lattice instabilities 100%, Zurich, fixed-term   \n",
       "5047                                                                                  Senior DevOps Engineer   \n",
       "5048                                                               Un poste d'assistant-e doctorant-e à 100%   \n",
       "5049                                           Senior Consultant - FS Treasury and Liquidity Risk Consulting   \n",
       "5050                         Revolutionize enterprise search with Generative AI - Internship 6 months COO_IT   \n",
       "5051    Administrateur de base de données de production/Administratrice de base de données de production H/F   \n",
       "\n",
       "           date_posted                         location  \\\n",
       "5042  14 November 2023                            Basel   \n",
       "5043    18 August 2023                  Zürich Oerlikon   \n",
       "5044  07 November 2023  Basel|Bern|Geneve|Lugano|Zurich   \n",
       "5045  14 November 2023                           Zürich   \n",
       "5046   25 October 2023                           Zurich   \n",
       "5047  07 November 2023                           Zürich   \n",
       "5048   12 October 2023                           Genève   \n",
       "5049  15 November 2023                           Zürich   \n",
       "5050   31 October 2023                           Geneva   \n",
       "5051  14 November 2023                         Lausanne   \n",
       "\n",
       "                           company     category  \\\n",
       "5042             Universität Basel  Data Python   \n",
       "5043                  PDF Tools AG  Data Python   \n",
       "5044                     Accenture  Data Python   \n",
       "5045                          KPMG  Data Python   \n",
       "5046                    ETH Zürich  Data Python   \n",
       "5047                                Data Python   \n",
       "5048          Université de Genève  Data Python   \n",
       "5049                          KPMG  Data Python   \n",
       "5050                                Data Python   \n",
       "5051  CA Indosuez (Switzerland) SA  Data Python   \n",
       "\n",
       "                                                                                                      url  \n",
       "5042  https://www.jobs.ch/en/vacancies/detail/48ec0787-f4ab-4834-92ac-f23dfa0fb456/?source=vacancy_search  \n",
       "5043  https://www.jobs.ch/en/vacancies/detail/53aae677-7ba4-481f-905d-b02f8001f4b8/?source=vacancy_search  \n",
       "5044  https://www.jobs.ch/en/vacancies/detail/f989f47a-7577-42a0-a14e-eca381a75994/?source=vacancy_search  \n",
       "5045  https://www.jobs.ch/en/vacancies/detail/3c78d516-b709-46e0-b52e-d0332b29ed28/?source=vacancy_search  \n",
       "5046  https://www.jobs.ch/en/vacancies/detail/9c6a15eb-27ec-429f-ac10-2e80a8ddb703/?source=vacancy_search  \n",
       "5047  https://www.jobs.ch/en/vacancies/detail/f7e25b6a-9bd6-4e63-96cd-c8b68d66edf8/?source=vacancy_search  \n",
       "5048  https://www.jobs.ch/en/vacancies/detail/7b296b13-1faa-4e56-9c5c-7f8519c34193/?source=vacancy_search  \n",
       "5049  https://www.jobs.ch/en/vacancies/detail/baf10d37-6838-4872-8326-8e79073c8e9b/?source=vacancy_search  \n",
       "5050  https://www.jobs.ch/en/vacancies/detail/0f2c58ea-5326-41c2-ab3a-236bdbce3324/?source=vacancy_search  \n",
       "5051  https://www.jobs.ch/en/vacancies/detail/a399114f-af72-4f9a-815e-43d5847feeb6/?source=vacancy_search  "
      ]
     },
     "execution_count": 104,
     "metadata": {},
     "output_type": "execute_result"
    }
   ],
   "source": [
    "# https://www.jobs.ch/en/vacancies/?term=data%20scientist\n",
    "# https://www.jobs.ch/en/vacancies/?page=2&term=data%20scientist\n",
    "\n",
    "positions = [\n",
    "    \"Data Scientist\",\n",
    "    \"Data Analyst\",\n",
    "    \"Python Developer\",\n",
    "    \"Data Engineer\",\n",
    "    \"Data Manager\",\n",
    "    \"Data Architect\",\n",
    "    \"Big Data Analyst\",\n",
    "    \"Data Python\"\n",
    "]\n",
    "\n",
    "df = pd.DataFrame()\n",
    "\n",
    "\n",
    "for position in tqdm(positions, desc=f\"Running position: {position}\"):\n",
    "    r = requests.get('https://www.jobs.ch/en/vacancies', params={'term':position})\n",
    "    soup = BeautifulSoup(r.text, 'html.parser')\n",
    "    page_numbers = int(soup.find('span', {'class':'Span-sc-1ybanni-0 Text__span-sc-1lu7urs-12 Text-sc-1lu7urs-13 cUwwWd'}).get_text().split('/')[1].strip())\n",
    "    df = loadDataframe(soup, df, position)\n",
    "    # df\n",
    "    for page in range(2, page_numbers+1):\n",
    "        payload = {'page':page, 'term':position}\n",
    "        r = requests.get('https://www.jobs.ch/en/vacancies', params=payload)\n",
    "        if(r.status_code == 200):\n",
    "            # print('current url: ', r.url, end='\\r')\n",
    "            soup = BeautifulSoup(r.text, 'html.parser')\n",
    "            df = loadDataframe(soup, df, position)\n",
    "        else:\n",
    "            print('Error reading webpage', r.url, ' with error status code: ', r.status_code)\n",
    "        print('Size of Data Frame: ', len(df), 'current url: ', r.url, end='\\r')\n",
    "df.tail(10)"
   ]
  },
  {
   "cell_type": "markdown",
   "id": "1b16c43b-55a3-4793-8c84-3cf936a4c2f2",
   "metadata": {},
   "source": [
    "# Number of Jobs that are Duplicate"
   ]
  },
  {
   "cell_type": "code",
   "execution_count": 114,
   "id": "1c3e743e-7314-44f2-a848-32c5dccc4826",
   "metadata": {
    "tags": []
   },
   "outputs": [
    {
     "data": {
      "text/plain": [
       "3484"
      ]
     },
     "execution_count": 114,
     "metadata": {},
     "output_type": "execute_result"
    }
   ],
   "source": [
    "len(df) - len(df.drop_duplicates(['title','date_posted','location','company']))"
   ]
  },
  {
   "cell_type": "markdown",
   "id": "d37e791f-bb59-4514-828a-f510f6a3dafc",
   "metadata": {},
   "source": []
  }
 ],
 "metadata": {
  "kernelspec": {
   "display_name": "Python 3 (ipykernel)",
   "language": "python",
   "name": "python3"
  },
  "language_info": {
   "codemirror_mode": {
    "name": "ipython",
    "version": 3
   },
   "file_extension": ".py",
   "mimetype": "text/x-python",
   "name": "python",
   "nbconvert_exporter": "python",
   "pygments_lexer": "ipython3",
   "version": "3.10.13"
  }
 },
 "nbformat": 4,
 "nbformat_minor": 5
}
