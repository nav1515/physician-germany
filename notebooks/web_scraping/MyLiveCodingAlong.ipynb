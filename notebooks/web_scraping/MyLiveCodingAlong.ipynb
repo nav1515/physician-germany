{
 "cells": [
  {
   "cell_type": "code",
   "execution_count": 1,
   "id": "74116995-ae36-4d6d-a09d-233898836313",
   "metadata": {
    "tags": []
   },
   "outputs": [],
   "source": [
    "import requests\n",
    "from bs4 import BeautifulSoup\n",
    "import pandas as pd"
   ]
  },
  {
   "cell_type": "code",
   "execution_count": 2,
   "id": "bd827ad3-82ba-4e0a-8dc4-77247033acc3",
   "metadata": {
    "tags": []
   },
   "outputs": [
    {
     "data": {
      "text/plain": [
       "200"
      ]
     },
     "execution_count": 2,
     "metadata": {},
     "output_type": "execute_result"
    }
   ],
   "source": [
    "page = requests.get(\"https://www.jobs.ch/en/vacancies/?term=data%20scientist\")\n",
    "page.status_code"
   ]
  },
  {
   "cell_type": "code",
   "execution_count": 9,
   "id": "969b583d-64d6-4fda-b3ce-f0f0846dd723",
   "metadata": {
    "tags": []
   },
   "outputs": [],
   "source": [
    "soup = BeautifulSoup(page.content, \"html.parser\")\n",
    "# soup.prettify\n",
    "# soup"
   ]
  },
  {
   "cell_type": "code",
   "execution_count": 10,
   "id": "28aebf18-e95a-4189-9d57-cf62198c77f2",
   "metadata": {
    "tags": []
   },
   "outputs": [
    {
     "data": {
      "text/plain": [
       "<a class=\"A-sc-1q4zv2a-0 hPPUKb Link-sc-czsz28-2 bzpUGN\" href=\"https://www.mozilla.org/en-US/firefox/new/\" rel=\"noopener nofollow\" target=\"_blank\">Firefox</a>"
      ]
     },
     "execution_count": 10,
     "metadata": {},
     "output_type": "execute_result"
    }
   ],
   "source": [
    "soup.find('a')"
   ]
  },
  {
   "cell_type": "code",
   "execution_count": 12,
   "id": "829780b1-81fd-4c1d-a250-95ea0d7b399e",
   "metadata": {
    "tags": []
   },
   "outputs": [
    {
     "data": {
      "text/plain": [
       "82"
      ]
     },
     "execution_count": 12,
     "metadata": {},
     "output_type": "execute_result"
    }
   ],
   "source": [
    "len(soup.find_all('a'))"
   ]
  },
  {
   "cell_type": "code",
   "execution_count": 13,
   "id": "91aef125-5f41-45e7-b481-37fbedfafc6c",
   "metadata": {
    "tags": []
   },
   "outputs": [
    {
     "data": {
      "text/plain": [
       "'https://www.mozilla.org/en-US/firefox/new/'"
      ]
     },
     "execution_count": 13,
     "metadata": {},
     "output_type": "execute_result"
    }
   ],
   "source": [
    "soup.find('a').get(\"href\")"
   ]
  },
  {
   "cell_type": "code",
   "execution_count": 14,
   "id": "6112bd9b-6a43-4036-abf4-ee5ce3cc2ff6",
   "metadata": {
    "tags": []
   },
   "outputs": [
    {
     "data": {
      "text/plain": [
       "\"\\n\\n\\n\\n\\n\\n\\n\\n\\n430 Data scientist jobs - jobs.ch\\n\\n\\n\\n\\n\\n\\n\\n\\n\\n\\n\\n\\n\\n\\n\\n\\n\\n\\n\\n\\n\\n\\n\\n\\n\\n\\n\\n\\n\\n\\n\\n\\n\\n\\n\\n\\n\\n\\n\\n\\n\\n\\n\\n\\n\\n\\n\\n\\n\\n\\n\\n\\n\\n\\nYou are currently using an obsolete browser which is no longer 100% supported. It can cause display problems.Please upgrade your browser.Some alternatives: Firefox, Chrome.Skip to contentjobs.ch Navigation logoFind a jobExplore companiesCompare salariesRecruiter AreaDeutschFrançaisEnglishLoginFind a jobExplore companiesCompare salariesRecruiter AreaMy accountLoginDon't have an account yet?Sign upSelect LanguageDeutschFrançaisEnglishProfession, keywords or companydata scientistPlace of work or regionChoose a regionSearchAll filtersPublished sinceWorkloadOccupational fieldEmployment typeLanguageAll filtersReset filters430 Data scientist job offersBy dateBy relevancePublished: 20 November 202320 NovData Scientist/in IIIZimmerwald50%Unlimited employmentSchweizer Armee - Kommando Cyber Kdo Cy Published: 09 November 202309 NovData Scientist (80-100%)Bern80% – 100%Unlimited employmentAlliance SwissPass Published: 09 November 202309 NovData Analyst / Data Scientist (m/w) 50 - 100%Aarau50% – 100%TemporaryKanton Aargau Published: 03 November 202303 NovSenior Data Quality Manager (alle)Wallisellen80% – 100%Unlimited employmentMigros Bank AG Published: 10 November 202310 NovSchnittstellen- und Datenspezialistin/DatenspezialistMuri AG80% – 100%Unlimited employmentSpital Muri Published: 21 November 202321 NovData Analyst / IT Auditor (studienbegleitend) 40-60% (w/m/d)Zürich40% – 60%Unlimited employmentSwiss Life AG Published: 20 November 202320 NovData Analyst (w/m/d)Zürich60% – 100%Unlimited employmentMigros-Genossenschafts-Bund Published: 18 November 202318 NovData Analyst (w/m/d)Bern80% – 100%Unlimited employmentEidgenössisches Institut für Geistiges Eigentum Published: 07 November 202307 NovData Analyst:in 50 - 100%Bärau50% – 80%Unlimited employmentStiftung Lebensart Published: 13 November 202313 NovReference Data Analyst (One-year contract with potential for extension)Baar100%TemporaryGlencore International AG Published: 24 October 202324 OctScientific Data SpecialistBern80% – 100%Unlimited employmentHCI Solutions AG Published: 25 October 202325 OctMachine Learning Specialist6032100%Unlimited employmentSwisens AG Published: 01 November 202301 NovData Engineer (w/m/d | 100 %)Zizers100%Unlimited employmentINTEGRA Biosciences AG Published: 21 November 202321 NovData ScientistSchaffhausen80% – 100%Unlimited employmentGeorg Fischer Published: 13 November 202313 NovData ScientistBern80%Unlimited employmentSchweizerisches Bundesarchiv BAR Published: 13 November 202313 NovData ScientistZimmerwald60% – 80%Unlimited employmentSchweizer Armee - Kommando Cyber Kdo Cy Published: 10 November 202310 NovInnovation Fellow Data ScientistIttigen und Remote80% – 100%Unlimited employmentBundesamt für Umwelt BAFU Published: 20 November 202320 NovData Scientist (w/m/d)Zürich60% – 100%Unlimited employmentMigros-Genossenschafts-Bund Published: 21 November 202321 NovSenior Data Scientist (f/m/d) 80-100%Muttenz80% – 100%Unlimited employmentValora Group Published: 26 October 202326 OctData Scientist / Data Engineer im FinanzbereichBern80% – 100%Unlimited employmentEidgenössische Finanzverwaltung EFV 1 / 22Page  1 out of 22NextData Scientist/in IIISchweizer Armee - Kommando Cyber Kdo CyApplySave for laterPublication date:20 November 2023Workload:50%Contract:Unlimited employmentLanguage:German (Fluent), French (Fluent)Place of work:Eichacher, 3086\\xa0ZimmerwaldSchweizer Armee - Kommando Cyber Kdo Cy sucht:Data Scientist/in III Data Scientist/in III   50%-50% / Zimmerwald   Ihr Einsatz für Sicherheit und Freiheit Als Data Scientist/in III verstärken Sie ein Data Science Team im Bereich der Datenfusion und -Analyse von erfassten zivilen und militärischen Kommunikationsdaten. Die damit gewonnenen nachrichtendienstlichen Erkenntnisse speisen die NDB (Nachrichtendienst des Bundes) und MND (militärischer Nachrichtendienst) und dienen so zur Sicherheitspolitik der Schweiz. In diesem spannenden Umfeld sind Sie fachlich federführend bei der Definition und Umsetzung der Data Governance. Der Teilbereich Cyber und EM Aktionen gehört ab Januar 2024 zum zukünftigen Kommando Cyber und stellt als Kompetenzzentrum Aufträge für elektronische Operationen in den elektromagnetischen und Cyber-Räumen der Armee sicher.  Ihre Aufgaben     Strategie und Prozesse rund um die Data Governance sowie die Adaption leichtgewichtiger Standards (z.B. ISO 25012) abgestimmt auf das Zentrum für elektronische Operationen formulieren Technische Massnahmen zur Einhaltung der Data Governance in Zusammenarbeit mit den Data Engineers und Data Scientists umsetzten Fachverantwortung für die wichtigsten technischen Aspekte der Compliance sowie die Vertretung der Data Governance gegenüber Aufsichtsbehörden tragen Neue Konzepte, Technologien und Schemata auf das Potential bezüglich Data Governance prüfen Die Qualitätssicherung des Nutzdatenflusses verantworten, das Data Dictionary pflegen, die Klassifizierung automatisieren und Daten mit klassischer Analytik und Maschine-Learning überwachen   Ihr Profil     Universitärer Abschluss mit Bezug zur wissenschaftlichen Analyse von grossen Datenmengen (z.B. Physik, Statistik, Chemie, Biologie, Erdwissenschaften, Sprachwissenschaften oder Computerwissenschaften) Fundierte und mehrjährige Erfahrung in einem oder mehreren Bereichen: Analytics, Master Data Management, Data Warehousing, Business Intelligence, Data Engineering, Data Quality Management oder Statistics Die Statistischen und explorativen Datenanalyseverfahren anwenden (z.B. mit SQL und Mathematica, Jupyter) Fähigkeit vage geschäftliche Anforderungen in konkrete Handlungsrichtlinien umzusetzen Gute aktive Kenntnisse zweier Amtssprachen und wenn möglich passive Kenntnisse der dritten Amtssprache sowie sehr gute Englischkenntnisse Einwandfreiem Leumund   Zusätzliche Informationen  Für weitere Auskünfte wenden Sie sich bitte an:Marcel Matthey-Doret, Chef Sektion Technologie und Entwicklung,+41 58 467 84 09 Eine Anstellung bei der Schweizer Armee macht Sinn und bringt viele Vorteile mit sich. Überzeugen Sie sich auf armee.ch/vorteile   Über uns  Das Kommando Cyber (Kdo Cy) steht für Kompetenz in den Bereichen Cyber und Digitalisierung. Wir vereinen die Begeisterung für unsere Aufgabe mit Knowhow, Innovation, modernsten Technologien und agilen Arbeitsweisen. Wir erbringen sichere, robuste und resiliente Informatikleistungen für die Schweizer Armee und unsere Partner im Sicherheitsverbund Schweiz. Damit ermöglicht das Kdo Cy der Schweizer Armee den notwendigen Wissens- und Entscheidvorsprung – für eine sichere Schweiz. Eichacher, 3086 Wald Die Bundesverwaltung achtet die unterschiedlichen Bedürfnisse und Lebenserfahrungen ihrer Mitarbeitenden und fördert deren Vielfalt. Gleichbehandlung geniesst höchste Priorität. Frauen sind in unserer Verwaltungseinheit untervertreten. Ihre Bewerbungen sind deshalb besonders willkommen.ContactSchweizer Armee - Kommando Cyber Kdo CySave for laterApplyOpen in new tabCategories:Information Technology / Telecom. , Database Specialists / DevelopmentYou also find this job inZürichBaselBernZurich greater areaGenèveLausanneSchlierenNeuchatelAarauChiassoDübendorfStartJob Offersdata scientistAbout usJob PortalsAbout jobs.chTeamCareerInfoNew JobsTerms & ConditionsPrivacy policyCookie settingsTechnical informationCooperationInternationaljobs.ch Navigation logoCompany searchSitemapContact© 2023 JobCloud AGDeutschFrançaisEnglish\\n\\n\\n\\n\\n\\n\\n\""
      ]
     },
     "execution_count": 14,
     "metadata": {},
     "output_type": "execute_result"
    }
   ],
   "source": [
    "soup.get_text()"
   ]
  },
  {
   "cell_type": "code",
   "execution_count": 16,
   "id": "7e41a818-b701-42f6-ba56-b2a177cf382d",
   "metadata": {
    "tags": []
   },
   "outputs": [
    {
     "data": {
      "text/plain": [
       "21"
      ]
     },
     "execution_count": 16,
     "metadata": {},
     "output_type": "execute_result"
    }
   ],
   "source": [
    "len(soup.find_all('a', {'data-cy':'job-link'}))"
   ]
  },
  {
   "cell_type": "code",
   "execution_count": 18,
   "id": "c86a3bc1-5bfc-4098-887a-45c26fc3d01e",
   "metadata": {
    "tags": []
   },
   "outputs": [
    {
     "data": {
      "text/plain": [
       "{'data-cy': 'job-link',\n",
       " 'tabindex': '0',\n",
       " 'title': 'Data Scientist/in III',\n",
       " 'class': ['Link__ExtendedRR6Link-sc-czsz28-1',\n",
       "  'kZzJcl',\n",
       "  'Link-sc-czsz28-2',\n",
       "  'VacancyLink___StyledLink-sc-ufp08j-0',\n",
       "  'bzpUGN',\n",
       "  'zoplL'],\n",
       " 'href': '/en/vacancies/detail/d17e176f-9d16-419d-9888-326ae6d1bbb7/?source=vacancy_search'}"
      ]
     },
     "execution_count": 18,
     "metadata": {},
     "output_type": "execute_result"
    }
   ],
   "source": [
    "soup.find_all('a', {'data-cy':'job-link'})[0].attrs"
   ]
  },
  {
   "cell_type": "code",
   "execution_count": 19,
   "id": "31c2346f-65be-4f10-b2ce-e1fad8fd2c8a",
   "metadata": {
    "tags": []
   },
   "outputs": [
    {
     "data": {
      "text/plain": [
       "'/en/vacancies/detail/37da0f27-7a83-4242-a7a1-acd904d1d22a/?source=vacancy_search'"
      ]
     },
     "execution_count": 19,
     "metadata": {},
     "output_type": "execute_result"
    }
   ],
   "source": [
    "soup.find_all('a', {'data-cy':'job-link'})[5].get(\"href\")"
   ]
  },
  {
   "cell_type": "code",
   "execution_count": 20,
   "id": "2d532b1e-a08a-4b66-9737-49555e45c867",
   "metadata": {
    "tags": []
   },
   "outputs": [
    {
     "data": {
      "text/plain": [
       "20"
      ]
     },
     "execution_count": 20,
     "metadata": {},
     "output_type": "execute_result"
    }
   ],
   "source": [
    "len(soup.find_all('article', {'class':'Div-sc-1cpunnt-0'}))"
   ]
  },
  {
   "cell_type": "code",
   "execution_count": 21,
   "id": "4ffef751-6b1e-4729-875e-6202410da600",
   "metadata": {
    "tags": []
   },
   "outputs": [
    {
     "data": {
      "text/plain": [
       "bs4.element.ResultSet"
      ]
     },
     "execution_count": 21,
     "metadata": {},
     "output_type": "execute_result"
    }
   ],
   "source": [
    "jobs = soup.find_all('article', {'class':'Div-sc-1cpunnt-0'})\n",
    "type(jobs)"
   ]
  },
  {
   "cell_type": "code",
   "execution_count": null,
   "id": "46a0720e-f8fd-4b89-9551-5f400fe458f1",
   "metadata": {},
   "outputs": [],
   "source": []
  }
 ],
 "metadata": {
  "kernelspec": {
   "display_name": "Python 3 (ipykernel)",
   "language": "python",
   "name": "python3"
  },
  "language_info": {
   "codemirror_mode": {
    "name": "ipython",
    "version": 3
   },
   "file_extension": ".py",
   "mimetype": "text/x-python",
   "name": "python",
   "nbconvert_exporter": "python",
   "pygments_lexer": "ipython3",
   "version": "3.10.13"
  }
 },
 "nbformat": 4,
 "nbformat_minor": 5
}
