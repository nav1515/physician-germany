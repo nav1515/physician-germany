{
 "cells": [
  {
   "cell_type": "code",
   "execution_count": 1,
   "id": "9e910055-d3f2-4bb6-a6e5-19783f17af32",
   "metadata": {},
   "outputs": [],
   "source": [
    "import requests\n",
    "from bs4 import BeautifulSoup\n",
    "import pandas as pd"
   ]
  },
  {
   "cell_type": "markdown",
   "id": "0e9aa8ce-2520-4b6d-a86d-0560a9ce6cb4",
   "metadata": {},
   "source": [
    "https://www.jobs.ch/en/vacancies/?term=data%20scientist"
   ]
  },
  {
   "cell_type": "code",
   "execution_count": 2,
   "id": "d9d189bf-2c39-413b-beb3-0c82ea91a12b",
   "metadata": {},
   "outputs": [
    {
     "data": {
      "text/plain": [
       "200"
      ]
     },
     "execution_count": 2,
     "metadata": {},
     "output_type": "execute_result"
    }
   ],
   "source": [
    "page = requests.get(\"https://www.jobs.ch/en/vacancies/?term=data%20scientist\")\n",
    "page.status_code"
   ]
  },
  {
   "cell_type": "code",
   "execution_count": 3,
   "id": "4265e0a7-6995-4e7f-80a2-8972372af2b3",
   "metadata": {},
   "outputs": [],
   "source": [
    "# page.text\n",
    "# page.content"
   ]
  },
  {
   "cell_type": "code",
   "execution_count": 4,
   "id": "4e9b5715-2446-4bc8-96ba-6a24414b7928",
   "metadata": {},
   "outputs": [],
   "source": [
    "soup = BeautifulSoup(page.content, \"html.parser\")"
   ]
  },
  {
   "cell_type": "code",
   "execution_count": 5,
   "id": "6dec4a3a-b36f-4e79-b823-76bcbf4d40f9",
   "metadata": {},
   "outputs": [],
   "source": [
    "# soup.prettify()"
   ]
  },
  {
   "cell_type": "code",
   "execution_count": 6,
   "id": "d43e0196-d0a8-45f8-88ef-1d6e0f1a6f0e",
   "metadata": {},
   "outputs": [
    {
     "data": {
      "text/plain": [
       "<a class=\"A-sc-1q4zv2a-0 hPPUKb Link-sc-czsz28-2 bzpUGN\" href=\"https://www.mozilla.org/en-US/firefox/new/\" rel=\"noopener nofollow\" target=\"_blank\">Firefox</a>"
      ]
     },
     "execution_count": 6,
     "metadata": {},
     "output_type": "execute_result"
    }
   ],
   "source": [
    "soup.find('a')"
   ]
  },
  {
   "cell_type": "code",
   "execution_count": 7,
   "id": "4328c379-0cd5-4828-8b5a-c54b9deefcb5",
   "metadata": {},
   "outputs": [
    {
     "data": {
      "text/plain": [
       "82"
      ]
     },
     "execution_count": 7,
     "metadata": {},
     "output_type": "execute_result"
    }
   ],
   "source": [
    "len(soup.find_all('a'))"
   ]
  },
  {
   "cell_type": "code",
   "execution_count": 8,
   "id": "5d827080-89eb-40df-bbc6-f454b823e48d",
   "metadata": {},
   "outputs": [
    {
     "data": {
      "text/plain": [
       "'https://www.mozilla.org/en-US/firefox/new/'"
      ]
     },
     "execution_count": 8,
     "metadata": {},
     "output_type": "execute_result"
    }
   ],
   "source": [
    "soup.find('a').get(\"href\")"
   ]
  },
  {
   "cell_type": "code",
   "execution_count": 9,
   "id": "e506b57b-74b2-402c-af8c-b76de45e64e7",
   "metadata": {},
   "outputs": [],
   "source": [
    "# soup.get_text()"
   ]
  },
  {
   "cell_type": "code",
   "execution_count": 10,
   "id": "afd79681-cac2-47b9-aef0-cafd0f826d93",
   "metadata": {},
   "outputs": [
    {
     "data": {
      "text/plain": [
       "21"
      ]
     },
     "execution_count": 10,
     "metadata": {},
     "output_type": "execute_result"
    }
   ],
   "source": [
    "len(soup.find_all('a', {'data-cy':\"job-link\"}))"
   ]
  },
  {
   "cell_type": "code",
   "execution_count": 11,
   "id": "2d1446a2-c376-4435-a05a-730a86a71c3e",
   "metadata": {},
   "outputs": [
    {
     "data": {
      "text/plain": [
       "{'data-cy': 'job-link',\n",
       " 'tabindex': '0',\n",
       " 'title': 'Data Scientist/in III',\n",
       " 'class': ['Link__ExtendedRR6Link-sc-czsz28-1',\n",
       "  'kZzJcl',\n",
       "  'Link-sc-czsz28-2',\n",
       "  'VacancyLink___StyledLink-sc-ufp08j-0',\n",
       "  'bzpUGN',\n",
       "  'zoplL'],\n",
       " 'href': '/en/vacancies/detail/d17e176f-9d16-419d-9888-326ae6d1bbb7/?source=vacancy_search',\n",
       " 'target': '_blank'}"
      ]
     },
     "execution_count": 11,
     "metadata": {},
     "output_type": "execute_result"
    }
   ],
   "source": [
    "soup.find_all('a', {'data-cy':\"job-link\"})[20].attrs"
   ]
  },
  {
   "cell_type": "code",
   "execution_count": 12,
   "id": "ba7f1e1a-a4b6-44e2-bcf8-51e30579e4e7",
   "metadata": {},
   "outputs": [
    {
     "data": {
      "text/plain": [
       "{'data-cy': 'job-link',\n",
       " 'tabindex': '0',\n",
       " 'title': 'Data Analyst / IT Auditor (studienbegleitend) 40-60% (w/m/d)',\n",
       " 'class': ['Link__ExtendedRR6Link-sc-czsz28-1',\n",
       "  'kZzJcl',\n",
       "  'Link-sc-czsz28-2',\n",
       "  'VacancyLink___StyledLink-sc-ufp08j-0',\n",
       "  'bzpUGN',\n",
       "  'zoplL'],\n",
       " 'href': '/en/vacancies/detail/37da0f27-7a83-4242-a7a1-acd904d1d22a/?source=vacancy_search'}"
      ]
     },
     "execution_count": 12,
     "metadata": {},
     "output_type": "execute_result"
    }
   ],
   "source": [
    "soup.find_all('a', {'data-cy':\"job-link\"})[5].attrs"
   ]
  },
  {
   "cell_type": "code",
   "execution_count": 13,
   "id": "b8db12c0-2ae4-44f2-946b-8911eb07a09d",
   "metadata": {},
   "outputs": [
    {
     "data": {
      "text/plain": [
       "'/en/vacancies/detail/37da0f27-7a83-4242-a7a1-acd904d1d22a/?source=vacancy_search'"
      ]
     },
     "execution_count": 13,
     "metadata": {},
     "output_type": "execute_result"
    }
   ],
   "source": [
    "soup.find_all('a', {'data-cy':\"job-link\"})[5].get(\"href\")"
   ]
  },
  {
   "cell_type": "code",
   "execution_count": 14,
   "id": "c421d896-c1ce-4dcd-92f9-a48b57cb903f",
   "metadata": {},
   "outputs": [
    {
     "data": {
      "text/plain": [
       "20"
      ]
     },
     "execution_count": 14,
     "metadata": {},
     "output_type": "execute_result"
    }
   ],
   "source": [
    "len(soup.find_all('article', {'class':'Div-sc-1cpunnt-0'}))"
   ]
  },
  {
   "cell_type": "code",
   "execution_count": 15,
   "id": "50b21850-14d9-43b5-8b78-9944f95b95da",
   "metadata": {},
   "outputs": [
    {
     "data": {
      "text/plain": [
       "bs4.element.ResultSet"
      ]
     },
     "execution_count": 15,
     "metadata": {},
     "output_type": "execute_result"
    }
   ],
   "source": [
    "jobs = soup.find_all('article', {'class':'Div-sc-1cpunnt-0'})\n",
    "type(jobs)"
   ]
  },
  {
   "cell_type": "code",
   "execution_count": 16,
   "id": "e981a776-285e-4aa4-aaa6-b0a4d6fef3b4",
   "metadata": {},
   "outputs": [
    {
     "data": {
      "text/plain": [
       "20"
      ]
     },
     "execution_count": 16,
     "metadata": {},
     "output_type": "execute_result"
    }
   ],
   "source": [
    "len(jobs)"
   ]
  },
  {
   "cell_type": "code",
   "execution_count": 17,
   "id": "3430785c-efd5-43d5-8d71-794397fc8a84",
   "metadata": {},
   "outputs": [
    {
     "data": {
      "text/plain": [
       "['https://www.jobs.ch/en/vacancies/detail/d17e176f-9d16-419d-9888-326ae6d1bbb7/?source=vacancy_search',\n",
       " 'https://www.jobs.ch/en/vacancies/detail/279cbbb2-f5f7-4d69-91de-05283280c0a3/?source=vacancy_search',\n",
       " 'https://www.jobs.ch/en/vacancies/detail/41516732-073b-4c95-9d64-965a387fae9b/?source=vacancy_search',\n",
       " 'https://www.jobs.ch/en/vacancies/detail/d14536d0-9d0c-4861-aff5-78489f6e777a/?source=vacancy_search',\n",
       " 'https://www.jobs.ch/en/vacancies/detail/29c21adc-a7c7-4076-ad82-217491af0e0c/?source=vacancy_search',\n",
       " 'https://www.jobs.ch/en/vacancies/detail/37da0f27-7a83-4242-a7a1-acd904d1d22a/?source=vacancy_search',\n",
       " 'https://www.jobs.ch/en/vacancies/detail/ff25c5eb-b90e-4a1d-956f-305994e75a8d/?source=vacancy_search',\n",
       " 'https://www.jobs.ch/en/vacancies/detail/9f276f4f-d292-438c-9df8-8c288b6d77de/?source=vacancy_search',\n",
       " 'https://www.jobs.ch/en/vacancies/detail/191e0c81-dbd2-41e7-99e7-af73864e79e0/?source=vacancy_search',\n",
       " 'https://www.jobs.ch/en/vacancies/detail/bab6f960-016d-4298-8d79-4bc2be12fe39/?source=vacancy_search',\n",
       " 'https://www.jobs.ch/en/vacancies/detail/bb1ee828-00fb-4a1a-8112-ea6600e26da7/?source=vacancy_search',\n",
       " 'https://www.jobs.ch/en/vacancies/detail/9bdbe7fb-8b61-4a8a-bd75-628afb01523b/?source=vacancy_search',\n",
       " 'https://www.jobs.ch/en/vacancies/detail/ec1926d3-50ac-4a23-a0fe-6f8506dd90ea/?source=vacancy_search',\n",
       " 'https://www.jobs.ch/en/vacancies/detail/2d9caafa-9ac0-4490-93e1-95435af08c10/?source=vacancy_search',\n",
       " 'https://www.jobs.ch/en/vacancies/detail/186fd792-ba07-4db3-8d57-193f4f63df90/?source=vacancy_search',\n",
       " 'https://www.jobs.ch/en/vacancies/detail/a05b09bf-a3b3-49a6-beb4-f3f1f05d8346/?source=vacancy_search',\n",
       " 'https://www.jobs.ch/en/vacancies/detail/9a624d4a-4746-424b-ad8f-e0f33196936b/?source=vacancy_search',\n",
       " 'https://www.jobs.ch/en/vacancies/detail/8d49b3ea-9f7c-4602-96b7-20f1d19b9741/?source=vacancy_search',\n",
       " 'https://www.jobs.ch/en/vacancies/detail/96d07fe7-faa7-4398-bc69-e3bfc175db4d/?source=vacancy_search',\n",
       " 'https://www.jobs.ch/en/vacancies/detail/ecdce263-bd59-4417-9e12-9903d0adca76/?source=vacancy_search']"
      ]
     },
     "execution_count": 17,
     "metadata": {},
     "output_type": "execute_result"
    }
   ],
   "source": [
    "links = []\n",
    "for job in jobs:\n",
    "    links.append(\"https://www.jobs.ch\" + job.find('a', {'data-cy':\"job-link\"}).get(\"href\"))\n",
    "links"
   ]
  },
  {
   "cell_type": "code",
   "execution_count": 18,
   "id": "fa3656e3-3dd4-4bb8-a256-5d1d889e0d0b",
   "metadata": {},
   "outputs": [
    {
     "data": {
      "text/plain": [
       "<span class=\"Span-sc-1ybanni-0 Text__span-sc-1lu7urs-12 Text-sc-1lu7urs-13 VacancySerpItemUpdated___StyledText2-sc-i0986f-4 doDVAK eqJMMs iDyMWN\">Data Analyst / IT Auditor (studienbegleitend) 40-60% (w/m/d)</span>"
      ]
     },
     "execution_count": 18,
     "metadata": {},
     "output_type": "execute_result"
    }
   ],
   "source": [
    "jobs[5].find('span', {'class': 'Span-sc-1ybanni-0 Text__span-sc-1lu7urs-12 Text-sc-1lu7urs-13 VacancySerpItemUpdated___StyledText2-sc-i0986f-4 doDVAK eqJMMs iDyMWN'})"
   ]
  },
  {
   "cell_type": "code",
   "execution_count": 19,
   "id": "6801801f-938a-42e3-ab62-1f0568430e9e",
   "metadata": {},
   "outputs": [
    {
     "data": {
      "text/plain": [
       "<span class=\"Span-sc-1ybanni-0 Text__span-sc-1lu7urs-12 Text-sc-1lu7urs-13 ftUOUz eEFkdA\">Published: 21 November 2023</span>"
      ]
     },
     "execution_count": 19,
     "metadata": {},
     "output_type": "execute_result"
    }
   ],
   "source": [
    "jobs[5].find('span', {'class': ['Text__span-sc-1lu7urs-12 Text-sc-1lu7urs-13', 'Span-sc-1ybanni-0', 'VacancySerpItemUpdated___StyledText2-sc-i0986f-4', 'doDVAK', 'eqJMMs', 'iDyMWN']})"
   ]
  },
  {
   "cell_type": "code",
   "execution_count": 20,
   "id": "81dff38b-fcda-4dec-8cd1-38ea145099c3",
   "metadata": {},
   "outputs": [
    {
     "data": {
      "text/plain": [
       "<span class=\"Span-sc-1ybanni-0 Text__span-sc-1lu7urs-12 Text-sc-1lu7urs-13 VacancySerpItemUpdated___StyledText2-sc-i0986f-4 doDVAK eqJMMs iDyMWN\">Data Analyst / IT Auditor (studienbegleitend) 40-60% (w/m/d)</span>"
      ]
     },
     "execution_count": 20,
     "metadata": {},
     "output_type": "execute_result"
    }
   ],
   "source": [
    "jobs[5].select_one('span.Text-sc-1lu7urs-13.iDyMWN.doDVAK.eqJMMs')"
   ]
  },
  {
   "cell_type": "code",
   "execution_count": 21,
   "id": "99ec3ec3-5524-4c41-8e8d-57b530ad4c89",
   "metadata": {},
   "outputs": [
    {
     "data": {
      "text/plain": [
       "'Data Analyst / IT Auditor (studienbegleitend) 40-60% (w/m/d)'"
      ]
     },
     "execution_count": 21,
     "metadata": {},
     "output_type": "execute_result"
    }
   ],
   "source": [
    "jobs[5].find('div', {'class': \"hzrWXY\"}).get_text()"
   ]
  },
  {
   "cell_type": "code",
   "execution_count": 22,
   "id": "288b475e-5fa0-400f-b5ae-9879f900ba99",
   "metadata": {},
   "outputs": [
    {
     "name": "stdout",
     "output_type": "stream",
     "text": [
      "Published: 18 November 202318 Nov\n",
      "Published: 18 November 2023\n",
      "18 Nov\n",
      "\n",
      "Data Analyst (w/m/d)\n",
      "\n",
      "Bern\n",
      "\n",
      "80% – 100%\n",
      "\n",
      "Unlimited employment\n",
      "Eidgenössisches Institut für Geistiges Eigentum\n"
     ]
    }
   ],
   "source": [
    "for tag in jobs[7].find_all([\"span\", \"p\"], {'class': \"Span-sc-1ybanni-0\"}):\n",
    "    print(tag.get_text())"
   ]
  },
  {
   "cell_type": "code",
   "execution_count": 23,
   "id": "eb82e5b8-e508-48c6-b078-349728dc5f01",
   "metadata": {},
   "outputs": [
    {
     "data": {
      "text/plain": [
       "{'position': 'Data Analyst (w/m/d)', 'location': 'Bern'}"
      ]
     },
     "execution_count": 23,
     "metadata": {},
     "output_type": "execute_result"
    }
   ],
   "source": [
    "job_info = {\n",
    "    \"position\": jobs[7].find_all([\"span\", \"p\"], {'class': \"Span-sc-1ybanni-0\"})[4].get_text(),\n",
    "    \"location\": jobs[7].find_all([\"span\", \"p\"], {'class': \"Span-sc-1ybanni-0\"})[6].get_text()\n",
    "}\n",
    "job_info"
   ]
  },
  {
   "cell_type": "code",
   "execution_count": 24,
   "id": "3f3eb87e-93ab-4d61-ac2e-6bba11a550b8",
   "metadata": {},
   "outputs": [
    {
     "name": "stdout",
     "output_type": "stream",
     "text": [
      "{'class': ['Span-sc-1ybanni-0', 'Text__span-sc-1lu7urs-12', 'Text-sc-1lu7urs-13', 'VacancySerpItemUpdated___StyledText2-sc-i0986f-4', 'doDVAK', 'eqJMMs', 'iDyMWN']} span Data Analyst (w/m/d)\n",
      "{'class': ['Span-sc-1ybanni-0', 'Text__span-sc-1lu7urs-12', 'Text-sc-1lu7urs-13', 'VacancySerpItemUpdated___StyledText2-sc-i0986f-4', 'doDVAK', 'eqJMMs', 'iDyMWN']} span Data Analyst (w/m/d)\n"
     ]
    }
   ],
   "source": [
    "# Get attributes from text search\n",
    "\n",
    "for tag in soup.find_all():\n",
    "    text = \"Data Analyst (w/m/d)\"\n",
    "    if text in tag:\n",
    "        print(tag.attrs, tag.name, tag.text)"
   ]
  },
  {
   "cell_type": "markdown",
   "id": "bfc02017-2d18-4d30-93fb-d22377301489",
   "metadata": {},
   "source": [
    "Get each tag individually"
   ]
  },
  {
   "cell_type": "code",
   "execution_count": 25,
   "id": "4ff77e9a-efdf-43d7-9244-c8319e9bf035",
   "metadata": {},
   "outputs": [
    {
     "data": {
      "text/plain": [
       "20"
      ]
     },
     "execution_count": 25,
     "metadata": {},
     "output_type": "execute_result"
    }
   ],
   "source": [
    "jobs = soup.find_all('div', {'data-feat':\"searched_jobs\"})\n",
    "len(jobs)"
   ]
  },
  {
   "cell_type": "code",
   "execution_count": 26,
   "id": "b39f9925-47e8-4539-86e5-377ad3fdf978",
   "metadata": {},
   "outputs": [
    {
     "data": {
      "text/plain": [
       "'Data Analyst (w/m/d)'"
      ]
     },
     "execution_count": 26,
     "metadata": {},
     "output_type": "execute_result"
    }
   ],
   "source": [
    "# title\n",
    "jobs[7].find('span', {'class': 'doDVAK'}).get_text()"
   ]
  },
  {
   "cell_type": "code",
   "execution_count": 27,
   "id": "1f8b8937-1ffa-467e-966c-25b5d38d89c1",
   "metadata": {},
   "outputs": [
    {
     "data": {
      "text/plain": [
       "'Eidgenössisches Institut für Geistiges Eigentum'"
      ]
     },
     "execution_count": 27,
     "metadata": {},
     "output_type": "execute_result"
    }
   ],
   "source": [
    "# location\n",
    "jobs[7].find('div', {'class': 'Div-sc-1cpunnt-0 Grid-sc-18fqjd1-0 gNMZoz'}).find(\"strong\").get_text()"
   ]
  },
  {
   "cell_type": "code",
   "execution_count": 28,
   "id": "81281fbc-8ca4-4d45-b25f-b34bd3008517",
   "metadata": {},
   "outputs": [
    {
     "data": {
      "text/plain": [
       "'18 November 2023'"
      ]
     },
     "execution_count": 28,
     "metadata": {},
     "output_type": "execute_result"
    }
   ],
   "source": [
    "# date\n",
    "jobs[7].find('p', {'class': 'geNnlb'}).find(\"span\", {'aria-hidden':\"true\"}).get(\"title\")"
   ]
  },
  {
   "cell_type": "code",
   "execution_count": 29,
   "id": "e8b95bb2-8f24-48c0-8975-0b06e4394f72",
   "metadata": {},
   "outputs": [
    {
     "data": {
      "text/plain": [
       "'/en/vacancies/detail/9f276f4f-d292-438c-9df8-8c288b6d77de/?source=vacancy_search'"
      ]
     },
     "execution_count": 29,
     "metadata": {},
     "output_type": "execute_result"
    }
   ],
   "source": [
    "# url\n",
    "jobs[7].find('a', {'data-cy':\"job-link\"}).get(\"href\")"
   ]
  },
  {
   "cell_type": "code",
   "execution_count": 32,
   "id": "3711df9d-74f6-408b-b0c6-bd0a85328a3f",
   "metadata": {},
   "outputs": [
    {
     "data": {
      "text/plain": [
       "'Data Analyst (w/m/d)'"
      ]
     },
     "execution_count": 32,
     "metadata": {},
     "output_type": "execute_result"
    }
   ],
   "source": [
    "jobs[7].find('span', {'class': 'doDVAK'}).get_text()"
   ]
  },
  {
   "cell_type": "code",
   "execution_count": 33,
   "id": "719addc7-78bb-41b1-b6a5-75882e5b22ab",
   "metadata": {},
   "outputs": [
    {
     "data": {
      "text/plain": [
       "22"
      ]
     },
     "execution_count": 33,
     "metadata": {},
     "output_type": "execute_result"
    }
   ],
   "source": [
    "number = \"1 / 22\"\n",
    "int(number.split(\"/\")[1].strip())"
   ]
  },
  {
   "cell_type": "code",
   "execution_count": 34,
   "id": "2a94d449-709b-4b85-a05f-1d0d2d1094c1",
   "metadata": {},
   "outputs": [],
   "source": [
    "df = pd.DataFrame(columns=[\"position\", \"title\", \"company\", \"date\", \"url\"])\n",
    "\n",
    "postions = [\n",
    "    \"data%20scientist\",\n",
    "    \"data%20engineer\"\n",
    "]\n",
    "\n",
    "headers = {'User-agent': \"Mozilla/5.0 (Windows NT 10.0; Win64; x64) AppleWebKit/537.36 (KHTML, like Gecko) Chrome/91.0.4472.124 Safari/537.36\"}\n",
    "   \n",
    "page = requests.get(\"https://www.jobs.ch/en/vacancies/?page=2&term=data%20scientist\", timeout=15, headers=headers)\n",
    "soup = BeautifulSoup(page.content, \"html.parser\")\n",
    "jobs = soup.find_all('div', {'data-feat':\"searched_jobs\"})\n",
    "\n",
    "# max_pages =  soup.find(??)#<--- ?\n",
    "for job in jobs:\n",
    "    try:\n",
    "        title = job.find('span', {'class': 'doDVAK'}).get_text()\n",
    "    except AttributeError:\n",
    "        title = None\n",
    "\n",
    "    try:\n",
    "        company = job.find('div', {'class': 'Div-sc-1cpunnt-0 Grid-sc-18fqjd1-0 gNMZoz'}).find(\"strong\").get_text()\n",
    "    except AttributeError:\n",
    "        company = None\n",
    "        \n",
    "    try:\n",
    "        date = job.find('p', {'class': 'geNnlb'}).find(\"span\", {'aria-hidden':\"true\"}).get(\"title\")\n",
    "    except AttributeError:\n",
    "        date = None\n",
    "    \n",
    "    try:\n",
    "        url = job.find('a', {'data-cy':\"job-link\"}).get(\"href\")\n",
    "    except AttributeError:\n",
    "        url = None\n",
    "        \n",
    "    job_info = {\n",
    "        \"position\" : \"Data scientist\",\n",
    "        \"title\" : title,\n",
    "        \"company\" : company,\n",
    "        #\"location\" : location,\n",
    "        \"date\" : date,\n",
    "        \"url\" : f\"https://www.jobs.ch{url}\"\n",
    "    }\n",
    "    \n",
    "    job_info_df = pd.DataFrame(job_info, index=[0])\n",
    "    \n",
    "    df = pd.concat([df, job_info_df], ignore_index=True)\n",
    "    "
   ]
  },
  {
   "cell_type": "code",
   "execution_count": 35,
   "id": "4f1d3ec7-9d4c-4289-bf09-4efd7b99de04",
   "metadata": {},
   "outputs": [
    {
     "data": {
      "text/html": [
       "<div>\n",
       "<style scoped>\n",
       "    .dataframe tbody tr th:only-of-type {\n",
       "        vertical-align: middle;\n",
       "    }\n",
       "\n",
       "    .dataframe tbody tr th {\n",
       "        vertical-align: top;\n",
       "    }\n",
       "\n",
       "    .dataframe thead th {\n",
       "        text-align: right;\n",
       "    }\n",
       "</style>\n",
       "<table border=\"1\" class=\"dataframe\">\n",
       "  <thead>\n",
       "    <tr style=\"text-align: right;\">\n",
       "      <th></th>\n",
       "      <th>position</th>\n",
       "      <th>title</th>\n",
       "      <th>company</th>\n",
       "      <th>date</th>\n",
       "      <th>url</th>\n",
       "    </tr>\n",
       "  </thead>\n",
       "  <tbody>\n",
       "    <tr>\n",
       "      <th>0</th>\n",
       "      <td>Data scientist</td>\n",
       "      <td>data scientist / data engineer in ambito finan...</td>\n",
       "      <td>Amministrazione federale delle finanze AFF</td>\n",
       "      <td>26 October 2023</td>\n",
       "      <td>https://www.jobs.ch/en/vacancies/detail/dfbec7...</td>\n",
       "    </tr>\n",
       "    <tr>\n",
       "      <th>1</th>\n",
       "      <td>Data scientist</td>\n",
       "      <td>Praktikum Data Science, 6 Monate, 80-100% (w/m/d)</td>\n",
       "      <td>Datahouse AG</td>\n",
       "      <td>24 October 2023</td>\n",
       "      <td>https://www.jobs.ch/en/vacancies/detail/c6fc62...</td>\n",
       "    </tr>\n",
       "    <tr>\n",
       "      <th>2</th>\n",
       "      <td>Data scientist</td>\n",
       "      <td>Bioinformatician (100%)</td>\n",
       "      <td>Neurimmune AG</td>\n",
       "      <td>10 November 2023</td>\n",
       "      <td>https://www.jobs.ch/en/vacancies/detail/8e6bee...</td>\n",
       "    </tr>\n",
       "    <tr>\n",
       "      <th>3</th>\n",
       "      <td>Data scientist</td>\n",
       "      <td>Bauführer-in (80-100%)</td>\n",
       "      <td>VSL Schweiz AG</td>\n",
       "      <td>24 October 2023</td>\n",
       "      <td>https://www.jobs.ch/en/vacancies/detail/e45411...</td>\n",
       "    </tr>\n",
       "    <tr>\n",
       "      <th>4</th>\n",
       "      <td>Data scientist</td>\n",
       "      <td>Data Engineer (f/m/d)</td>\n",
       "      <td>ITech Consult AG</td>\n",
       "      <td>23 November 2023</td>\n",
       "      <td>https://www.jobs.ch/en/vacancies/detail/cc1291...</td>\n",
       "    </tr>\n",
       "    <tr>\n",
       "      <th>5</th>\n",
       "      <td>Data scientist</td>\n",
       "      <td>Generative AI - Data Engineer 80-100% (m/w/d)</td>\n",
       "      <td>LGT</td>\n",
       "      <td>14 November 2023</td>\n",
       "      <td>https://www.jobs.ch/en/vacancies/detail/d0fa04...</td>\n",
       "    </tr>\n",
       "    <tr>\n",
       "      <th>6</th>\n",
       "      <td>Data scientist</td>\n",
       "      <td>Data Architect / Data Engineer (w/m/d)</td>\n",
       "      <td>B. Braun Medical AG</td>\n",
       "      <td>12 November 2023</td>\n",
       "      <td>https://www.jobs.ch/en/vacancies/detail/b3ba45...</td>\n",
       "    </tr>\n",
       "    <tr>\n",
       "      <th>7</th>\n",
       "      <td>Data scientist</td>\n",
       "      <td>SAP Developer (80-100 %)</td>\n",
       "      <td>Gebäudeversicherung Bern – GVB Gruppe</td>\n",
       "      <td>01 November 2023</td>\n",
       "      <td>https://www.jobs.ch/en/vacancies/detail/7b08f6...</td>\n",
       "    </tr>\n",
       "    <tr>\n",
       "      <th>8</th>\n",
       "      <td>Data scientist</td>\n",
       "      <td>Science IT Consultant, permanent position</td>\n",
       "      <td>Universität Zürich</td>\n",
       "      <td>24 October 2023</td>\n",
       "      <td>https://www.jobs.ch/en/vacancies/detail/2103cd...</td>\n",
       "    </tr>\n",
       "    <tr>\n",
       "      <th>9</th>\n",
       "      <td>Data scientist</td>\n",
       "      <td>Data Engineer in Medical Imaging</td>\n",
       "      <td>Universität Bern</td>\n",
       "      <td>02 November 2023</td>\n",
       "      <td>https://www.jobs.ch/en/vacancies/detail/d87b7c...</td>\n",
       "    </tr>\n",
       "    <tr>\n",
       "      <th>10</th>\n",
       "      <td>Data scientist</td>\n",
       "      <td>Machine Learning Engineer (80-100%)</td>\n",
       "      <td>Swissgrid AG</td>\n",
       "      <td>15 November 2023</td>\n",
       "      <td>https://www.jobs.ch/en/vacancies/detail/5298b7...</td>\n",
       "    </tr>\n",
       "    <tr>\n",
       "      <th>11</th>\n",
       "      <td>Data scientist</td>\n",
       "      <td>Clinical Data Manager</td>\n",
       "      <td>Symbios Orthopédie SA</td>\n",
       "      <td>21 November 2023</td>\n",
       "      <td>https://www.jobs.ch/en/vacancies/detail/64b839...</td>\n",
       "    </tr>\n",
       "    <tr>\n",
       "      <th>12</th>\n",
       "      <td>Data scientist</td>\n",
       "      <td>Enterprise Data Architect - specialised in Dat...</td>\n",
       "      <td>Sequoia Business Community AG</td>\n",
       "      <td>07 November 2023</td>\n",
       "      <td>https://www.jobs.ch/en/vacancies/detail/2eb243...</td>\n",
       "    </tr>\n",
       "    <tr>\n",
       "      <th>13</th>\n",
       "      <td>Data scientist</td>\n",
       "      <td>Machine Learning Scientist</td>\n",
       "      <td>SonarSource SA</td>\n",
       "      <td>22 November 2023</td>\n",
       "      <td>https://www.jobs.ch/en/vacancies/detail/6c5df6...</td>\n",
       "    </tr>\n",
       "    <tr>\n",
       "      <th>14</th>\n",
       "      <td>Data scientist</td>\n",
       "      <td>Scientist Bioprocess Development</td>\n",
       "      <td>Kelly Services (Schweiz) AG</td>\n",
       "      <td>20 November 2023</td>\n",
       "      <td>https://www.jobs.ch/en/vacancies/detail/359519...</td>\n",
       "    </tr>\n",
       "    <tr>\n",
       "      <th>15</th>\n",
       "      <td>Data scientist</td>\n",
       "      <td>Analytical expert / Senior Scientist in Techni...</td>\n",
       "      <td>Kelly Services (Schweiz) AG</td>\n",
       "      <td>20 November 2023</td>\n",
       "      <td>https://www.jobs.ch/en/vacancies/detail/e8532e...</td>\n",
       "    </tr>\n",
       "    <tr>\n",
       "      <th>16</th>\n",
       "      <td>Data scientist</td>\n",
       "      <td>Financial Data &amp; Reporting Analyst Intern</td>\n",
       "      <td>Teoxane</td>\n",
       "      <td>23 November 2023</td>\n",
       "      <td>https://www.jobs.ch/en/vacancies/detail/47903c...</td>\n",
       "    </tr>\n",
       "    <tr>\n",
       "      <th>17</th>\n",
       "      <td>Data scientist</td>\n",
       "      <td>Senior Scientist Analytical Development</td>\n",
       "      <td>Johnson &amp; Johnson</td>\n",
       "      <td>30 October 2023</td>\n",
       "      <td>https://www.jobs.ch/en/vacancies/detail/62640d...</td>\n",
       "    </tr>\n",
       "    <tr>\n",
       "      <th>18</th>\n",
       "      <td>Data scientist</td>\n",
       "      <td>Application Scientist 100% (m/f/d)</td>\n",
       "      <td>Cytosurge AG</td>\n",
       "      <td>02 November 2023</td>\n",
       "      <td>https://www.jobs.ch/en/vacancies/detail/7af09f...</td>\n",
       "    </tr>\n",
       "  </tbody>\n",
       "</table>\n",
       "</div>"
      ],
      "text/plain": [
       "          position                                              title  \\\n",
       "0   Data scientist  data scientist / data engineer in ambito finan...   \n",
       "1   Data scientist  Praktikum Data Science, 6 Monate, 80-100% (w/m/d)   \n",
       "2   Data scientist                            Bioinformatician (100%)   \n",
       "3   Data scientist                             Bauführer-in (80-100%)   \n",
       "4   Data scientist                              Data Engineer (f/m/d)   \n",
       "5   Data scientist      Generative AI - Data Engineer 80-100% (m/w/d)   \n",
       "6   Data scientist             Data Architect / Data Engineer (w/m/d)   \n",
       "7   Data scientist                           SAP Developer (80-100 %)   \n",
       "8   Data scientist          Science IT Consultant, permanent position   \n",
       "9   Data scientist                   Data Engineer in Medical Imaging   \n",
       "10  Data scientist                Machine Learning Engineer (80-100%)   \n",
       "11  Data scientist                              Clinical Data Manager   \n",
       "12  Data scientist  Enterprise Data Architect - specialised in Dat...   \n",
       "13  Data scientist                         Machine Learning Scientist   \n",
       "14  Data scientist                   Scientist Bioprocess Development   \n",
       "15  Data scientist  Analytical expert / Senior Scientist in Techni...   \n",
       "16  Data scientist          Financial Data & Reporting Analyst Intern   \n",
       "17  Data scientist            Senior Scientist Analytical Development   \n",
       "18  Data scientist                 Application Scientist 100% (m/f/d)   \n",
       "\n",
       "                                       company              date  \\\n",
       "0   Amministrazione federale delle finanze AFF   26 October 2023   \n",
       "1                                 Datahouse AG   24 October 2023   \n",
       "2                                Neurimmune AG  10 November 2023   \n",
       "3                               VSL Schweiz AG   24 October 2023   \n",
       "4                             ITech Consult AG  23 November 2023   \n",
       "5                                          LGT  14 November 2023   \n",
       "6                          B. Braun Medical AG  12 November 2023   \n",
       "7        Gebäudeversicherung Bern – GVB Gruppe  01 November 2023   \n",
       "8                           Universität Zürich   24 October 2023   \n",
       "9                             Universität Bern  02 November 2023   \n",
       "10                                Swissgrid AG  15 November 2023   \n",
       "11                       Symbios Orthopédie SA  21 November 2023   \n",
       "12               Sequoia Business Community AG  07 November 2023   \n",
       "13                              SonarSource SA  22 November 2023   \n",
       "14                 Kelly Services (Schweiz) AG  20 November 2023   \n",
       "15                 Kelly Services (Schweiz) AG  20 November 2023   \n",
       "16                                     Teoxane  23 November 2023   \n",
       "17                           Johnson & Johnson   30 October 2023   \n",
       "18                                Cytosurge AG  02 November 2023   \n",
       "\n",
       "                                                  url  \n",
       "0   https://www.jobs.ch/en/vacancies/detail/dfbec7...  \n",
       "1   https://www.jobs.ch/en/vacancies/detail/c6fc62...  \n",
       "2   https://www.jobs.ch/en/vacancies/detail/8e6bee...  \n",
       "3   https://www.jobs.ch/en/vacancies/detail/e45411...  \n",
       "4   https://www.jobs.ch/en/vacancies/detail/cc1291...  \n",
       "5   https://www.jobs.ch/en/vacancies/detail/d0fa04...  \n",
       "6   https://www.jobs.ch/en/vacancies/detail/b3ba45...  \n",
       "7   https://www.jobs.ch/en/vacancies/detail/7b08f6...  \n",
       "8   https://www.jobs.ch/en/vacancies/detail/2103cd...  \n",
       "9   https://www.jobs.ch/en/vacancies/detail/d87b7c...  \n",
       "10  https://www.jobs.ch/en/vacancies/detail/5298b7...  \n",
       "11  https://www.jobs.ch/en/vacancies/detail/64b839...  \n",
       "12  https://www.jobs.ch/en/vacancies/detail/2eb243...  \n",
       "13  https://www.jobs.ch/en/vacancies/detail/6c5df6...  \n",
       "14  https://www.jobs.ch/en/vacancies/detail/359519...  \n",
       "15  https://www.jobs.ch/en/vacancies/detail/e8532e...  \n",
       "16  https://www.jobs.ch/en/vacancies/detail/47903c...  \n",
       "17  https://www.jobs.ch/en/vacancies/detail/62640d...  \n",
       "18  https://www.jobs.ch/en/vacancies/detail/7af09f...  "
      ]
     },
     "execution_count": 35,
     "metadata": {},
     "output_type": "execute_result"
    }
   ],
   "source": [
    "df"
   ]
  },
  {
   "cell_type": "code",
   "execution_count": 36,
   "id": "74ecd091-e4d3-440f-b622-c35ce96b99e0",
   "metadata": {},
   "outputs": [
    {
     "data": {
      "text/plain": [
       "{'position': 'Data scientist',\n",
       " 'title': 'Application Scientist 100% (m/f/d)',\n",
       " 'company': 'Cytosurge AG',\n",
       " 'date': '02 November 2023',\n",
       " 'url': 'https://www.jobs.ch/en/vacancies/detail/7af09f24-8841-4d26-9f18-d23f90a14067/?source=vacancy_search'}"
      ]
     },
     "execution_count": 36,
     "metadata": {},
     "output_type": "execute_result"
    }
   ],
   "source": [
    "job_info"
   ]
  },
  {
   "cell_type": "code",
   "execution_count": 37,
   "id": "4acad7c9-3056-40d2-baf1-9326e6c2a230",
   "metadata": {},
   "outputs": [
    {
     "data": {
      "text/html": [
       "<div>\n",
       "<style scoped>\n",
       "    .dataframe tbody tr th:only-of-type {\n",
       "        vertical-align: middle;\n",
       "    }\n",
       "\n",
       "    .dataframe tbody tr th {\n",
       "        vertical-align: top;\n",
       "    }\n",
       "\n",
       "    .dataframe thead th {\n",
       "        text-align: right;\n",
       "    }\n",
       "</style>\n",
       "<table border=\"1\" class=\"dataframe\">\n",
       "  <thead>\n",
       "    <tr style=\"text-align: right;\">\n",
       "      <th></th>\n",
       "      <th>position</th>\n",
       "      <th>title</th>\n",
       "      <th>company</th>\n",
       "      <th>date</th>\n",
       "      <th>url</th>\n",
       "    </tr>\n",
       "  </thead>\n",
       "  <tbody>\n",
       "    <tr>\n",
       "      <th>0</th>\n",
       "      <td>Data scientist</td>\n",
       "      <td>Application Scientist 100% (m/f/d)</td>\n",
       "      <td>Cytosurge AG</td>\n",
       "      <td>02 November 2023</td>\n",
       "      <td>https://www.jobs.ch/en/vacancies/detail/7af09f...</td>\n",
       "    </tr>\n",
       "  </tbody>\n",
       "</table>\n",
       "</div>"
      ],
      "text/plain": [
       "         position                               title       company  \\\n",
       "0  Data scientist  Application Scientist 100% (m/f/d)  Cytosurge AG   \n",
       "\n",
       "               date                                                url  \n",
       "0  02 November 2023  https://www.jobs.ch/en/vacancies/detail/7af09f...  "
      ]
     },
     "execution_count": 37,
     "metadata": {},
     "output_type": "execute_result"
    }
   ],
   "source": [
    "job_df_example = pd.DataFrame(job_info, index=[0])\n",
    "job_df_example"
   ]
  },
  {
   "cell_type": "markdown",
   "id": "368414c4-cfe8-4a44-8eb4-0e1cb34ef083",
   "metadata": {},
   "source": [
    "```\n",
    "df1\n",
    "df2\n",
    "\n",
    "df_concat = pd.concat([df1, df2])\n",
    "```"
   ]
  },
  {
   "cell_type": "code",
   "execution_count": 42,
   "id": "72519b60-c0f9-4780-9dbd-1e0f7fdfe1b9",
   "metadata": {},
   "outputs": [
    {
     "name": "stderr",
     "output_type": "stream",
     "text": [
      "100%|█████████████████████████████████████████████████████████████████████████████████████████████████████████████████████| 60466176/60466176 [00:07<00:00, 7773051.86it/s]\n"
     ]
    }
   ],
   "source": [
    "from tqdm import tqdm\n",
    "\n",
    "for i in tqdm(range(6**10)):\n",
    "    pass"
   ]
  },
  {
   "cell_type": "code",
   "execution_count": 43,
   "id": "385fa479-0372-40fc-b605-9b2e416d0212",
   "metadata": {},
   "outputs": [
    {
     "data": {
      "text/plain": [
       "60466176"
      ]
     },
     "execution_count": 43,
     "metadata": {},
     "output_type": "execute_result"
    }
   ],
   "source": [
    "6**10"
   ]
  },
  {
   "cell_type": "code",
   "execution_count": null,
   "id": "0a93fcf7-f6bb-4e1d-b29f-d34dbe343d88",
   "metadata": {},
   "outputs": [],
   "source": []
  }
 ],
 "metadata": {
  "kernelspec": {
   "display_name": "Python 3 (ipykernel)",
   "language": "python",
   "name": "python3"
  },
  "language_info": {
   "codemirror_mode": {
    "name": "ipython",
    "version": 3
   },
   "file_extension": ".py",
   "mimetype": "text/x-python",
   "name": "python",
   "nbconvert_exporter": "python",
   "pygments_lexer": "ipython3",
   "version": "3.10.13"
  }
 },
 "nbformat": 4,
 "nbformat_minor": 5
}
