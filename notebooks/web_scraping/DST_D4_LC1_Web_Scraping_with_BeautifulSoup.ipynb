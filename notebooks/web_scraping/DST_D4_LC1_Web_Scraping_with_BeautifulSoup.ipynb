{
 "cells": [
  {
   "cell_type": "markdown",
   "metadata": {
    "id": "-CheBdoJFhsn",
    "tags": []
   },
   "source": [
    "<center><a target=\"_blank\" href=\"https://learning.constructor.org/\"><img src=\"https://drive.google.com/uc?id=1wxkbM60NlBlkbGK1JqUypKL24RrTiiYk\" width=\"200\" style=\"background:none; border:none; box-shadow:none;\" /></a> </center>\n",
    "\n",
    "_____\n",
    "\n",
    "<center> <h1> Web Scraping with BeautifulSoup </h1> </center>\n",
    "\n",
    "<p style=\"margin-bottom:1cm;\"></p>\n",
    "\n",
    "_____\n",
    "\n",
    "<center>Constructor Learning, 2023.</center>\n"
   ]
  },
  {
   "cell_type": "markdown",
   "metadata": {
    "id": "LNf9o7GSFhst"
   },
   "source": [
    "<a id='SU' name=\"SU\"></a>\n",
    "## [Introduction to Web Scraping](#P0)"
   ]
  },
  {
   "cell_type": "markdown",
   "metadata": {
    "id": "6mpczdLbFhsu"
   },
   "source": [
    "As we all know, the internet is a tremendous source of information, whatever your interest is. Ideally, every piece of interesting data would be available to download in the form of a csv file or equivalent, so that we could read it directly with pandas and start analyzing it. Of course, this is not the case.\n",
    "\n",
    "The aim of this session is to demonstrate how you can extract information from web pages. This task is called\n",
    "**Web scraping/web crawling**.\n",
    "\n",
    "In Python, we use mainly 4 packages for web scraping/crawling:\n",
    "\n",
    "- [Requests](https://requests.readthedocs.io/en/master/user/quickstart/): is a package that lets you make http requests. In the context of web scraping, it allows you to get the content of a webpage, that can be further analyzed using a html parser.\n",
    "- [BeautifulSoup](https://www.crummy.com/software/BeautifulSoup/bs4/doc/): is a library that allows you to extract information from html documents (but also xml, even though it is not relevant here.). This is exactly what we need since html is the standard language to write webpages.\n",
    "- [Selenium](https://selenium-python.readthedocs.io): is a library you can use for web pages that are rendered in real-time (e.g. have to physically click buttons, scroll down, ...).\n",
    "- [Scrapy](https://scrapy.org): is a library to create web-spiders, scripts that perform web-crawling.\n",
    "\n",
    "In this course, we learn how to use requests in combination with BeautifulSoup to extract online data. To do so, we first need to understand how information is structured on a web page."
   ]
  },
  {
   "cell_type": "markdown",
   "metadata": {
    "id": "iiO7X67AFhsv"
   },
   "source": [
    "### The components of a web page\n",
    "\n",
    "When we visit a web page, our web browser makes a request to a web server. The server then sends back files that tell our browser how to render the page for us. The files fall into 4 main types:\n",
    "\n",
    "* **HTML** — Contain the main content of the page.\n",
    "* **CSS** — Add styling to make the page look nicer.\n",
    "* **JS** — Javascript files add interactivity to web pages.\n",
    "* **Images** — Image formats, such as JPG and PNG allow web pages to show pictures.\n",
    "\n",
    "\n",
    "After our browser receives all the files, it renders the page and displays it to us. There's a lot that happens behind the scenes to render a page nicely, but we don't need to worry about most of it when web scraping: we are interested in the main content of the web page: HTML."
   ]
  },
  {
   "cell_type": "markdown",
   "metadata": {
    "id": "LCuLbZqKFhsw"
   },
   "source": [
    "<a id='P1' name=\"P1\"></a>\n",
    "## [Sample HTML](#P0)"
   ]
  },
  {
   "cell_type": "markdown",
   "metadata": {
    "id": "4q4vb_sHFhsw"
   },
   "source": [
    "HyperText Markup Language (HTML) is a language that web pages are created in. HTML is not a programming language, like Python — instead, it is a **markup language**: it tells browsers how to layout content. HTML allows you to do similar things to what you do in a word processor like Microsoft Word — make text bold, create paragraphs, and so on. Because HTML is not a programming language, it is not nearly as complex as Python.\n",
    "\n",
    "You can write html in the code cells of your jupyter notebook by using the `%%HTML` magic. Let's do that:"
   ]
  },
  {
   "cell_type": "code",
   "execution_count": 8,
   "metadata": {
    "id": "78Qw1u_BFhsx"
   },
   "outputs": [],
   "source": [
    "# mention another magics"
   ]
  },
  {
   "cell_type": "code",
   "execution_count": 9,
   "metadata": {
    "id": "5zRkQlLvFhs0",
    "outputId": "0e4ef549-7bb3-4129-b877-a100444e07cb"
   },
   "outputs": [
    {
     "data": {
      "text/html": [
       "\n",
       "<html>\n",
       "<hr>\n",
       "<head> I am in the header!! </head>\n",
       "<body>\n",
       "<h2> This is a title </h2>\n",
       "<h4> Sample HTML </h4>\n",
       "\n",
       "<p>This is a <b>paragraph</b>. <br> Where we can write about some stuff.</p>\n",
       "<p>This is another paragraph. And here we can write about some more stuff,\n",
       "   as well as include <a href=http://dataquestio.github.io/web-scraping-pages/simple.html>links</a>.</p>\n",
       "<hr>\n",
       "</body>\n",
       "</html>\n"
      ],
      "text/plain": [
       "<IPython.core.display.HTML object>"
      ]
     },
     "metadata": {},
     "output_type": "display_data"
    }
   ],
   "source": [
    "%%HTML\n",
    "\n",
    "<html>\n",
    "<hr>\n",
    "<head> I am in the header!! </head>\n",
    "<body>\n",
    "<h2> This is a title </h2>\n",
    "<h4> Sample HTML </h4>\n",
    "\n",
    "<p>This is a <b>paragraph</b>. <br> Where we can write about some stuff.</p>\n",
    "<p>This is another paragraph. And here we can write about some more stuff,\n",
    "   as well as include <a href=http://dataquestio.github.io/web-scraping-pages/simple.html>links</a>.</p>\n",
    "<hr>\n",
    "</body>\n",
    "</html>"
   ]
  },
  {
   "cell_type": "markdown",
   "metadata": {
    "id": "EYOAB0N1Fhs1"
   },
   "source": [
    "In HTML, the information is organized in the form of nested elements. Each html element is delimited by tags, for example:\n",
    "\n",
    "- `<html>  ... </html>` is the tag that defines the root element: it tells the web browser that everything inside of it is HTML.\n",
    "- Right inside the HTML tag, we have `<head> ... </head>` and `<body> ... </body>` tags.\n",
    "- The `<p> ... </p>` tag defines the paragraph, and any text inside the tag is shown as a separate paragraph.\n",
    "- the `<a> ... </a>` tag declares a link to another webpage. The `href` property determines where the link goes.\n",
    "- ``<div>`` — Indicates a division, or area, of the page.\n",
    "- ``<b>`` — Bolds any text inside.\n",
    "- ``<i>`` — Italicizes any text inside.\n",
    "- ``<table>`` — Creates a table.\n",
    "- ``<form>`` — Creates an input form.\n",
    "\n",
    "Checkout the full list of tags [here](https://developer.mozilla.org/en-US/docs/Web/HTML/Element).\n",
    "\n",
    "The best way to learn about html is to explore the source code of actual webpages. You can do that in your browser. The procedure is slightly different depending on web browsers, in google chrome, you can just type `Ctrl`/`Cmd` + `Shift` + `C`. This is the result you have if you visit [Job.ch](https://www.jobs.ch/en/vacancies/?term=Data%20Engineer) (searching for Data Engineer):"
   ]
  },
  {
   "cell_type": "markdown",
   "metadata": {
    "id": "EaQXw1cYFhs2"
   },
   "source": [
    "<img src=\"https://drive.google.com/uc?id=1BN4XwaGu7Mg7Z6LR8hEZXXVhdf6iNdUp\" width=\"60%\" style=\"background:none; border:none; box-shadow:none;\" />"
   ]
  },
  {
   "cell_type": "markdown",
   "metadata": {
    "id": "uAtjjL6LFhs2"
   },
   "source": [
    "The pannel on the right side of the window shows you the raw html document. You can recognize the tags that we talked about and many more. While webscraping, we will alternate between this window and the jupyter notebook window."
   ]
  },
  {
   "cell_type": "markdown",
   "metadata": {
    "id": "ecctsBL0Fhs2",
    "tags": []
   },
   "source": [
    "Html elements can also contain **attributes**. Attributes provide extra information about an HTML element. All attributes are made up of two sections − a name and a value. Common attributes include `id`, `title`, `class` and `style`. These attributes are specified within the tags. For example checkout a close up from the same page source code:"
   ]
  },
  {
   "cell_type": "markdown",
   "metadata": {
    "id": "kJ83cb1eFhs2"
   },
   "source": [
    "<img src=\"https://drive.google.com/uc?id=1I6exoU9KIzaXnHk9fC_w0btIMsOXCE7_\" width=\"60%\" style=\"background:none; border:none; box-shadow:none;\" />"
   ]
  },
  {
   "cell_type": "markdown",
   "metadata": {
    "id": "um0hJoQBFhs2"
   },
   "source": [
    "`id` attributes a name to an HTML element, `class` assigns html elements to groups. These properties make elements easier to interact with when we are scraping. One element can have multiple classes, and a class can be shared between elements. Each element can only have one id and it can only be used once on a page. `class` and `id` are optional, and not all elements will have them."
   ]
  },
  {
   "cell_type": "markdown",
   "metadata": {
    "id": "eE0fLB_AFhs2"
   },
   "source": [
    "<a id='P2' name=\"P2\"></a>\n",
    "## [The requests library](#P0)"
   ]
  },
  {
   "cell_type": "markdown",
   "metadata": {
    "id": "jv-QttqBFhs2"
   },
   "source": [
    "The first thing we need to do to scrape a web page is to download it. We can do so using the Python `requests` library. The requests library will make a `GET` request to a web server, which will download the HTML contents of a given web page for us. After running our request, one gets a Response object. This object has a `status_code` property, which indicates if the page was downloaded successfully. A `status_code` of 200 means that the page downloaded successfully. We won't fully dive into status codes here, but a status code starting with a 2 generally indicates success, and a code starting with a 4 or a 5 indicates an error.\n",
    "The page content can be printed using `page.content`."
   ]
  },
  {
   "cell_type": "code",
   "execution_count": 10,
   "metadata": {
    "id": "S2xtDLMeFhs3"
   },
   "outputs": [],
   "source": [
    "import requests"
   ]
  },
  {
   "cell_type": "markdown",
   "metadata": {
    "id": "FyepQ12dFhs4"
   },
   "source": [
    "let's start with a simple page:"
   ]
  },
  {
   "cell_type": "code",
   "execution_count": 11,
   "metadata": {
    "id": "X9HzV_2cFhs4",
    "outputId": "6ee7972b-e443-432b-8b64-6bfb8cdc67cf"
   },
   "outputs": [
    {
     "name": "stdout",
     "output_type": "stream",
     "text": [
      "<Response [200]>\n",
      "200\n",
      "b'<!DOCTYPE html>\\n<html>\\n    <head>\\n        <title>A simple example page</title>\\n    </head>\\n    <body>\\n        <p>Here is some simple content for this page.</p>\\n    </body>\\n</html>'\n"
     ]
    }
   ],
   "source": [
    "# making a request to a webpage\n",
    "page = requests.get(\"https://dataquestio.github.io/web-scraping-pages/simple.html\")\n",
    "print(page)\n",
    "print(page.status_code) ## prints 200 as status code\n",
    "print(page.content) ## prints the entire webpage content"
   ]
  },
  {
   "cell_type": "code",
   "execution_count": 12,
   "metadata": {
    "id": "5q_D3pLcFhs4",
    "outputId": "8f9e1053-4017-4fc4-e192-82afc038493f"
   },
   "outputs": [
    {
     "name": "stdout",
     "output_type": "stream",
     "text": [
      "<!DOCTYPE html>\n",
      "<html>\n",
      "    <head>\n",
      "        <title>A simple example page</title>\n",
      "    </head>\n",
      "    <body>\n",
      "        <p>Here is some simple content for this page.</p>\n",
      "    </body>\n",
      "</html>\n"
     ]
    }
   ],
   "source": [
    "print(page.text)"
   ]
  },
  {
   "cell_type": "markdown",
   "metadata": {
    "id": "RAWSbToXFhs5"
   },
   "source": [
    "- When making a request to an external service, your system will need to wait for an answer before moving on.\n",
    "- By default, requests waits indefinitely, so you should almost always specify a `timeout` duration to prevent your script from getting stuck:"
   ]
  },
  {
   "cell_type": "code",
   "execution_count": 13,
   "metadata": {
    "id": "jXzl9RM8Fhs6"
   },
   "outputs": [],
   "source": [
    "page = requests.get(\"http://dataquestio.github.io/web-scraping-pages/simple.html\", timeout=15)"
   ]
  },
  {
   "cell_type": "markdown",
   "metadata": {
    "id": "RQdQ9OH3Fhs6"
   },
   "source": [
    "The `timeout` variable denotes the maximum number of seconds that `requests.get()` will wait for an answer.\n",
    "\n",
    "Let's see the content for the jobs.ch page:"
   ]
  },
  {
   "cell_type": "code",
   "execution_count": 14,
   "metadata": {
    "id": "VKrz0XtjFhs7",
    "outputId": "ab2897bb-0022-4189-a2c2-8a1ee14e635b",
    "tags": []
   },
   "outputs": [
    {
     "name": "stdout",
     "output_type": "stream",
     "text": [
      "<Response [200]>\n",
      "200\n",
      "b'<!doctype html>\\n<!--[if IE]><html lang=\"en\" class=\"ie9-or-less\"><![endif]-->\\n<html lang=\"en\">\\n  <head>\\n    <meta charset=\"utf-8\">\\n    <meta name=\"viewport\" content=\"width=device-width, initial-scale=1.0\" />\\n\\n    <!-- No cache for index.html -->\\n    <meta http-equiv=\"Pragma\" content=\"no-cache\" />\\n    <meta http-equiv=\"cache-control\" content=\"no-cache, must-revalidate\" />\\n\\n    <title>1306 Data engineer jobs - jobs.ch</title>\\n\\n    <!-- Preconnects : only first party origin and used everywhere! -->\\n\\n    <link rel=\"preconnect\" href=\"https://media.jobs.ch/\" />\\n    \\n\\n    \\n    <link rel=\"preconnect\" href=\"//c.jobs.ch\" />\\n    \\n\\n    <!-- Fonts -->\\n    \\n      <link as=\"font\" type=\"font/woff2\" href=\"/public/fonts/ab0d2f2149fcf1f8e377.woff2\" importance=\"high\" fetchpriority=\"high\" crossorigin />\\n    \\n      <link as=\"font\" type=\"font/woff2\" href=\"/public/fonts/bbee25c411374ef3ede3.woff2\" importance=\"high\" fetchpriority=\"high\" crossorigin />\\n    \\n      <link as=\"font\" type=\"font/woff2\" href=\"/public/fonts/cda8265515d5db0d2938.woff2\" importance=\"high\" fetchpriority=\"high\" crossorigin />\\n    \\n\\n    \\n      <!-- Synchronous JS -->\\n      <!-- Sentry local -->\\n      <script src=\"/public/lib/sentry_bundle_prod_7.66.0.min.js\" crossorigin=\"anonymous\"></script>\\n      \\n\\n    <!-- CSS: put always after sync JS! to prevent CSS blocking JS execution -->\\n\\n    <!-- 1. Normalizer.css, 2. Global Styles  -->\\n    \\n      <link href=\"/public/styles/shell.2fe2a233.css\" rel=\"stylesheet\" importance=\"high\" fetchpriority=\"high\" />\\n    \\n\\n    <!-- Styled Components: injected styles: 1. BaseComponents, 2. Component styles used in view -->\\n    <style data-styled=\"true\" data-styled-version=\"5.3.3\">.hPPUKb{-webkit-transition:all 125ms ease-out;transition:all 125ms ease-out;}/*!sc*/\\n.biTpub{border-radius:2px;color:#004099;display:inline-block;padding:16px;position:absolute;-webkit-text-decoration:none;text-decoration:none;}/*!sc*/\\n.iDticD{display:block;padding:16px;-webkit-text-decoration:none;text-decoration:none;-webkit-transition:all 125ms ease-out;transition:all 125ms ease-out;}/*!sc*/\\n.kREFEc{display:block;padding:16px;-webkit-text-decoration:none;text-decoration:none;background-color:#E6E6E6;-webkit-transition:all 125ms ease-out;transition:all 125ms ease-out;}/*!sc*/\\n.jpKuuC{margin-left:8px;-webkit-transition:all 125ms ease-out;transition:all 125ms ease-out;}/*!sc*/\\n@media screen and (min-width:75em){.jpKuuC{display:none;}}/*!sc*/\\n.jErSOe{-webkit-text-decoration:underline;text-decoration:underline;-webkit-transition:all 125ms ease-out;transition:all 125ms ease-out;}/*!sc*/\\n.iQEleJ{display:inline-block;padding-top:8px;padding-bottom:8px;-webkit-transition:all 125ms ease-out;transition:all 125ms ease-out;}/*!sc*/\\n.dxKKHM{display:block;-webkit-text-decoration:none;text-decoration:none;-webkit-transition:all 125ms ease-out;transition:all 125ms ease-out;}/*!sc*/\\n.hwNDGJ{padding-left:8px;padding-right:8px;-webkit-text-decoration:none;text-decoration:none;-webkit-transition:all 125ms ease-out;transition:all 125ms ease-out;}/*!sc*/\\n.gtPvTl{padding-left:8px;padding-right:8px;-webkit-text-decoration:underline;text-decoration:underline;-webkit-transition:all 125ms ease-out;transition:all 125ms ease-out;}/*!sc*/\\ndata-styled.g1[id=\"A-sc-1q4zv2a-0\"]{content:\"hPPUKb,biTpub,iDticD,kREFEc,jpKuuC,jErSOe,iQEleJ,dxKKHM,hwNDGJ,gtPvTl,\"}/*!sc*/\\n.coOEPT{background-color:transparent;border-radius:32px;width:48px;height:48px;padding-left:0;padding-right:0;-webkit-align-items:center;-webkit-box-align:center;-ms-flex-align:center;align-items:center;-webkit-box-pack:center;-webkit-justify-content:center;-ms-flex-pack:center;justify-content:center;display:-webkit-inline-box;display:-webkit-inline-flex;display:-ms-inline-flexbox;display:inline-flex;text-align:center;}/*!sc*/\\n.csysql{-webkit-align-items:center;-webkit-box-align:center;-ms-flex-align:center;align-items:center;border:1px solid;border-radius:32px;display:-webkit-box;display:-webkit-flex;display:-ms-flexbox;display:flex;line-height:38px;margin-left:8px;overflow:hidden;padding-bottom:0;padding-left:16px;padding-right:16px;padding-top:0;}/*!sc*/\\n@media screen and (min-width:40em){.csysql{line-height:46px;}}/*!sc*/\\n.eMxzSR{-webkit-align-items:center;-webkit-box-align:center;-ms-flex-align:center;align-items:center;background-color:transparent;border-radius:32px;display:-webkit-inline-box;display:-webkit-inline-flex;display:-ms-inline-flexbox;display:inline-flex;height:40px;-webkit-box-pack:center;-webkit-justify-content:center;-ms-flex-pack:center;justify-content:center;padding-left:0;padding-right:0;text-align:center;width:40px;}/*!sc*/\\n@media screen and (min-width:40em){.eMxzSR{width:48px;height:48px;}}/*!sc*/\\n.bWUQHl{padding-top:0;padding-bottom:0;border:1px solid;padding-left:16px;padding-right:16px;overflow:hidden;line-height:46px;border-radius:32px;}/*!sc*/\\n.qDqzJ{margin-left:8px;-webkit-transition:all 125ms ease-out;transition:all 125ms ease-out;}/*!sc*/\\n.gqlpvj{margin-right:2px;margin-top:2px;position:absolute;righ'\n"
     ]
    }
   ],
   "source": [
    "page = requests.get(\"https://www.jobs.ch/en/vacancies/?term=data%20engineer\", timeout=15)\n",
    "print(page)\n",
    "print(page.status_code)\n",
    "print(page.content[:5000])"
   ]
  },
  {
   "cell_type": "markdown",
   "metadata": {
    "id": "e-Rj3vV1Fhs7"
   },
   "source": [
    "As you can see, finding elements within `page.content` is difficult. That is where BeautifulSoup will assist us."
   ]
  },
  {
   "cell_type": "markdown",
   "metadata": {
    "id": "prkWqQhzFhs7"
   },
   "source": [
    "<a id='P3' name=\"P3\"></a>\n",
    "## [Parsing a page with BeautifulSoup](#P0)"
   ]
  },
  {
   "cell_type": "markdown",
   "metadata": {
    "id": "cB8YKBRCFhs7"
   },
   "source": [
    "BeautifulSoup is a html and xml parser. It means that it analyses the contents of a html or xml document and provides methods the access specific elements of the document. In this section, we will parse `page.content` using BeautifulSoup and create a pandas dataframe that contains:\n",
    "\n",
    "- job title\n",
    "- posting date\n",
    "- company\n",
    "- location\n",
    "- link to job add\n",
    "\n",
    "### 1. import libraries and parse the page content"
   ]
  },
  {
   "cell_type": "code",
   "execution_count": 15,
   "metadata": {
    "id": "GhwPmxVQFhs7"
   },
   "outputs": [],
   "source": [
    "from bs4 import BeautifulSoup\n",
    "import re # a library to do regular expression matching\n",
    "import pandas as pd\n",
    "import numpy as np"
   ]
  },
  {
   "cell_type": "code",
   "execution_count": 16,
   "metadata": {
    "id": "XgFVvnOeFhs8"
   },
   "outputs": [],
   "source": [
    "soup = BeautifulSoup(page.content, \"html.parser\") # converts the page content into a beautifulsoup object"
   ]
  },
  {
   "cell_type": "code",
   "execution_count": 17,
   "metadata": {
    "id": "-yu66gsZFhs8",
    "outputId": "d5dc4711-87a5-47b4-856b-6ccc3a65e362"
   },
   "outputs": [
    {
     "data": {
      "text/plain": [
       "bs4.BeautifulSoup"
      ]
     },
     "execution_count": 17,
     "metadata": {},
     "output_type": "execute_result"
    }
   ],
   "source": [
    "type(soup)"
   ]
  },
  {
   "cell_type": "markdown",
   "metadata": {
    "id": "4veZfxxtFhs8"
   },
   "source": [
    "We now have a BeautifoulSoup object that contains all the content of the original webpage in a format that is much easier to access. For example you can extract all the text content of the page by typing:"
   ]
  },
  {
   "cell_type": "code",
   "execution_count": 18,
   "metadata": {
    "id": "b1s22zSIFhs8",
    "outputId": "520d55be-badb-45d1-e1f9-7a9b9def45c4",
    "tags": []
   },
   "outputs": [
    {
     "data": {
      "text/plain": [
       "'https://media.jobs.ch/'"
      ]
     },
     "execution_count": 18,
     "metadata": {},
     "output_type": "execute_result"
    }
   ],
   "source": [
    "soup.find('link').get('href')"
   ]
  },
  {
   "cell_type": "code",
   "execution_count": 19,
   "metadata": {
    "id": "3zAe7hdXFhs8",
    "outputId": "7fe1ddd0-7627-4fc4-c5da-616e9c592185",
    "tags": []
   },
   "outputs": [
    {
     "data": {
      "text/plain": [
       "'https://www.jobs.ch/fr/offres-emplois/?term=data%20engineer'"
      ]
     },
     "execution_count": 19,
     "metadata": {},
     "output_type": "execute_result"
    }
   ],
   "source": [
    "soup.find_all('link')[7].get('href')"
   ]
  },
  {
   "cell_type": "code",
   "execution_count": 20,
   "metadata": {
    "id": "A_e3FdOiFhs9",
    "outputId": "8eb45ce6-9ea3-4cc7-fb14-513ad5051ebb"
   },
   "outputs": [
    {
     "data": {
      "text/plain": [
       "\"\\n\\n\\n\\n\\n\\n\\n\\n\\n1306 Data engineer jobs - jobs.ch\\n\\n\\n\\n\\n\\n\\n\\n\\n\\n\\n\\n\\n\\n\\n\\n\\n\\n\\n\\n\\n\\n\\n\\n\\n\\n\\n\\n\\n\\n\\n\\n\\n\\n\\n\\n\\n\\n\\n\\n\\n\\n\\n\\n\\n\\n\\n\\n\\n\\n\\n\\n\\n\\n\\nYou are currently using an obsolete browser which is no longer 100% supported. It can cause display problems.Please upgrade your browser.Some alternatives: Firefox, Chrome.Skip to contentjobs.ch Navigation logoFind a jobExplore companiesCompare salariesRecruiter AreaDeutschFrançaisEnglishLoginFind a jobExplore companiesCompare salariesRecruiter AreaMy accountLoginDon't have an account yet?Sign upSelect LanguageDeutschFrançaisEnglishProfession, keywords or companydata engineerPlace of work or regionChoose a regionSearchAll filtersPublished sinceWorkloadOccupational fieldEmployment typeLanguageAll filtersReset filters1\\u202f306 Data engineer job offersBy dateBy relevancePublished: 24 October 202324 OctData EngineerFlawil80% – 100%Unlimited employmentBÜCHI Labortechnik AG Published: 12 November 202312 NovData Engineer (a) in ZürichZürich80% – 100%Unlimited employmentAxept Business Software AG Published: 02 November 202302 NovData Engineer in Medical ImagingBern100%TemporaryUniversität Bern Published: 14 November 202314 NovPlatform Engineer (w/m/d)Ecublens80% – 100%Unlimited employmentMigros Online Published: 20 November 202320 NovFrontend Engineer #1908Mägenwil80% – 100%Unlimited employmentCompetec Service AG Published: 21 November 202321 NovBuilding Service Layout Engineer (E3D Designer)Zürich (Schweiz)100%Unlimited employmentHitachi Zosen Inova AG Published: 07 November 202307 NovSenior Engineer SPS/HMI 100 % (m/w/d)Zürich - Spreitenbach100%Unlimited employmentCHRONOS Personalberatung Published: 13 November 202313 NovRequirements Engineer / Product Owner Dokumentenmanagement (a) (80-100%)Bern-Liebefeld80% – 100%Unlimited employmentaity AG Published: 10 November 202310 NovScientific Engagement EngineerBaden-Daettwil100%Unlimited employmentDectris AG Published: 21 November 202321 NovMechanical EngineerBern100%TemporaryUniversität Bern Published: 13 October 202313 OctSYSTEM ENGINEER / PROJECT MANAGER (A)Kriens100%Unlimited employmentANDRITZ Published: 12 October 202312 OctDESIGN ENGINEERKriens100%Unlimited employmentANDRITZ Published: 16 November 202316 NovInnovation & Development Engineer (w/m/d) 80-100 %Pratteln80% – 100%Unlimited employmentBUSS AG Published: 15 November 202315 NovSenior AVEVA PI Engineer (w/m/d)Allschwil100%Unlimited employmentSKAN AG Published: 31 October 202331 OctDynamics 365 / Power Platform Engineer (60 - 100%)Glattbrugg60% – 100%Unlimited employmentAvantic AG Published: 14 November 202314 NovTraktionsingenieur 80 - 100 % (m/w/d)Bellach80% – 100%Unlimited employmentCarrosserie HESS AG Published: 10 November 202310 NovRobotics Engineer (m/w) 100%Veltheim100%Unlimited employmentMABI Robotic AG Published: 06 November 202306 NovIngenieur/-in / VerkehrsplanungZürich-Oerlikon80% – 100%Unlimited employmentKantonale Verwaltung Zürich Published: 08 November 202308 NovIngenieur/in Aeronautical Information SystemDübendorf (ZH)80% – 100%Unlimited employmentVerteidigung - Kommando Operationen Kdo Op Published: 31 October 202331 OctData & Analytics Principal Engineer (m/f/x)Basel100%Unlimited employmentOettinger Davidoff AG 1 / 66Page  1 out of 66NextData EngineerBÜCHI Labortechnik AGSave for laterPublication date:24 October 2023Workload:80 – 100%Contract:Unlimited employmentLanguage:English (Fluent), German (Fluent)Place of work:Meierseggstrasse 40, 9230\\xa0FlawilWith innovative and high-quality products and solutions, BUCHI makes a valuable contribution to the health and safety of people and the environment. As a leading global supplier of laboratory equipment and solutions for chemical-pharmaceutical research, food and feed, and environmental analysis, we create added value for our customers and the society.Data EngineerGlobal ICT As a new additional member of our ICT Team, you contribute to the continuous improvement of our Data Lakehouse solution based on Azure Databricks and our reporting solution based on Power BI.  What makes your everyday life exciting?     Create and maintain efficient ETL processes with Azure Databricks Integrate structured and unstructured data sources with a focus on data quality and accuracy Optimize ETL for performance, scalability, and resource utilization Ensure data governance, security, and regulatory compliance Monitor and troubleshoot ETL pipelines for smooth operation Collaborate with analysts and stakeholders for data requirements Develop Power BI and SSRS reports for data visualization Design efficient data models for querying and reporting Document ETL processes and reporting solutions for clarity and maintenance   What skills do you need to bring?     Strong expertise in ETL processes Proficient in Python and SQL with Azure Databricks Knowledge of diverse data sources and integration techniques Skilled in SQL for data manipulation Ability to create efficient data models Experience with Power BI and SSRS for reports and dashboards Understands data quality and governance p\""
      ]
     },
     "execution_count": 20,
     "metadata": {},
     "output_type": "execute_result"
    }
   ],
   "source": [
    "soup.get_text()[:5000]"
   ]
  },
  {
   "cell_type": "code",
   "execution_count": 21,
   "metadata": {
    "id": "8z6Sk1N3Fhs9",
    "outputId": "842a8eea-a0ad-482a-b6de-1a3936d2dc2e"
   },
   "outputs": [
    {
     "data": {
      "text/plain": [
       "\"\\n\\n\\n\\n\\n\\n\\n\\n\\n1306 Data engineer jobs - jobs.ch\\n\\n\\n\\n\\n\\n\\n\\n\\n\\n\\n\\n\\n\\n\\n\\n\\n\\n\\n\\n\\n\\n\\n\\n\\n\\n\\n\\n\\n\\n\\n\\n\\n\\n\\n\\n\\n\\n\\n\\n\\n\\n\\n\\n\\n\\n\\n\\n\\n\\n\\n\\n\\n\\n\\nYou are currently using an obsolete browser which is no longer 100% supported. It can cause display problems.Please upgrade your browser.Some alternatives: Firefox, Chrome.Skip to contentjobs.ch Navigation logoFind a jobExplore companiesCompare salariesRecruiter AreaDeutschFrançaisEnglishLoginFind a jobExplore companiesCompare salariesRecruiter AreaMy accountLoginDon't have an account yet?Sign upSele\""
      ]
     },
     "execution_count": 21,
     "metadata": {},
     "output_type": "execute_result"
    }
   ],
   "source": [
    "soup.get_text()[:500]"
   ]
  },
  {
   "cell_type": "markdown",
   "metadata": {
    "id": "UdB4vB8WFhs9"
   },
   "source": [
    "You can find the first element that has tag `<a>...</a>` by typing:"
   ]
  },
  {
   "cell_type": "code",
   "execution_count": 22,
   "metadata": {
    "id": "0Yz4NVrSFhs9",
    "outputId": "fac94912-5aaa-4186-fda5-31607b1859b3"
   },
   "outputs": [
    {
     "data": {
      "text/plain": [
       "<a class=\"A-sc-1q4zv2a-0 hPPUKb Link-sc-czsz28-2 bzpUGN\" href=\"https://www.mozilla.org/en-US/firefox/new/\" rel=\"noopener nofollow\" target=\"_blank\">Firefox</a>"
      ]
     },
     "execution_count": 22,
     "metadata": {},
     "output_type": "execute_result"
    }
   ],
   "source": [
    "soup.find('a')"
   ]
  },
  {
   "cell_type": "markdown",
   "metadata": {
    "id": "VHy9fpIAFhs9"
   },
   "source": [
    "And you can find all elements that have tags `<a>...</a>` by typing:"
   ]
  },
  {
   "cell_type": "code",
   "execution_count": 23,
   "metadata": {
    "id": "WOsM88JFFhtD",
    "outputId": "5ce3734f-7cd9-4c8d-97a1-b15d977880d9",
    "tags": []
   },
   "outputs": [
    {
     "data": {
      "text/plain": [
       "[<a class=\"A-sc-1q4zv2a-0 hPPUKb Link-sc-czsz28-2 bzpUGN\" href=\"https://www.mozilla.org/en-US/firefox/new/\" rel=\"noopener nofollow\" target=\"_blank\">Firefox</a>,\n",
       " <a class=\"A-sc-1q4zv2a-0 hPPUKb Link-sc-czsz28-2 bzpUGN\" href=\"https://www.google.com/intl/en_us/chrome/\" rel=\"noopener nofollow\" target=\"_blank\">Chrome</a>,\n",
       " <a class=\"A-sc-1q4zv2a-0 Header___StyledA-sc-z7prqv-1 biTpub iqmgeY\" href=\"#skip-link-target\">Skip to content</a>]"
      ]
     },
     "execution_count": 23,
     "metadata": {},
     "output_type": "execute_result"
    }
   ],
   "source": [
    "soup.find_all('a')[:3]"
   ]
  },
  {
   "cell_type": "markdown",
   "metadata": {
    "id": "3SwU2w-ZFhtD"
   },
   "source": [
    "but you can also filter through tags using attributes:"
   ]
  },
  {
   "cell_type": "code",
   "execution_count": 24,
   "metadata": {
    "id": "y9zoPZd7FhtE",
    "outputId": "f0c407f9-5279-4809-9300-54c672370e76"
   },
   "outputs": [
    {
     "data": {
      "text/plain": [
       "<a class=\"Link__ExtendedRR6Link-sc-czsz28-1 kZzJcl Link-sc-czsz28-2 VacancyLink___StyledLink-sc-ufp08j-0 bzpUGN zoplL\" data-cy=\"job-link\" href=\"/en/vacancies/detail/6cdc0c68-ad20-4b9d-b806-a3bd69296f35/?source=vacancy_search\" tabindex=\"0\" title=\"Data Engineer\"><div aria-selected=\"true\" class=\"Div-sc-1cpunnt-0 VacancySerpItemUpdated__StyledSerpItem-sc-i0986f-1 hBFpng dFEfiy\" data-cy=\"vacancy-serp-item-active\"><div class=\"Div-sc-1cpunnt-0 Flex-sc-mjmi48-0 bHInWw\" data-cy=\"serp-item-6cdc0c68-ad20-4b9d-b806-a3bd69296f35\"><p class=\"P-sc-hyu5hk-0 Text__p2-sc-1lu7urs-10 Span-sc-1ybanni-0 Text__span-sc-1lu7urs-12 Text-sc-1lu7urs-13 VacancySerpItemUpdated___StyledText-sc-i0986f-3 geNnlb iAfDeY\"><span class=\"Span-sc-1ybanni-0 Text__span-sc-1lu7urs-12 Text-sc-1lu7urs-13 ftUOUz eEFkdA\">Published: 24 October 2023</span><span aria-hidden=\"true\" class=\"Span-sc-1ybanni-0\" title=\"24 October 2023\">24 Oct</span></p></div><button aria-label=\"Save\" class=\"Button-sc-zfgt48-0 IconButton__StyledButton-sc-4tlh7t-0 dbnjCw ktQjne\" data-cy=\"bookmark-icon-unchecked\" title=\"Save\" type=\"button\"><span class=\"Span-sc-1ybanni-0 iiJtIM\"><svg aria-hidden=\"true\" class=\"Svg-sc-t66izd-0 Icon__Svg-sc-1yrtjf1-0 cazQux\" fill=\"currentColor\" focusable=\"false\" viewbox=\"0 0 24 24\"><path d=\"M17 3H7c-1.1 0-2 .9-2 2v16l7-3 7 3V5c0-1.1-.9-2-2-2zm0 15-5-2.18L7 18V5h10v13z\"></path></svg></span></button><div class=\"Div-sc-1cpunnt-0 hzrWXY\"><span class=\"Span-sc-1ybanni-0 Text__span-sc-1lu7urs-12 Text-sc-1lu7urs-13 VacancySerpItemUpdated___StyledText2-sc-i0986f-4 fvFrdm eqJMMs iDyMWN\">Data Engineer</span></div><div class=\"Div-sc-1cpunnt-0 Flex-sc-mjmi48-0 geAHTX\"><div class=\"Div-sc-1cpunnt-0 Grid-sc-18fqjd1-0 hiOkdu\"><span class=\"Span-sc-1ybanni-0 cKKlDN\"><svg aria-hidden=\"true\" class=\"Svg-sc-t66izd-0 Icon__Svg-sc-1yrtjf1-0 cazQux\" fill=\"currentColor\" focusable=\"false\" viewbox=\"0 0 24 24\"><path d=\"M12 12c.55 0 1.021-.196 1.413-.588.391-.391.587-.862.587-1.412a1.93 1.93 0 0 0-.587-1.413A1.928 1.928 0 0 0 12 8c-.55 0-1.02.196-1.412.587A1.927 1.927 0 0 0 10 10c0 .55.196 1.02.588 1.412.391.392.862.588 1.412.588zm0 7.35c2.033-1.867 3.542-3.563 4.525-5.088C17.508 12.737 18 11.383 18 10.2c0-1.817-.58-3.304-1.738-4.463C15.104 4.579 13.683 4 12 4c-1.683 0-3.104.579-4.263 1.737C6.579 6.896 6 8.383 6 10.2c0 1.183.492 2.537 1.475 4.062.983 1.525 2.492 3.221 4.525 5.088zM12 22c-2.683-2.283-4.687-4.404-6.012-6.363C4.663 13.679 4 11.867 4 10.2c0-2.5.804-4.492 2.413-5.975C8.021 2.742 9.883 2 12 2c2.117 0 3.979.742 5.587 2.225C19.196 5.708 20 7.7 20 10.2c0 1.667-.662 3.479-1.987 5.437-1.325 1.959-3.33 4.08-6.013 6.363z\"></path></svg></span><p class=\"P-sc-hyu5hk-0 Text__p2-sc-1lu7urs-10 Span-sc-1ybanni-0 Text__span-sc-1lu7urs-12 Text-sc-1lu7urs-13 cMsiEU\">Flawil</p></div><div class=\"Div-sc-1cpunnt-0 Grid-sc-18fqjd1-0 hiOkdu\"><span class=\"Span-sc-1ybanni-0 cKKlDN\"><svg aria-hidden=\"true\" class=\"Svg-sc-t66izd-0 Icon__Svg-sc-1yrtjf1-0 cazQux\" fill=\"currentColor\" focusable=\"false\" viewbox=\"0 0 24 24\"><path d=\"M14.625 16.025a.918.918 0 0 0 .675.275c.267 0 .5-.1.7-.3a.948.948 0 0 0 .275-.7.948.948 0 0 0-.275-.7l-3-3V7.975a.928.928 0 0 0-.287-.7A.993.993 0 0 0 12 7a.967.967 0 0 0-.712.287A.968.968 0 0 0 11 8v3.975a1.03 1.03 0 0 0 .3.725l3.325 3.325zM12 22a9.733 9.733 0 0 1-3.9-.788 10.092 10.092 0 0 1-3.175-2.137c-.9-.9-1.612-1.958-2.137-3.175A9.733 9.733 0 0 1 2 12a9.74 9.74 0 0 1 .788-3.9 10.092 10.092 0 0 1 2.137-3.175c.9-.9 1.958-1.613 3.175-2.138A9.743 9.743 0 0 1 12 2a9.74 9.74 0 0 1 3.9.787 10.105 10.105 0 0 1 3.175 2.138c.9.9 1.612 1.958 2.137 3.175A9.733 9.733 0 0 1 22 12a9.733 9.733 0 0 1-.788 3.9 10.092 10.092 0 0 1-2.137 3.175c-.9.9-1.958 1.612-3.175 2.137A9.733 9.733 0 0 1 12 22zm0-2c2.217 0 4.104-.779 5.663-2.337C19.221 16.104 20 14.217 20 12s-.779-4.104-2.337-5.663C16.104 4.779 14.217 4 12 4s-4.104.779-5.662 2.337C4.779 7.896 4 9.783 4 12s.78 4.104 2.338 5.663C7.896 19.221 9.783 20 12 20z\"></path></svg></span><p class=\"P-sc-hyu5hk-0 Text__p2-sc-1lu7urs-10 Span-sc-1ybanni-0 Text__span-sc-1lu7urs-12 Text-sc-1lu7urs-13 cMsiEU\">80% – 100%</p></div><div class=\"Div-sc-1cpunnt-0 Grid-sc-18fqjd1-0 hiOkdu\"><span class=\"Span-sc-1ybanni-0 cKKlDN\"><svg aria-hidden=\"true\" class=\"Svg-sc-t66izd-0 Icon__Svg-sc-1yrtjf1-0 cazQux\" fill=\"currentColor\" focusable=\"false\" viewbox=\"0 0 24 24\"><path d=\"M8 6V4c0-.55.196-1.021.588-1.413A1.925 1.925 0 0 1 10 2h4c.55 0 1.021.196 1.413.587.391.392.587.863.587 1.413v2h4c.55 0 1.021.196 1.413.588.391.391.587.862.587 1.412v11a1.93 1.93 0 0 1-.587 1.413A1.928 1.928 0 0 1 20 21H4c-.55 0-1.02-.196-1.412-.587A1.927 1.927 0 0 1 2 19V8c0-.55.196-1.02.588-1.412A1.923 1.923 0 0 1 4 6h4zm2 0h4V4h-4v2zm10 9h-5v1a.97.97 0 0 1-.287.712A.968.968 0 0 1 14 17h-4a.965.965 0 0 1-.712-.288A.965.965 0 0 1 9 16v-1H4v4h16v-4zm-9 0h2v-2h-2v2zm-7-2h5v-1c0-.283.096-.521.288-.713A.967.967 0 0 1 10 11h4a.97.97 0 0 1 .713.287A.97.97 0 0 1 15 12v1h5V8H4v5z\"></path></svg></span><p class=\"P-sc-hyu5hk-0 Text__p2-sc-1lu7urs-10 Span-sc-1ybanni-0 Text__span-sc-1lu7urs-12 Text-sc-1lu7urs-13 cMsiEU\">Unlimited employment</p></div></div><div class=\"Div-sc-1cpunnt-0 Grid-sc-18fqjd1-0 gNMZoz\"><p class=\"P-sc-hyu5hk-0 Text__p2-sc-1lu7urs-10 Span-sc-1ybanni-0 Text__span-sc-1lu7urs-12 Text-sc-1lu7urs-13 cMsiEU\"><strong>BÜCHI Labortechnik AG</strong></p><div class=\"Div-sc-1cpunnt-0 Flex-sc-mjmi48-0 ikHIje VacancySerpItemUpdated__StyledCompanyLogo-sc-i0986f-2 gSSAsv\"><picture><source srcset=\"https://media.jobs.ch/images/b9dbc87d-9207-49e9-a6d5-8434517ac754?format=png&amp;dimensions=64x0 1x, https://media.jobs.ch/images/b9dbc87d-9207-49e9-a6d5-8434517ac754?format=png&amp;dimensions=128x0 2x\"/><img alt=\"BÜCHI Labortechnik AG\" class=\"Img-sc-p5a0wu-0 Image-sc-16e0l4o-0 iyZAsx\" decoding=\"async\" loading=\"eager\" src=\"https://media.jobs.ch/images/b9dbc87d-9207-49e9-a6d5-8434517ac754?format=png&amp;dimensions=48x0\"/> </picture></div></div></div></a>"
      ]
     },
     "execution_count": 24,
     "metadata": {},
     "output_type": "execute_result"
    }
   ],
   "source": [
    "soup.find_all('a', {'data-cy': 'job-link'})[0]"
   ]
  },
  {
   "cell_type": "code",
   "execution_count": 25,
   "metadata": {
    "id": "bWK72uuCFhtE",
    "outputId": "8fed67a2-58fa-4813-bf65-8c8518ee609a"
   },
   "outputs": [
    {
     "data": {
      "text/plain": [
       "21"
      ]
     },
     "execution_count": 25,
     "metadata": {},
     "output_type": "execute_result"
    }
   ],
   "source": [
    "len(soup.find_all('a', {'data-cy': 'job-link'}))"
   ]
  },
  {
   "cell_type": "markdown",
   "metadata": {
    "id": "Yob2pptIFhtF"
   },
   "source": [
    "Once you have an element of interest, you can extract data using:"
   ]
  },
  {
   "cell_type": "code",
   "execution_count": 30,
   "metadata": {
    "id": "eFLHY31kFhtF",
    "outputId": "fc62128f-78c7-447c-b72f-df8cc3199dba"
   },
   "outputs": [
    {
     "data": {
      "text/plain": [
       "{'data-cy': 'job-link',\n",
       " 'tabindex': '0',\n",
       " 'title': 'Data Engineer',\n",
       " 'class': ['Link__ExtendedRR6Link-sc-czsz28-1',\n",
       "  'kZzJcl',\n",
       "  'Link-sc-czsz28-2',\n",
       "  'VacancyLink___StyledLink-sc-ufp08j-0',\n",
       "  'bzpUGN',\n",
       "  'zoplL'],\n",
       " 'href': '/en/vacancies/detail/6cdc0c68-ad20-4b9d-b806-a3bd69296f35/?source=vacancy_search'}"
      ]
     },
     "execution_count": 30,
     "metadata": {},
     "output_type": "execute_result"
    }
   ],
   "source": [
    "soup.find_all('a',  {'data-cy': 'job-link'})[0].attrs"
   ]
  },
  {
   "cell_type": "code",
   "execution_count": 25,
   "metadata": {
    "id": "eBXOfEiCFhtG",
    "outputId": "c4fbe2ed-fba3-4a56-a18b-4a03b90c1a11"
   },
   "outputs": [
    {
     "data": {
      "text/plain": [
       "'/en/vacancies/detail/6cdc0c68-ad20-4b9d-b806-a3bd69296f35/?source=vacancy_search'"
      ]
     },
     "execution_count": 25,
     "metadata": {},
     "output_type": "execute_result"
    }
   ],
   "source": [
    "soup.find_all('a',  {'data-cy': 'job-link'})[0].get('href')"
   ]
  },
  {
   "cell_type": "markdown",
   "metadata": {
    "id": "W4snqr6uFhtG"
   },
   "source": [
    "Now that we know how to extract data from a webpage, let's find the relevant html elements for our project. We need to locate them in the original page:"
   ]
  },
  {
   "cell_type": "markdown",
   "metadata": {
    "id": "Y1WMhiqRFhtG"
   },
   "source": [
    "### 2. Browse the source code in a web browser\n",
    "\n",
    "The html code inspector is slightly different depending on your web browser. here we use Chrome. With Chrome, we can select the following icon at the top of the code inspector tab:"
   ]
  },
  {
   "cell_type": "markdown",
   "metadata": {
    "id": "rtiHRqfIFhtH"
   },
   "source": [
    "<img src=\"https://drive.google.com/uc?id=1piq5H0kGqufsgeKQTs5VifXCGwDBVs1e\" width=\"20%\" style=\"background:none; border:none; box-shadow:none;\" />"
   ]
  },
  {
   "cell_type": "markdown",
   "metadata": {
    "id": "Y957CT_9FhtH"
   },
   "source": [
    "This allows us to select any component of the page and find the corresponding element in the html code. Let's do this for the list of jobs:"
   ]
  },
  {
   "cell_type": "markdown",
   "metadata": {
    "id": "j9bxyQ3NFhtH"
   },
   "source": [
    "<img src=\"https://drive.google.com/uc?id=1gpxxDzK0WZR73rLGNVIHkHEqP17X1CN_\" width=\"60%\" style=\"background:none; border:none; box-shadow:none;\" />"
   ]
  },
  {
   "cell_type": "markdown",
   "metadata": {
    "id": "IImuSUBUFhtI"
   },
   "source": [
    "After navigating within the html element tree, we observe that each job box is a seperate `div`element and has the `class` attribute `VacancySerpItemUpdated__ShadowBox-sc-i0986f-0`."
   ]
  },
  {
   "cell_type": "markdown",
   "metadata": {
    "id": "E6Vq9DgcFhtJ"
   },
   "source": [
    "<img src=\"https://drive.google.com/uc?id=1p3_xg7cS8Era6dl4dHKsePxAtprMNeYR\" width=\"60%\" style=\"background:none; border:none; box-shadow:none;\" />"
   ]
  },
  {
   "cell_type": "markdown",
   "metadata": {
    "id": "bGfeA8PiFhtJ"
   },
   "source": [
    "Note that websites get updated, so the name of the class might be different by the time you follow this tutorial!\n",
    "\n",
    "Here, we can get the html element for a job by typing:"
   ]
  },
  {
   "cell_type": "code",
   "execution_count": 53,
   "metadata": {
    "id": "eFOJ7r25FhtJ",
    "outputId": "7c786115-5f85-47f4-e826-9a287660acd7"
   },
   "outputs": [
    {
     "data": {
      "text/plain": [
       "20"
      ]
     },
     "execution_count": 53,
     "metadata": {},
     "output_type": "execute_result"
    }
   ],
   "source": [
    "len(soup.find_all('article', {'class' : 'VacancySerpItemUpdated__ShadowBox-sc-i0986f-0'}))"
   ]
  },
  {
   "cell_type": "code",
   "execution_count": 54,
   "metadata": {
    "id": "OPrmSBegFhtK"
   },
   "outputs": [],
   "source": [
    "one_job_ad = soup.find('article', {'class' : 'VacancySerpItemUpdated__ShadowBox-sc-i0986f-0'})"
   ]
  },
  {
   "cell_type": "code",
   "execution_count": 55,
   "metadata": {
    "id": "ZcDC4w1QFhtK",
    "outputId": "223053dd-cfb2-4199-f475-9aab932c9e0e"
   },
   "outputs": [
    {
     "data": {
      "text/plain": [
       "<article class=\"Div-sc-1cpunnt-0 VacancySerpItemUpdated__ShadowBox-sc-i0986f-0 lojXzj\" data-cy=\"serp-item\"><a class=\"Link__ExtendedRR6Link-sc-czsz28-1 kZzJcl Link-sc-czsz28-2 VacancyLink___StyledLink-sc-ufp08j-0 bzpUGN zoplL\" data-cy=\"job-link\" href=\"/en/vacancies/detail/6cdc0c68-ad20-4b9d-b806-a3bd69296f35/?source=vacancy_search\" tabindex=\"0\" title=\"Data Engineer\"><div aria-selected=\"true\" class=\"Div-sc-1cpunnt-0 VacancySerpItemUpdated__StyledSerpItem-sc-i0986f-1 hBFpng dFEfiy\" data-cy=\"vacancy-serp-item-active\"><div class=\"Div-sc-1cpunnt-0 Flex-sc-mjmi48-0 bHInWw\" data-cy=\"serp-item-6cdc0c68-ad20-4b9d-b806-a3bd69296f35\"><p class=\"P-sc-hyu5hk-0 Text__p2-sc-1lu7urs-10 Span-sc-1ybanni-0 Text__span-sc-1lu7urs-12 Text-sc-1lu7urs-13 VacancySerpItemUpdated___StyledText-sc-i0986f-3 geNnlb iAfDeY\"><span class=\"Span-sc-1ybanni-0 Text__span-sc-1lu7urs-12 Text-sc-1lu7urs-13 ftUOUz eEFkdA\">Published: 24 October 2023</span><span aria-hidden=\"true\" class=\"Span-sc-1ybanni-0\" title=\"24 October 2023\">24 Oct</span></p></div><button aria-label=\"Save\" class=\"Button-sc-zfgt48-0 IconButton__StyledButton-sc-4tlh7t-0 dbnjCw ktQjne\" data-cy=\"bookmark-icon-unchecked\" title=\"Save\" type=\"button\"><span class=\"Span-sc-1ybanni-0 iiJtIM\"><svg aria-hidden=\"true\" class=\"Svg-sc-t66izd-0 Icon__Svg-sc-1yrtjf1-0 cazQux\" fill=\"currentColor\" focusable=\"false\" viewbox=\"0 0 24 24\"><path d=\"M17 3H7c-1.1 0-2 .9-2 2v16l7-3 7 3V5c0-1.1-.9-2-2-2zm0 15-5-2.18L7 18V5h10v13z\"></path></svg></span></button><div class=\"Div-sc-1cpunnt-0 hzrWXY\"><span class=\"Span-sc-1ybanni-0 Text__span-sc-1lu7urs-12 Text-sc-1lu7urs-13 VacancySerpItemUpdated___StyledText2-sc-i0986f-4 fvFrdm eqJMMs iDyMWN\">Data Engineer</span></div><div class=\"Div-sc-1cpunnt-0 Flex-sc-mjmi48-0 geAHTX\"><div class=\"Div-sc-1cpunnt-0 Grid-sc-18fqjd1-0 hiOkdu\"><span class=\"Span-sc-1ybanni-0 cKKlDN\"><svg aria-hidden=\"true\" class=\"Svg-sc-t66izd-0 Icon__Svg-sc-1yrtjf1-0 cazQux\" fill=\"currentColor\" focusable=\"false\" viewbox=\"0 0 24 24\"><path d=\"M12 12c.55 0 1.021-.196 1.413-.588.391-.391.587-.862.587-1.412a1.93 1.93 0 0 0-.587-1.413A1.928 1.928 0 0 0 12 8c-.55 0-1.02.196-1.412.587A1.927 1.927 0 0 0 10 10c0 .55.196 1.02.588 1.412.391.392.862.588 1.412.588zm0 7.35c2.033-1.867 3.542-3.563 4.525-5.088C17.508 12.737 18 11.383 18 10.2c0-1.817-.58-3.304-1.738-4.463C15.104 4.579 13.683 4 12 4c-1.683 0-3.104.579-4.263 1.737C6.579 6.896 6 8.383 6 10.2c0 1.183.492 2.537 1.475 4.062.983 1.525 2.492 3.221 4.525 5.088zM12 22c-2.683-2.283-4.687-4.404-6.012-6.363C4.663 13.679 4 11.867 4 10.2c0-2.5.804-4.492 2.413-5.975C8.021 2.742 9.883 2 12 2c2.117 0 3.979.742 5.587 2.225C19.196 5.708 20 7.7 20 10.2c0 1.667-.662 3.479-1.987 5.437-1.325 1.959-3.33 4.08-6.013 6.363z\"></path></svg></span><p class=\"P-sc-hyu5hk-0 Text__p2-sc-1lu7urs-10 Span-sc-1ybanni-0 Text__span-sc-1lu7urs-12 Text-sc-1lu7urs-13 cMsiEU\">Flawil</p></div><div class=\"Div-sc-1cpunnt-0 Grid-sc-18fqjd1-0 hiOkdu\"><span class=\"Span-sc-1ybanni-0 cKKlDN\"><svg aria-hidden=\"true\" class=\"Svg-sc-t66izd-0 Icon__Svg-sc-1yrtjf1-0 cazQux\" fill=\"currentColor\" focusable=\"false\" viewbox=\"0 0 24 24\"><path d=\"M14.625 16.025a.918.918 0 0 0 .675.275c.267 0 .5-.1.7-.3a.948.948 0 0 0 .275-.7.948.948 0 0 0-.275-.7l-3-3V7.975a.928.928 0 0 0-.287-.7A.993.993 0 0 0 12 7a.967.967 0 0 0-.712.287A.968.968 0 0 0 11 8v3.975a1.03 1.03 0 0 0 .3.725l3.325 3.325zM12 22a9.733 9.733 0 0 1-3.9-.788 10.092 10.092 0 0 1-3.175-2.137c-.9-.9-1.612-1.958-2.137-3.175A9.733 9.733 0 0 1 2 12a9.74 9.74 0 0 1 .788-3.9 10.092 10.092 0 0 1 2.137-3.175c.9-.9 1.958-1.613 3.175-2.138A9.743 9.743 0 0 1 12 2a9.74 9.74 0 0 1 3.9.787 10.105 10.105 0 0 1 3.175 2.138c.9.9 1.612 1.958 2.137 3.175A9.733 9.733 0 0 1 22 12a9.733 9.733 0 0 1-.788 3.9 10.092 10.092 0 0 1-2.137 3.175c-.9.9-1.958 1.612-3.175 2.137A9.733 9.733 0 0 1 12 22zm0-2c2.217 0 4.104-.779 5.663-2.337C19.221 16.104 20 14.217 20 12s-.779-4.104-2.337-5.663C16.104 4.779 14.217 4 12 4s-4.104.779-5.662 2.337C4.779 7.896 4 9.783 4 12s.78 4.104 2.338 5.663C7.896 19.221 9.783 20 12 20z\"></path></svg></span><p class=\"P-sc-hyu5hk-0 Text__p2-sc-1lu7urs-10 Span-sc-1ybanni-0 Text__span-sc-1lu7urs-12 Text-sc-1lu7urs-13 cMsiEU\">80% – 100%</p></div><div class=\"Div-sc-1cpunnt-0 Grid-sc-18fqjd1-0 hiOkdu\"><span class=\"Span-sc-1ybanni-0 cKKlDN\"><svg aria-hidden=\"true\" class=\"Svg-sc-t66izd-0 Icon__Svg-sc-1yrtjf1-0 cazQux\" fill=\"currentColor\" focusable=\"false\" viewbox=\"0 0 24 24\"><path d=\"M8 6V4c0-.55.196-1.021.588-1.413A1.925 1.925 0 0 1 10 2h4c.55 0 1.021.196 1.413.587.391.392.587.863.587 1.413v2h4c.55 0 1.021.196 1.413.588.391.391.587.862.587 1.412v11a1.93 1.93 0 0 1-.587 1.413A1.928 1.928 0 0 1 20 21H4c-.55 0-1.02-.196-1.412-.587A1.927 1.927 0 0 1 2 19V8c0-.55.196-1.02.588-1.412A1.923 1.923 0 0 1 4 6h4zm2 0h4V4h-4v2zm10 9h-5v1a.97.97 0 0 1-.287.712A.968.968 0 0 1 14 17h-4a.965.965 0 0 1-.712-.288A.965.965 0 0 1 9 16v-1H4v4h16v-4zm-9 0h2v-2h-2v2zm-7-2h5v-1c0-.283.096-.521.288-.713A.967.967 0 0 1 10 11h4a.97.97 0 0 1 .713.287A.97.97 0 0 1 15 12v1h5V8H4v5z\"></path></svg></span><p class=\"P-sc-hyu5hk-0 Text__p2-sc-1lu7urs-10 Span-sc-1ybanni-0 Text__span-sc-1lu7urs-12 Text-sc-1lu7urs-13 cMsiEU\">Unlimited employment</p></div></div><div class=\"Div-sc-1cpunnt-0 Grid-sc-18fqjd1-0 gNMZoz\"><p class=\"P-sc-hyu5hk-0 Text__p2-sc-1lu7urs-10 Span-sc-1ybanni-0 Text__span-sc-1lu7urs-12 Text-sc-1lu7urs-13 cMsiEU\"><strong>BÜCHI Labortechnik AG</strong></p><div class=\"Div-sc-1cpunnt-0 Flex-sc-mjmi48-0 ikHIje VacancySerpItemUpdated__StyledCompanyLogo-sc-i0986f-2 gSSAsv\"><picture><source srcset=\"https://media.jobs.ch/images/b9dbc87d-9207-49e9-a6d5-8434517ac754?format=png&amp;dimensions=64x0 1x, https://media.jobs.ch/images/b9dbc87d-9207-49e9-a6d5-8434517ac754?format=png&amp;dimensions=128x0 2x\"/><img alt=\"BÜCHI Labortechnik AG\" class=\"Img-sc-p5a0wu-0 Image-sc-16e0l4o-0 iyZAsx\" decoding=\"async\" loading=\"eager\" src=\"https://media.jobs.ch/images/b9dbc87d-9207-49e9-a6d5-8434517ac754?format=png&amp;dimensions=48x0\"/> </picture></div></div></div></a></article>"
      ]
     },
     "execution_count": 55,
     "metadata": {},
     "output_type": "execute_result"
    }
   ],
   "source": [
    "one_job_ad"
   ]
  },
  {
   "cell_type": "markdown",
   "metadata": {
    "id": "93un34AmFhtL"
   },
   "source": [
    "Please note: by the time we updated this notebook, the exact value of the class has changed from `VacancySerpItem__ShadowBox-qr45cp-0` to `VacancySerpItem__ShadowBox-ppntto-0`, hence the difference between the code and the photo above."
   ]
  },
  {
   "cell_type": "markdown",
   "metadata": {
    "id": "HxlDO8aKFhtL"
   },
   "source": [
    "To find all of them, we can write:"
   ]
  },
  {
   "cell_type": "code",
   "execution_count": 50,
   "metadata": {
    "id": "qgxdzaeIFhtL"
   },
   "outputs": [],
   "source": [
    "job_ads = soup.find_all('article', {'class' : 'Div-sc-1cpunnt-0'})"
   ]
  },
  {
   "cell_type": "code",
   "execution_count": 51,
   "metadata": {
    "id": "kaSAzhshFhtL",
    "outputId": "a7d5163b-0e70-4535-8204-310b8d2dca49"
   },
   "outputs": [
    {
     "data": {
      "text/plain": [
       "20"
      ]
     },
     "execution_count": 51,
     "metadata": {},
     "output_type": "execute_result"
    }
   ],
   "source": [
    "len(job_ads)"
   ]
  },
  {
   "cell_type": "markdown",
   "metadata": {
    "id": "BeuvYcc6FhtL"
   },
   "source": [
    "we obtain a list of 24 job ads! Each component of the list contains the html element describing the job ad:"
   ]
  },
  {
   "cell_type": "code",
   "execution_count": 32,
   "metadata": {
    "id": "Lx3I5IuZFhtL",
    "outputId": "336d2683-49df-457c-b446-62a393d43d76"
   },
   "outputs": [
    {
     "data": {
      "text/plain": [
       "<article class=\"Div-sc-1cpunnt-0 VacancySerpItemUpdated__ShadowBox-sc-i0986f-0 dHEdIW\" data-cy=\"serp-item\"><a class=\"Link__ExtendedRR6Link-sc-czsz28-1 kZzJcl Link-sc-czsz28-2 VacancyLink___StyledLink-sc-ufp08j-0 bzpUGN zoplL\" data-cy=\"job-link\" href=\"/en/vacancies/detail/a8760059-ff9f-4574-b997-245e0ca61132/?source=vacancy_search\" tabindex=\"0\" title=\"Ingenieur/in Aeronautical Information System\"><div class=\"Div-sc-1cpunnt-0 VacancySerpItemUpdated__StyledSerpItem-sc-i0986f-1 hBFpng jVoBIW\" data-cy=\"vacancy-serp-item\"><div class=\"Div-sc-1cpunnt-0 Flex-sc-mjmi48-0 bHInWw\" data-cy=\"serp-item-a8760059-ff9f-4574-b997-245e0ca61132\"><p class=\"P-sc-hyu5hk-0 Text__p2-sc-1lu7urs-10 Span-sc-1ybanni-0 Text__span-sc-1lu7urs-12 Text-sc-1lu7urs-13 VacancySerpItemUpdated___StyledText-sc-i0986f-3 geNnlb iAfDeY\"><span class=\"Span-sc-1ybanni-0 Text__span-sc-1lu7urs-12 Text-sc-1lu7urs-13 ftUOUz eEFkdA\">Published: 08 November 2023</span><span aria-hidden=\"true\" class=\"Span-sc-1ybanni-0\" title=\"08 November 2023\">08 Nov</span></p></div><button aria-label=\"Save\" class=\"Button-sc-zfgt48-0 IconButton__StyledButton-sc-4tlh7t-0 dbnjCw ktQjne\" data-cy=\"bookmark-icon-unchecked\" title=\"Save\" type=\"button\"><span class=\"Span-sc-1ybanni-0 iiJtIM\"><svg aria-hidden=\"true\" class=\"Svg-sc-t66izd-0 Icon__Svg-sc-1yrtjf1-0 cazQux\" fill=\"currentColor\" focusable=\"false\" viewbox=\"0 0 24 24\"><path d=\"M17 3H7c-1.1 0-2 .9-2 2v16l7-3 7 3V5c0-1.1-.9-2-2-2zm0 15-5-2.18L7 18V5h10v13z\"></path></svg></span></button><div class=\"Div-sc-1cpunnt-0 hzrWXY\"><span class=\"Span-sc-1ybanni-0 Text__span-sc-1lu7urs-12 Text-sc-1lu7urs-13 VacancySerpItemUpdated___StyledText2-sc-i0986f-4 doDVAK eqJMMs iDyMWN\">Ingenieur/in Aeronautical Information System</span></div><div class=\"Div-sc-1cpunnt-0 Flex-sc-mjmi48-0 geAHTX\"><div class=\"Div-sc-1cpunnt-0 Grid-sc-18fqjd1-0 hiOkdu\"><span class=\"Span-sc-1ybanni-0 cKKlDN\"><svg aria-hidden=\"true\" class=\"Svg-sc-t66izd-0 Icon__Svg-sc-1yrtjf1-0 cazQux\" fill=\"currentColor\" focusable=\"false\" viewbox=\"0 0 24 24\"><path d=\"M12 12c.55 0 1.021-.196 1.413-.588.391-.391.587-.862.587-1.412a1.93 1.93 0 0 0-.587-1.413A1.928 1.928 0 0 0 12 8c-.55 0-1.02.196-1.412.587A1.927 1.927 0 0 0 10 10c0 .55.196 1.02.588 1.412.391.392.862.588 1.412.588zm0 7.35c2.033-1.867 3.542-3.563 4.525-5.088C17.508 12.737 18 11.383 18 10.2c0-1.817-.58-3.304-1.738-4.463C15.104 4.579 13.683 4 12 4c-1.683 0-3.104.579-4.263 1.737C6.579 6.896 6 8.383 6 10.2c0 1.183.492 2.537 1.475 4.062.983 1.525 2.492 3.221 4.525 5.088zM12 22c-2.683-2.283-4.687-4.404-6.012-6.363C4.663 13.679 4 11.867 4 10.2c0-2.5.804-4.492 2.413-5.975C8.021 2.742 9.883 2 12 2c2.117 0 3.979.742 5.587 2.225C19.196 5.708 20 7.7 20 10.2c0 1.667-.662 3.479-1.987 5.437-1.325 1.959-3.33 4.08-6.013 6.363z\"></path></svg></span><p class=\"P-sc-hyu5hk-0 Text__p2-sc-1lu7urs-10 Span-sc-1ybanni-0 Text__span-sc-1lu7urs-12 Text-sc-1lu7urs-13 cMsiEU\">Dübendorf (ZH)</p></div><div class=\"Div-sc-1cpunnt-0 Grid-sc-18fqjd1-0 hiOkdu\"><span class=\"Span-sc-1ybanni-0 cKKlDN\"><svg aria-hidden=\"true\" class=\"Svg-sc-t66izd-0 Icon__Svg-sc-1yrtjf1-0 cazQux\" fill=\"currentColor\" focusable=\"false\" viewbox=\"0 0 24 24\"><path d=\"M14.625 16.025a.918.918 0 0 0 .675.275c.267 0 .5-.1.7-.3a.948.948 0 0 0 .275-.7.948.948 0 0 0-.275-.7l-3-3V7.975a.928.928 0 0 0-.287-.7A.993.993 0 0 0 12 7a.967.967 0 0 0-.712.287A.968.968 0 0 0 11 8v3.975a1.03 1.03 0 0 0 .3.725l3.325 3.325zM12 22a9.733 9.733 0 0 1-3.9-.788 10.092 10.092 0 0 1-3.175-2.137c-.9-.9-1.612-1.958-2.137-3.175A9.733 9.733 0 0 1 2 12a9.74 9.74 0 0 1 .788-3.9 10.092 10.092 0 0 1 2.137-3.175c.9-.9 1.958-1.613 3.175-2.138A9.743 9.743 0 0 1 12 2a9.74 9.74 0 0 1 3.9.787 10.105 10.105 0 0 1 3.175 2.138c.9.9 1.612 1.958 2.137 3.175A9.733 9.733 0 0 1 22 12a9.733 9.733 0 0 1-.788 3.9 10.092 10.092 0 0 1-2.137 3.175c-.9.9-1.958 1.612-3.175 2.137A9.733 9.733 0 0 1 12 22zm0-2c2.217 0 4.104-.779 5.663-2.337C19.221 16.104 20 14.217 20 12s-.779-4.104-2.337-5.663C16.104 4.779 14.217 4 12 4s-4.104.779-5.662 2.337C4.779 7.896 4 9.783 4 12s.78 4.104 2.338 5.663C7.896 19.221 9.783 20 12 20z\"></path></svg></span><p class=\"P-sc-hyu5hk-0 Text__p2-sc-1lu7urs-10 Span-sc-1ybanni-0 Text__span-sc-1lu7urs-12 Text-sc-1lu7urs-13 cMsiEU\">80% – 100%</p></div><div class=\"Div-sc-1cpunnt-0 Grid-sc-18fqjd1-0 hiOkdu\"><span class=\"Span-sc-1ybanni-0 cKKlDN\"><svg aria-hidden=\"true\" class=\"Svg-sc-t66izd-0 Icon__Svg-sc-1yrtjf1-0 cazQux\" fill=\"currentColor\" focusable=\"false\" viewbox=\"0 0 24 24\"><path d=\"M8 6V4c0-.55.196-1.021.588-1.413A1.925 1.925 0 0 1 10 2h4c.55 0 1.021.196 1.413.587.391.392.587.863.587 1.413v2h4c.55 0 1.021.196 1.413.588.391.391.587.862.587 1.412v11a1.93 1.93 0 0 1-.587 1.413A1.928 1.928 0 0 1 20 21H4c-.55 0-1.02-.196-1.412-.587A1.927 1.927 0 0 1 2 19V8c0-.55.196-1.02.588-1.412A1.923 1.923 0 0 1 4 6h4zm2 0h4V4h-4v2zm10 9h-5v1a.97.97 0 0 1-.287.712A.968.968 0 0 1 14 17h-4a.965.965 0 0 1-.712-.288A.965.965 0 0 1 9 16v-1H4v4h16v-4zm-9 0h2v-2h-2v2zm-7-2h5v-1c0-.283.096-.521.288-.713A.967.967 0 0 1 10 11h4a.97.97 0 0 1 .713.287A.97.97 0 0 1 15 12v1h5V8H4v5z\"></path></svg></span><p class=\"P-sc-hyu5hk-0 Text__p2-sc-1lu7urs-10 Span-sc-1ybanni-0 Text__span-sc-1lu7urs-12 Text-sc-1lu7urs-13 cMsiEU\">Unlimited employment</p></div></div><div class=\"Div-sc-1cpunnt-0 Grid-sc-18fqjd1-0 gNMZoz\"><p class=\"P-sc-hyu5hk-0 Text__p2-sc-1lu7urs-10 Span-sc-1ybanni-0 Text__span-sc-1lu7urs-12 Text-sc-1lu7urs-13 cMsiEU\"><strong>Verteidigung - Kommando Operationen Kdo Op</strong></p><div class=\"Div-sc-1cpunnt-0 Flex-sc-mjmi48-0 ikHIje VacancySerpItemUpdated__StyledCompanyLogo-sc-i0986f-2 gSSAsv\"><picture><source srcset=\"https://media.jobs.ch/images/9767f2e0-d586-4131-8662-6ee741aa486f?format=png&amp;dimensions=64x0 1x, https://media.jobs.ch/images/9767f2e0-d586-4131-8662-6ee741aa486f?format=png&amp;dimensions=128x0 2x\"/><img alt=\"Verteidigung - Kommando Operationen Kdo Op\" class=\"Img-sc-p5a0wu-0 Image-sc-16e0l4o-0 iyZAsx\" decoding=\"async\" loading=\"lazy\" src=\"https://media.jobs.ch/images/9767f2e0-d586-4131-8662-6ee741aa486f?format=png&amp;dimensions=48x0\"/> </picture></div></div></div></a></article>"
      ]
     },
     "execution_count": 32,
     "metadata": {},
     "output_type": "execute_result"
    }
   ],
   "source": [
    "job_ads[-1]"
   ]
  },
  {
   "cell_type": "markdown",
   "metadata": {
    "id": "-3HQTAq3FhtM"
   },
   "source": [
    "now that we have identified the data blocks for jobs, we can extract the individual pieces of information. Let's start with the link to the job ad. This will be located within a `<a>` tag, and we are interested in the `href` attribute:"
   ]
  },
  {
   "cell_type": "code",
   "execution_count": 33,
   "metadata": {
    "id": "pXIjdHcTFhtM",
    "outputId": "315186c9-f1c1-4ed8-a914-36d37025746f"
   },
   "outputs": [
    {
     "data": {
      "text/plain": [
       "'/en/vacancies/detail/6cdc0c68-ad20-4b9d-b806-a3bd69296f35/?source=vacancy_search'"
      ]
     },
     "execution_count": 33,
     "metadata": {},
     "output_type": "execute_result"
    }
   ],
   "source": [
    "job_ads[0].find('a').get('href')"
   ]
  },
  {
   "cell_type": "markdown",
   "metadata": {
    "id": "4cNB4pCWFhtM"
   },
   "source": [
    "Getting the link can be done without specifying any attribute because that is the only 'a' tag content in one job-ad-box but it is also better to specify the attribute to avoid confusion:"
   ]
  },
  {
   "cell_type": "code",
   "execution_count": 34,
   "metadata": {
    "id": "ObdrJrT_FhtM",
    "outputId": "b7fc10cb-3c02-4819-fe41-9dc8bf82e0f4"
   },
   "outputs": [
    {
     "data": {
      "text/plain": [
       "'/en/vacancies/detail/6cdc0c68-ad20-4b9d-b806-a3bd69296f35/?source=vacancy_search'"
      ]
     },
     "execution_count": 34,
     "metadata": {},
     "output_type": "execute_result"
    }
   ],
   "source": [
    "job_ads[0].find('a', {'data-cy' : 'job-link'}).get('href')"
   ]
  },
  {
   "cell_type": "markdown",
   "metadata": {
    "id": "AFPpoPSOFhtM"
   },
   "source": [
    "We get the link to the job ad page but to access the page from outside, we need to add 'https://www.jobs.ch' as prefix:"
   ]
  },
  {
   "cell_type": "code",
   "execution_count": 35,
   "metadata": {
    "id": "o0yuY4hHFhtM",
    "outputId": "61f01cf5-eeca-43bb-b8f9-930d39185d0f"
   },
   "outputs": [
    {
     "data": {
      "text/plain": [
       "'https://www.jobs.ch/en/vacancies/detail/6cdc0c68-ad20-4b9d-b806-a3bd69296f35/?source=vacancy_search'"
      ]
     },
     "execution_count": 35,
     "metadata": {},
     "output_type": "execute_result"
    }
   ],
   "source": [
    "'https://www.jobs.ch' + job_ads[0].find('a',{'data-cy' : 'job-link'}).get('href')"
   ]
  },
  {
   "cell_type": "code",
   "execution_count": 36,
   "metadata": {
    "id": "CHj7XUp3FhtN",
    "outputId": "54b97d42-57f8-481d-c14e-8dcd88505a3c"
   },
   "outputs": [
    {
     "data": {
      "text/plain": [
       "'6cdc0c68-ad20-4b9d-b806-a3bd69296f35'"
      ]
     },
     "execution_count": 36,
     "metadata": {},
     "output_type": "execute_result"
    }
   ],
   "source": [
    "job_ads[0].find('a',{'data-cy' : 'job-link'}).get('href').split('/')[4]"
   ]
  },
  {
   "cell_type": "markdown",
   "metadata": {
    "id": "aXm0XLOxFhtN"
   },
   "source": [
    "let's check it works for other links:"
   ]
  },
  {
   "cell_type": "code",
   "execution_count": 37,
   "metadata": {
    "id": "5SuKdzAFFhtN",
    "outputId": "2acad9fd-ce14-4ddd-d0ef-5b79e13272d7"
   },
   "outputs": [
    {
     "data": {
      "text/plain": [
       "['https://www.jobs.ch/en/vacancies/detail/6cdc0c68-ad20-4b9d-b806-a3bd69296f35/?source=vacancy_search',\n",
       " 'https://www.jobs.ch/en/vacancies/detail/ac85350c-40a5-4f77-bea5-c8df34991e0a/?source=vacancy_search',\n",
       " 'https://www.jobs.ch/en/vacancies/detail/d87b7c1a-5cca-45b2-a23c-151ab641f3c8/?source=vacancy_search',\n",
       " 'https://www.jobs.ch/en/vacancies/detail/3f633030-82d2-4e3b-8278-1d066b47fbcd/?source=vacancy_search',\n",
       " 'https://www.jobs.ch/en/vacancies/detail/2e95ec17-5aaa-417d-a6c5-10e377c00101/?source=vacancy_search',\n",
       " 'https://www.jobs.ch/en/vacancies/detail/2f2efbf2-9a79-4312-b916-dcbcd9a624b2/?source=vacancy_search',\n",
       " 'https://www.jobs.ch/en/vacancies/detail/6b2be353-98ff-4f59-b042-c73d4d412903/?source=vacancy_search',\n",
       " 'https://www.jobs.ch/en/vacancies/detail/c804f640-0bc3-49a1-8746-9d2ed5552b00/?source=vacancy_search',\n",
       " 'https://www.jobs.ch/en/vacancies/detail/4deeb12d-85f6-47bb-bca5-5361071ef512/?source=vacancy_search',\n",
       " 'https://www.jobs.ch/en/vacancies/detail/da181874-9de9-40aa-84ee-ef18c95a7849/?source=vacancy_search',\n",
       " 'https://www.jobs.ch/en/vacancies/detail/5dc7148e-9c07-4644-b360-09441fb4a98b/?source=vacancy_search',\n",
       " 'https://www.jobs.ch/en/vacancies/detail/607b408c-3c0c-49a8-9872-381d6c8428c9/?source=vacancy_search',\n",
       " 'https://www.jobs.ch/en/vacancies/detail/0d2d586b-685c-4e16-81d1-322286efd69a/?source=vacancy_search',\n",
       " 'https://www.jobs.ch/en/vacancies/detail/96c6bffc-315e-4636-b503-b5e2a6a89805/?source=vacancy_search',\n",
       " 'https://www.jobs.ch/en/vacancies/detail/fc4d3bad-ae89-409b-9de1-b7e1dcd8719c/?source=vacancy_search',\n",
       " 'https://www.jobs.ch/en/vacancies/detail/ca247a65-f2db-4ce2-aa90-e45760e99066/?source=vacancy_search',\n",
       " 'https://www.jobs.ch/en/vacancies/detail/f7d79efc-27c9-4028-b2c9-ce67df063d0f/?source=vacancy_search',\n",
       " 'https://www.jobs.ch/en/vacancies/detail/c08fec59-94d3-497c-916c-9fceb5267f0e/?source=vacancy_search',\n",
       " 'https://www.jobs.ch/en/vacancies/detail/08937d3e-74e3-4e92-9265-b6bcc3574209/?source=vacancy_search',\n",
       " 'https://www.jobs.ch/en/vacancies/detail/a8760059-ff9f-4574-b997-245e0ca61132/?source=vacancy_search']"
      ]
     },
     "execution_count": 37,
     "metadata": {},
     "output_type": "execute_result"
    }
   ],
   "source": [
    "['https://www.jobs.ch' + job.find('a',{'data-cy' : 'job-link'}).get('href') for job in job_ads]"
   ]
  },
  {
   "cell_type": "markdown",
   "metadata": {
    "id": "h-cJ_4uWFhtN"
   },
   "source": [
    "now we can see that in the `<a>`element, we have an attribute called title, which corresponds the the title of the ad:"
   ]
  },
  {
   "cell_type": "code",
   "execution_count": null,
   "metadata": {
    "id": "cfF-rCW-FhtO"
   },
   "outputs": [],
   "source": [
    "# show attributes"
   ]
  },
  {
   "cell_type": "code",
   "execution_count": 56,
   "metadata": {
    "id": "Q_WdLCjFFhtO",
    "outputId": "0ea101ba-3f09-4d14-d197-b6f3d17d60f9"
   },
   "outputs": [
    {
     "name": "stdout",
     "output_type": "stream",
     "text": [
      "Data Engineer\n",
      "Data Engineer (a) in Zürich\n",
      "Data Engineer in Medical Imaging\n",
      "Platform Engineer (w/m/d)\n",
      "Frontend Engineer #1908\n",
      "Building Service Layout Engineer (E3D Designer)\n",
      "Senior Engineer SPS/HMI 100 % (m/w/d)\n",
      "Requirements Engineer / Product Owner Dokumentenmanagement (a) (80-100%)\n",
      "Scientific Engagement Engineer\n",
      "Mechanical Engineer\n",
      "SYSTEM ENGINEER / PROJECT MANAGER (A)\n",
      "DESIGN ENGINEER\n",
      "Innovation & Development Engineer (w/m/d) 80-100 %\n",
      "Senior AVEVA PI Engineer (w/m/d)\n",
      "Dynamics 365 / Power Platform Engineer (60 - 100%)\n",
      "Traktionsingenieur 80 - 100 % (m/w/d)\n",
      "Robotics Engineer (m/w) 100%\n",
      "Ingenieur/-in / Verkehrsplanung\n",
      "Data & Analytics Principal Engineer (m/f/x)\n",
      "Ingenieur/in Aeronautical Information System\n"
     ]
    }
   ],
   "source": [
    "for job in job_ads:\n",
    "    print(job.find('a', {'data-cy' : 'job-link'}).get('title'))"
   ]
  },
  {
   "cell_type": "markdown",
   "metadata": {
    "id": "SfFs2vRLFhtO"
   },
   "source": [
    "we also find that the name of the company, the location of the job and the date of posting are all texts within a `<span>` element with attribute `class=Text__span-sc-1lu7urs-8`, and that it always come in the following order:\n",
    "\n",
    "- job title\n",
    "- company\n",
    "- location\n",
    "- date of publication\n",
    "\n",
    "we can then extract the data using `findAll`:"
   ]
  },
  {
   "cell_type": "code",
   "execution_count": 57,
   "metadata": {
    "id": "_MIIydxzFhtO",
    "outputId": "3c2e0eac-af05-455c-ceed-de777845127d"
   },
   "outputs": [
    {
     "data": {
      "text/plain": [
       "[<span class=\"Span-sc-1ybanni-0 Text__span-sc-1lu7urs-12 Text-sc-1lu7urs-13 ftUOUz eEFkdA\">Published: 24 October 2023</span>,\n",
       " <span aria-hidden=\"true\" class=\"Span-sc-1ybanni-0\" title=\"24 October 2023\">24 Oct</span>,\n",
       " <span class=\"Span-sc-1ybanni-0 iiJtIM\"><svg aria-hidden=\"true\" class=\"Svg-sc-t66izd-0 Icon__Svg-sc-1yrtjf1-0 cazQux\" fill=\"currentColor\" focusable=\"false\" viewbox=\"0 0 24 24\"><path d=\"M17 3H7c-1.1 0-2 .9-2 2v16l7-3 7 3V5c0-1.1-.9-2-2-2zm0 15-5-2.18L7 18V5h10v13z\"></path></svg></span>,\n",
       " <span class=\"Span-sc-1ybanni-0 Text__span-sc-1lu7urs-12 Text-sc-1lu7urs-13 VacancySerpItemUpdated___StyledText2-sc-i0986f-4 fvFrdm eqJMMs iDyMWN\">Data Engineer</span>,\n",
       " <span class=\"Span-sc-1ybanni-0 cKKlDN\"><svg aria-hidden=\"true\" class=\"Svg-sc-t66izd-0 Icon__Svg-sc-1yrtjf1-0 cazQux\" fill=\"currentColor\" focusable=\"false\" viewbox=\"0 0 24 24\"><path d=\"M12 12c.55 0 1.021-.196 1.413-.588.391-.391.587-.862.587-1.412a1.93 1.93 0 0 0-.587-1.413A1.928 1.928 0 0 0 12 8c-.55 0-1.02.196-1.412.587A1.927 1.927 0 0 0 10 10c0 .55.196 1.02.588 1.412.391.392.862.588 1.412.588zm0 7.35c2.033-1.867 3.542-3.563 4.525-5.088C17.508 12.737 18 11.383 18 10.2c0-1.817-.58-3.304-1.738-4.463C15.104 4.579 13.683 4 12 4c-1.683 0-3.104.579-4.263 1.737C6.579 6.896 6 8.383 6 10.2c0 1.183.492 2.537 1.475 4.062.983 1.525 2.492 3.221 4.525 5.088zM12 22c-2.683-2.283-4.687-4.404-6.012-6.363C4.663 13.679 4 11.867 4 10.2c0-2.5.804-4.492 2.413-5.975C8.021 2.742 9.883 2 12 2c2.117 0 3.979.742 5.587 2.225C19.196 5.708 20 7.7 20 10.2c0 1.667-.662 3.479-1.987 5.437-1.325 1.959-3.33 4.08-6.013 6.363z\"></path></svg></span>,\n",
       " <span class=\"Span-sc-1ybanni-0 cKKlDN\"><svg aria-hidden=\"true\" class=\"Svg-sc-t66izd-0 Icon__Svg-sc-1yrtjf1-0 cazQux\" fill=\"currentColor\" focusable=\"false\" viewbox=\"0 0 24 24\"><path d=\"M14.625 16.025a.918.918 0 0 0 .675.275c.267 0 .5-.1.7-.3a.948.948 0 0 0 .275-.7.948.948 0 0 0-.275-.7l-3-3V7.975a.928.928 0 0 0-.287-.7A.993.993 0 0 0 12 7a.967.967 0 0 0-.712.287A.968.968 0 0 0 11 8v3.975a1.03 1.03 0 0 0 .3.725l3.325 3.325zM12 22a9.733 9.733 0 0 1-3.9-.788 10.092 10.092 0 0 1-3.175-2.137c-.9-.9-1.612-1.958-2.137-3.175A9.733 9.733 0 0 1 2 12a9.74 9.74 0 0 1 .788-3.9 10.092 10.092 0 0 1 2.137-3.175c.9-.9 1.958-1.613 3.175-2.138A9.743 9.743 0 0 1 12 2a9.74 9.74 0 0 1 3.9.787 10.105 10.105 0 0 1 3.175 2.138c.9.9 1.612 1.958 2.137 3.175A9.733 9.733 0 0 1 22 12a9.733 9.733 0 0 1-.788 3.9 10.092 10.092 0 0 1-2.137 3.175c-.9.9-1.958 1.612-3.175 2.137A9.733 9.733 0 0 1 12 22zm0-2c2.217 0 4.104-.779 5.663-2.337C19.221 16.104 20 14.217 20 12s-.779-4.104-2.337-5.663C16.104 4.779 14.217 4 12 4s-4.104.779-5.662 2.337C4.779 7.896 4 9.783 4 12s.78 4.104 2.338 5.663C7.896 19.221 9.783 20 12 20z\"></path></svg></span>,\n",
       " <span class=\"Span-sc-1ybanni-0 cKKlDN\"><svg aria-hidden=\"true\" class=\"Svg-sc-t66izd-0 Icon__Svg-sc-1yrtjf1-0 cazQux\" fill=\"currentColor\" focusable=\"false\" viewbox=\"0 0 24 24\"><path d=\"M8 6V4c0-.55.196-1.021.588-1.413A1.925 1.925 0 0 1 10 2h4c.55 0 1.021.196 1.413.587.391.392.587.863.587 1.413v2h4c.55 0 1.021.196 1.413.588.391.391.587.862.587 1.412v11a1.93 1.93 0 0 1-.587 1.413A1.928 1.928 0 0 1 20 21H4c-.55 0-1.02-.196-1.412-.587A1.927 1.927 0 0 1 2 19V8c0-.55.196-1.02.588-1.412A1.923 1.923 0 0 1 4 6h4zm2 0h4V4h-4v2zm10 9h-5v1a.97.97 0 0 1-.287.712A.968.968 0 0 1 14 17h-4a.965.965 0 0 1-.712-.288A.965.965 0 0 1 9 16v-1H4v4h16v-4zm-9 0h2v-2h-2v2zm-7-2h5v-1c0-.283.096-.521.288-.713A.967.967 0 0 1 10 11h4a.97.97 0 0 1 .713.287A.97.97 0 0 1 15 12v1h5V8H4v5z\"></path></svg></span>]"
      ]
     },
     "execution_count": 57,
     "metadata": {},
     "output_type": "execute_result"
    }
   ],
   "source": [
    "job_ads[0].find('a',{'data-cy' : 'job-link'}).find_all(\"span\", {\"class\":\"Span-sc-1ybanni-0\"})"
   ]
  },
  {
   "cell_type": "code",
   "execution_count": 58,
   "metadata": {
    "id": "XWHekDmMFhtO"
   },
   "outputs": [],
   "source": [
    "info = job_ads[6].find('a',{'data-cy' : 'job-link'}).findAll([\"span\", \"p\"], {\"class\":\"Span-sc-1ybanni-0\"})"
   ]
  },
  {
   "cell_type": "markdown",
   "metadata": {
    "id": "LZ9anZd2FhtO"
   },
   "source": [
    "which creates a list with the relevant html elements:"
   ]
  },
  {
   "cell_type": "code",
   "execution_count": 59,
   "metadata": {
    "id": "emCVCI70FhtO",
    "outputId": "3dae76cb-3096-4a5c-869f-55ed020901c0"
   },
   "outputs": [
    {
     "data": {
      "text/plain": [
       "12"
      ]
     },
     "execution_count": 59,
     "metadata": {},
     "output_type": "execute_result"
    }
   ],
   "source": [
    "len(info)"
   ]
  },
  {
   "cell_type": "code",
   "execution_count": 60,
   "metadata": {
    "id": "WOX-KXF4FhtP",
    "outputId": "5289da3d-3395-4271-efa8-61d6641c1bde"
   },
   "outputs": [
    {
     "data": {
      "text/plain": [
       "['Published: 07 November 202307 Nov',\n",
       " 'Published: 07 November 2023',\n",
       " '07 Nov',\n",
       " '',\n",
       " 'Senior Engineer SPS/HMI 100 % (m/w/d)',\n",
       " '',\n",
       " 'Zürich - Spreitenbach',\n",
       " '',\n",
       " '100%',\n",
       " '',\n",
       " 'Unlimited employment',\n",
       " 'CHRONOS Personalberatung']"
      ]
     },
     "execution_count": 60,
     "metadata": {},
     "output_type": "execute_result"
    }
   ],
   "source": [
    "[i.get_text().strip() for i in info]"
   ]
  },
  {
   "cell_type": "markdown",
   "metadata": {
    "id": "sGRpxE0fFhtP"
   },
   "source": [
    "We can then get the text part of each element by using the `text` attribute:"
   ]
  },
  {
   "cell_type": "code",
   "execution_count": 61,
   "metadata": {
    "id": "lBkQjJMqFhtP",
    "outputId": "9bef9581-13ef-4aee-d605-d8e3d9bf7040"
   },
   "outputs": [
    {
     "data": {
      "text/plain": [
       "'Published: 07 November 202307 Nov'"
      ]
     },
     "execution_count": 61,
     "metadata": {},
     "output_type": "execute_result"
    }
   ],
   "source": [
    "info[0].text"
   ]
  },
  {
   "cell_type": "markdown",
   "metadata": {
    "id": "h5UUKV7TFhtP"
   },
   "source": [
    "<div style=\"background:#EEEDF5;border-top:0.1cm solid #EF475B;border-bottom:0.1cm solid #EF475B;\">\n",
    "    <div style=\"margin-left: 0.5cm;margin-top: 0.5cm;margin-bottom: 0.5cm;color:#303030\">\n",
    "        <p><strong>Goal:</strong> Collect the Info about more jobs from more pages</p>\n",
    "    </div>\n",
    "</div>"
   ]
  },
  {
   "cell_type": "markdown",
   "metadata": {
    "id": "-SA7ki0vFhtP"
   },
   "source": [
    "we also find that the name of the company, the location of the job and the date of posting are all texts within a `<span>` element with different attributes, and that it always come in the following order:\n",
    "\n",
    "- job title\n",
    "- company\n",
    "- location\n",
    "- date of publication\n",
    "\n",
    "we can then extract the data using `find` or `findAll`:"
   ]
  },
  {
   "cell_type": "markdown",
   "metadata": {
    "id": "ZZyGGrZtFhtP"
   },
   "source": [
    "### Find Title of the job, Company name, City and Date it was published"
   ]
  },
  {
   "cell_type": "code",
   "execution_count": 62,
   "metadata": {
    "id": "ZWbDbINkFhtP",
    "outputId": "ccab9947-6e5c-4167-b424-547cc1ff6f8b"
   },
   "outputs": [
    {
     "data": {
      "text/plain": [
       "'Data Engineer'"
      ]
     },
     "execution_count": 62,
     "metadata": {},
     "output_type": "execute_result"
    }
   ],
   "source": [
    "# find title\n",
    "job_ads[0].find('span', {\"class\":\"eqJMMs\"}).text"
   ]
  },
  {
   "cell_type": "code",
   "execution_count": 63,
   "metadata": {
    "id": "mahLTkr1FhtQ",
    "outputId": "fbf8e462-95b5-4ef1-d679-0841c521f0c1"
   },
   "outputs": [
    {
     "data": {
      "text/plain": [
       "'BÜCHI Labortechnik AG'"
      ]
     },
     "execution_count": 63,
     "metadata": {},
     "output_type": "execute_result"
    }
   ],
   "source": [
    "# find company\n",
    "job_ads[0].find('div', {'class': 'gNMZoz'}).find('strong').text"
   ]
  },
  {
   "cell_type": "code",
   "execution_count": 64,
   "metadata": {
    "id": "6ZyuNVaMFhtQ",
    "outputId": "0065daaa-7b7b-422f-820d-f5e91b999698"
   },
   "outputs": [
    {
     "data": {
      "text/plain": [
       "'24 Oct'"
      ]
     },
     "execution_count": 64,
     "metadata": {},
     "output_type": "execute_result"
    }
   ],
   "source": [
    "# find date\n",
    "job_ads[0].find('span', {\"class\":\"Span-sc-1ybanni-0\", 'aria-hidden': True}).text"
   ]
  },
  {
   "cell_type": "markdown",
   "metadata": {
    "id": "_PaaThBzFhtQ"
   },
   "source": [
    "**Notice that we are also able to ask for the spans that also contain the attribute aria-hidden, which is the case for the date.**\n",
    "\n",
    "We need this since the class Span-sc-1ybanni-0 is shared among many other different tags"
   ]
  },
  {
   "cell_type": "code",
   "execution_count": 75,
   "metadata": {
    "id": "VHzvB_rQFhtQ",
    "outputId": "73c19331-0309-4682-fd27-daf5de8364ab"
   },
   "outputs": [
    {
     "data": {
      "text/plain": [
       "'Flawil'"
      ]
     },
     "execution_count": 75,
     "metadata": {},
     "output_type": "execute_result"
    }
   ],
   "source": [
    "# find city\n",
    "job_ads[0].find('p', {\"class\":\"cMsiEU\"}).text"
   ]
  },
  {
   "cell_type": "code",
   "execution_count": 73,
   "metadata": {
    "id": "c1pbcd1YFhtQ",
    "outputId": "c5d95aa3-1a47-4d82-a514-a51e71b6eb1d"
   },
   "outputs": [
    {
     "data": {
      "text/plain": [
       "'80% – 100%'"
      ]
     },
     "execution_count": 73,
     "metadata": {},
     "output_type": "execute_result"
    }
   ],
   "source": [
    "# find workload percentage\n",
    "job_ads[0].find('p', {\"class\":\"cMsiEU\"}).find_next('p').text"
   ]
  },
  {
   "cell_type": "markdown",
   "metadata": {
    "id": "PHtGdjaHFhtQ"
   },
   "source": [
    "Another way to get some attributes:"
   ]
  },
  {
   "cell_type": "code",
   "execution_count": 67,
   "metadata": {
    "id": "fdVaumS0FhtR",
    "outputId": "d0fdb5ac-41d6-41c0-d61e-af14d7643dca"
   },
   "outputs": [
    {
     "data": {
      "text/plain": [
       "'/en/vacancies/detail/6cdc0c68-ad20-4b9d-b806-a3bd69296f35/?source=vacancy_search'"
      ]
     },
     "execution_count": 67,
     "metadata": {},
     "output_type": "execute_result"
    }
   ],
   "source": [
    "job_ads[0].find('a',{'data-cy' : 'job-link'}).get('href')"
   ]
  },
  {
   "cell_type": "markdown",
   "metadata": {
    "id": "RbRAgjhEFhtR"
   },
   "source": [
    "### Create a DataFrame with all the information"
   ]
  },
  {
   "cell_type": "code",
   "execution_count": null,
   "metadata": {
    "id": "OhjIRrBFFhtR"
   },
   "outputs": [],
   "source": [
    "# how do we find all the infos for all jobs on page?"
   ]
  },
  {
   "cell_type": "code",
   "execution_count": 68,
   "metadata": {
    "id": "0_IEtZILFhtR"
   },
   "outputs": [],
   "source": [
    "def get_jobdata_page(job_ads):\n",
    "\n",
    "    cols = [\"title\", \"company\", \"area\", \"date\", \"link\"]\n",
    "    df = pd.DataFrame(columns = cols)\n",
    "\n",
    "    for i in range(len(job_ads)):\n",
    "\n",
    "        url = 'https://www.jobs.ch' + job_ads[i].find('a',{'data-cy' : 'job-link'}).get('href')\n",
    "        try:\n",
    "            title = job_ads[i].find('span', {\"class\":\"eqJMMs\"}).text\n",
    "        except AttributeError:\n",
    "            title = np.nan\n",
    "\n",
    "        try:\n",
    "            company = job_ads[i].find('div', {'class': 'gNMZoz'}).find('strong').text\n",
    "        except AttributeError:\n",
    "            company = np.nan\n",
    "\n",
    "        try:\n",
    "            area = job_ads[i].find('p', {\"class\":\"cMsiEU\"}).text\n",
    "        except AttributeError:\n",
    "            area = np.nan\n",
    "\n",
    "        try:\n",
    "            date = job_ads[i].find('span', {\"class\":\"Span-sc-1ybanni-0\", 'aria-hidden': True}).text\n",
    "        except AttributeError:\n",
    "            date = np.nan\n",
    "\n",
    "        job_dict = {\n",
    "          'title': title,\n",
    "          'company': company,\n",
    "          'area': area,\n",
    "          'date': date,\n",
    "          'link':url }\n",
    "\n",
    "        df = pd.concat([df, pd.DataFrame(job_dict, index=[0])], ignore_index=True)\n",
    "\n",
    "    return df"
   ]
  },
  {
   "cell_type": "code",
   "execution_count": 69,
   "metadata": {
    "id": "3e7nF5LyFhtT"
   },
   "outputs": [],
   "source": [
    "df = get_jobdata_page(job_ads)"
   ]
  },
  {
   "cell_type": "code",
   "execution_count": 70,
   "metadata": {
    "id": "mtNse60BFhtT",
    "outputId": "08ed78d9-06b6-4a2f-925d-c61a413387b0"
   },
   "outputs": [
    {
     "data": {
      "text/html": [
       "<div>\n",
       "<style scoped>\n",
       "    .dataframe tbody tr th:only-of-type {\n",
       "        vertical-align: middle;\n",
       "    }\n",
       "\n",
       "    .dataframe tbody tr th {\n",
       "        vertical-align: top;\n",
       "    }\n",
       "\n",
       "    .dataframe thead th {\n",
       "        text-align: right;\n",
       "    }\n",
       "</style>\n",
       "<table border=\"1\" class=\"dataframe\">\n",
       "  <thead>\n",
       "    <tr style=\"text-align: right;\">\n",
       "      <th></th>\n",
       "      <th>title</th>\n",
       "      <th>company</th>\n",
       "      <th>area</th>\n",
       "      <th>date</th>\n",
       "      <th>link</th>\n",
       "    </tr>\n",
       "  </thead>\n",
       "  <tbody>\n",
       "    <tr>\n",
       "      <th>0</th>\n",
       "      <td>Data Engineer</td>\n",
       "      <td>BÜCHI Labortechnik AG</td>\n",
       "      <td>Flawil</td>\n",
       "      <td>24 Oct</td>\n",
       "      <td>https://www.jobs.ch/en/vacancies/detail/6cdc0c...</td>\n",
       "    </tr>\n",
       "    <tr>\n",
       "      <th>1</th>\n",
       "      <td>Data Engineer (a) in Zürich</td>\n",
       "      <td>Axept Business Software AG</td>\n",
       "      <td>Zürich</td>\n",
       "      <td>12 Nov</td>\n",
       "      <td>https://www.jobs.ch/en/vacancies/detail/ac8535...</td>\n",
       "    </tr>\n",
       "    <tr>\n",
       "      <th>2</th>\n",
       "      <td>Data Engineer in Medical Imaging</td>\n",
       "      <td>Universität Bern</td>\n",
       "      <td>Bern</td>\n",
       "      <td>02 Nov</td>\n",
       "      <td>https://www.jobs.ch/en/vacancies/detail/d87b7c...</td>\n",
       "    </tr>\n",
       "    <tr>\n",
       "      <th>3</th>\n",
       "      <td>Platform Engineer (w/m/d)</td>\n",
       "      <td>Migros Online</td>\n",
       "      <td>Ecublens</td>\n",
       "      <td>14 Nov</td>\n",
       "      <td>https://www.jobs.ch/en/vacancies/detail/3f6330...</td>\n",
       "    </tr>\n",
       "    <tr>\n",
       "      <th>4</th>\n",
       "      <td>Frontend Engineer #1908</td>\n",
       "      <td>Competec Service AG</td>\n",
       "      <td>Mägenwil</td>\n",
       "      <td>20 Nov</td>\n",
       "      <td>https://www.jobs.ch/en/vacancies/detail/2e95ec...</td>\n",
       "    </tr>\n",
       "    <tr>\n",
       "      <th>5</th>\n",
       "      <td>Building Service Layout Engineer (E3D Designer)</td>\n",
       "      <td>Hitachi Zosen Inova AG</td>\n",
       "      <td>Zürich (Schweiz)</td>\n",
       "      <td>21 Nov</td>\n",
       "      <td>https://www.jobs.ch/en/vacancies/detail/2f2efb...</td>\n",
       "    </tr>\n",
       "    <tr>\n",
       "      <th>6</th>\n",
       "      <td>Senior Engineer SPS/HMI 100 % (m/w/d)</td>\n",
       "      <td>CHRONOS Personalberatung</td>\n",
       "      <td>Zürich - Spreitenbach</td>\n",
       "      <td>07 Nov</td>\n",
       "      <td>https://www.jobs.ch/en/vacancies/detail/6b2be3...</td>\n",
       "    </tr>\n",
       "    <tr>\n",
       "      <th>7</th>\n",
       "      <td>Requirements Engineer / Product Owner Dokument...</td>\n",
       "      <td>aity AG</td>\n",
       "      <td>Bern-Liebefeld</td>\n",
       "      <td>13 Nov</td>\n",
       "      <td>https://www.jobs.ch/en/vacancies/detail/c804f6...</td>\n",
       "    </tr>\n",
       "    <tr>\n",
       "      <th>8</th>\n",
       "      <td>Scientific Engagement Engineer</td>\n",
       "      <td>Dectris AG</td>\n",
       "      <td>Baden-Daettwil</td>\n",
       "      <td>10 Nov</td>\n",
       "      <td>https://www.jobs.ch/en/vacancies/detail/4deeb1...</td>\n",
       "    </tr>\n",
       "    <tr>\n",
       "      <th>9</th>\n",
       "      <td>Mechanical Engineer</td>\n",
       "      <td>Universität Bern</td>\n",
       "      <td>Bern</td>\n",
       "      <td>21 Nov</td>\n",
       "      <td>https://www.jobs.ch/en/vacancies/detail/da1818...</td>\n",
       "    </tr>\n",
       "    <tr>\n",
       "      <th>10</th>\n",
       "      <td>SYSTEM ENGINEER / PROJECT MANAGER (A)</td>\n",
       "      <td>ANDRITZ</td>\n",
       "      <td>Kriens</td>\n",
       "      <td>13 Oct</td>\n",
       "      <td>https://www.jobs.ch/en/vacancies/detail/5dc714...</td>\n",
       "    </tr>\n",
       "    <tr>\n",
       "      <th>11</th>\n",
       "      <td>DESIGN ENGINEER</td>\n",
       "      <td>ANDRITZ</td>\n",
       "      <td>Kriens</td>\n",
       "      <td>12 Oct</td>\n",
       "      <td>https://www.jobs.ch/en/vacancies/detail/607b40...</td>\n",
       "    </tr>\n",
       "    <tr>\n",
       "      <th>12</th>\n",
       "      <td>Innovation &amp; Development Engineer (w/m/d) 80-1...</td>\n",
       "      <td>BUSS AG</td>\n",
       "      <td>Pratteln</td>\n",
       "      <td>16 Nov</td>\n",
       "      <td>https://www.jobs.ch/en/vacancies/detail/0d2d58...</td>\n",
       "    </tr>\n",
       "    <tr>\n",
       "      <th>13</th>\n",
       "      <td>Senior AVEVA PI Engineer (w/m/d)</td>\n",
       "      <td>SKAN AG</td>\n",
       "      <td>Allschwil</td>\n",
       "      <td>15 Nov</td>\n",
       "      <td>https://www.jobs.ch/en/vacancies/detail/96c6bf...</td>\n",
       "    </tr>\n",
       "    <tr>\n",
       "      <th>14</th>\n",
       "      <td>Dynamics 365 / Power Platform Engineer (60 - 1...</td>\n",
       "      <td>Avantic AG</td>\n",
       "      <td>Glattbrugg</td>\n",
       "      <td>31 Oct</td>\n",
       "      <td>https://www.jobs.ch/en/vacancies/detail/fc4d3b...</td>\n",
       "    </tr>\n",
       "    <tr>\n",
       "      <th>15</th>\n",
       "      <td>Traktionsingenieur 80 - 100 % (m/w/d)</td>\n",
       "      <td>Carrosserie HESS AG</td>\n",
       "      <td>Bellach</td>\n",
       "      <td>14 Nov</td>\n",
       "      <td>https://www.jobs.ch/en/vacancies/detail/ca247a...</td>\n",
       "    </tr>\n",
       "    <tr>\n",
       "      <th>16</th>\n",
       "      <td>Robotics Engineer (m/w) 100%</td>\n",
       "      <td>MABI Robotic AG</td>\n",
       "      <td>Veltheim</td>\n",
       "      <td>10 Nov</td>\n",
       "      <td>https://www.jobs.ch/en/vacancies/detail/f7d79e...</td>\n",
       "    </tr>\n",
       "    <tr>\n",
       "      <th>17</th>\n",
       "      <td>Ingenieur/-in / Verkehrsplanung</td>\n",
       "      <td>Kantonale Verwaltung Zürich</td>\n",
       "      <td>Zürich-Oerlikon</td>\n",
       "      <td>06 Nov</td>\n",
       "      <td>https://www.jobs.ch/en/vacancies/detail/c08fec...</td>\n",
       "    </tr>\n",
       "    <tr>\n",
       "      <th>18</th>\n",
       "      <td>Data &amp; Analytics Principal Engineer (m/f/x)</td>\n",
       "      <td>Oettinger Davidoff AG</td>\n",
       "      <td>Basel</td>\n",
       "      <td>31 Oct</td>\n",
       "      <td>https://www.jobs.ch/en/vacancies/detail/08937d...</td>\n",
       "    </tr>\n",
       "    <tr>\n",
       "      <th>19</th>\n",
       "      <td>Ingenieur/in Aeronautical Information System</td>\n",
       "      <td>Verteidigung - Kommando Operationen Kdo Op</td>\n",
       "      <td>Dübendorf (ZH)</td>\n",
       "      <td>08 Nov</td>\n",
       "      <td>https://www.jobs.ch/en/vacancies/detail/a87600...</td>\n",
       "    </tr>\n",
       "  </tbody>\n",
       "</table>\n",
       "</div>"
      ],
      "text/plain": [
       "                                                title  \\\n",
       "0                                       Data Engineer   \n",
       "1                         Data Engineer (a) in Zürich   \n",
       "2                    Data Engineer in Medical Imaging   \n",
       "3                           Platform Engineer (w/m/d)   \n",
       "4                             Frontend Engineer #1908   \n",
       "5     Building Service Layout Engineer (E3D Designer)   \n",
       "6               Senior Engineer SPS/HMI 100 % (m/w/d)   \n",
       "7   Requirements Engineer / Product Owner Dokument...   \n",
       "8                      Scientific Engagement Engineer   \n",
       "9                                 Mechanical Engineer   \n",
       "10              SYSTEM ENGINEER / PROJECT MANAGER (A)   \n",
       "11                                    DESIGN ENGINEER   \n",
       "12  Innovation & Development Engineer (w/m/d) 80-1...   \n",
       "13                   Senior AVEVA PI Engineer (w/m/d)   \n",
       "14  Dynamics 365 / Power Platform Engineer (60 - 1...   \n",
       "15              Traktionsingenieur 80 - 100 % (m/w/d)   \n",
       "16                       Robotics Engineer (m/w) 100%   \n",
       "17                    Ingenieur/-in / Verkehrsplanung   \n",
       "18        Data & Analytics Principal Engineer (m/f/x)   \n",
       "19       Ingenieur/in Aeronautical Information System   \n",
       "\n",
       "                                       company                   area    date  \\\n",
       "0                        BÜCHI Labortechnik AG                 Flawil  24 Oct   \n",
       "1                   Axept Business Software AG                 Zürich  12 Nov   \n",
       "2                             Universität Bern                   Bern  02 Nov   \n",
       "3                                Migros Online               Ecublens  14 Nov   \n",
       "4                          Competec Service AG               Mägenwil  20 Nov   \n",
       "5                       Hitachi Zosen Inova AG       Zürich (Schweiz)  21 Nov   \n",
       "6                     CHRONOS Personalberatung  Zürich - Spreitenbach  07 Nov   \n",
       "7                                      aity AG         Bern-Liebefeld  13 Nov   \n",
       "8                                   Dectris AG         Baden-Daettwil  10 Nov   \n",
       "9                             Universität Bern                   Bern  21 Nov   \n",
       "10                                     ANDRITZ                 Kriens  13 Oct   \n",
       "11                                     ANDRITZ                 Kriens  12 Oct   \n",
       "12                                     BUSS AG               Pratteln  16 Nov   \n",
       "13                                     SKAN AG              Allschwil  15 Nov   \n",
       "14                                  Avantic AG             Glattbrugg  31 Oct   \n",
       "15                         Carrosserie HESS AG                Bellach  14 Nov   \n",
       "16                             MABI Robotic AG               Veltheim  10 Nov   \n",
       "17                 Kantonale Verwaltung Zürich        Zürich-Oerlikon  06 Nov   \n",
       "18                       Oettinger Davidoff AG                  Basel  31 Oct   \n",
       "19  Verteidigung - Kommando Operationen Kdo Op         Dübendorf (ZH)  08 Nov   \n",
       "\n",
       "                                                 link  \n",
       "0   https://www.jobs.ch/en/vacancies/detail/6cdc0c...  \n",
       "1   https://www.jobs.ch/en/vacancies/detail/ac8535...  \n",
       "2   https://www.jobs.ch/en/vacancies/detail/d87b7c...  \n",
       "3   https://www.jobs.ch/en/vacancies/detail/3f6330...  \n",
       "4   https://www.jobs.ch/en/vacancies/detail/2e95ec...  \n",
       "5   https://www.jobs.ch/en/vacancies/detail/2f2efb...  \n",
       "6   https://www.jobs.ch/en/vacancies/detail/6b2be3...  \n",
       "7   https://www.jobs.ch/en/vacancies/detail/c804f6...  \n",
       "8   https://www.jobs.ch/en/vacancies/detail/4deeb1...  \n",
       "9   https://www.jobs.ch/en/vacancies/detail/da1818...  \n",
       "10  https://www.jobs.ch/en/vacancies/detail/5dc714...  \n",
       "11  https://www.jobs.ch/en/vacancies/detail/607b40...  \n",
       "12  https://www.jobs.ch/en/vacancies/detail/0d2d58...  \n",
       "13  https://www.jobs.ch/en/vacancies/detail/96c6bf...  \n",
       "14  https://www.jobs.ch/en/vacancies/detail/fc4d3b...  \n",
       "15  https://www.jobs.ch/en/vacancies/detail/ca247a...  \n",
       "16  https://www.jobs.ch/en/vacancies/detail/f7d79e...  \n",
       "17  https://www.jobs.ch/en/vacancies/detail/c08fec...  \n",
       "18  https://www.jobs.ch/en/vacancies/detail/08937d...  \n",
       "19  https://www.jobs.ch/en/vacancies/detail/a87600...  "
      ]
     },
     "execution_count": 70,
     "metadata": {},
     "output_type": "execute_result"
    }
   ],
   "source": [
    "df"
   ]
  },
  {
   "cell_type": "markdown",
   "metadata": {
    "id": "2iDK4I4aFhtU"
   },
   "source": [
    "### Saving Extracted Data"
   ]
  },
  {
   "cell_type": "code",
   "execution_count": null,
   "metadata": {
    "id": "WfMHJiR_FhtU"
   },
   "outputs": [],
   "source": [
    "df.to_csv(\"data_engineer_jobs.csv\")"
   ]
  },
  {
   "cell_type": "markdown",
   "metadata": {
    "id": "KFutzWoEFhtU"
   },
   "source": [
    "<a id='P4' name=\"P4\"></a>\n",
    "## [Conclusion](#P0)"
   ]
  },
  {
   "cell_type": "markdown",
   "metadata": {
    "id": "DDkuYl8YFhtU"
   },
   "source": [
    "You now know the most important commands to work with requests and BeautifulSoup and have fun extracting data from webpages!\n",
    "If you would like to go further, here are resources you should checkout:\n",
    "\n",
    "* [Web Scraping Tutorial](https://www.dataquest.io/blog/web-scraping-tutorial-python/)\n",
    "* [Selenium](https://www.seleniumhq.org/) a library for javascript rendered pages,\n",
    "* [Scrapy](https://scrapy.org) a python library for web crawling\n",
    "\n",
    "But first, let's practice!"
   ]
  },
  {
   "cell_type": "markdown",
   "metadata": {
    "id": "8WtjSt_pFhtU",
    "jp-MarkdownHeadingCollapsed": true,
    "tags": []
   },
   "source": [
    "<div style=\"border-top:0.1cm solid #EF475B\"></div>\n",
    "    <strong><a href='#Q0'><div style=\"text-align: right\"> <h3>End of this Notebook.</h3></div></a></strong>"
   ]
  }
 ],
 "metadata": {
  "colab": {
   "provenance": []
  },
  "kernelspec": {
   "display_name": "Python 3 (ipykernel)",
   "language": "python",
   "name": "python3"
  },
  "language_info": {
   "codemirror_mode": {
    "name": "ipython",
    "version": 3
   },
   "file_extension": ".py",
   "mimetype": "text/x-python",
   "name": "python",
   "nbconvert_exporter": "python",
   "pygments_lexer": "ipython3",
   "version": "3.10.13"
  }
 },
 "nbformat": 4,
 "nbformat_minor": 4
}
