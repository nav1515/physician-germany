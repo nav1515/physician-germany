{
 "cells": [
  {
   "cell_type": "markdown",
   "id": "8eaf8320-28dd-42b1-ac25-cff4aba89a80",
   "metadata": {},
   "source": [
    "### List of freqently searched physician's specializations according to https://www.jameda.de/"
   ]
  },
  {
   "cell_type": "code",
   "execution_count": 1,
   "id": "d77b212f-7f23-4fe8-9844-a0a5fba314f6",
   "metadata": {},
   "outputs": [
    {
     "data": {
      "text/plain": [
       "['Allgemeinmediziner (Hausarzt)',\n",
       " 'Zahnarzt',\n",
       " 'Orthopäde & Unfallchirurg',\n",
       " 'Hautarzt (Dermatologe)',\n",
       " 'Frauenarzt (Gynäkologe)',\n",
       " 'Augenarzt',\n",
       " 'Hals-Nasen-Ohren-Arzt',\n",
       " 'Facharzt für Psychiatrie & Psychotherapie',\n",
       " 'Urologe',\n",
       " 'HeilpraktikerKinder- und Jugendarzt',\n",
       " 'Plastischer & Ästhetischer Chirurg',\n",
       " 'Endokrinologe & Diabetologe']"
      ]
     },
     "execution_count": 1,
     "metadata": {},
     "output_type": "execute_result"
    }
   ],
   "source": [
    "specialization_keywords = [\"Allgemeinmediziner (Hausarzt)\",\n",
    "                           \"Zahnarzt\",\n",
    "                           \"Orthopäde & Unfallchirurg\",\n",
    "                           \"Hautarzt (Dermatologe)\",\n",
    "                           \"Frauenarzt (Gynäkologe)\",\n",
    "                           \"Augenarzt\",\n",
    "                           \"Hals-Nasen-Ohren-Arzt\",\n",
    "                           \"Facharzt für Psychiatrie & Psychotherapie\",\n",
    "                           \"Urologe\",\n",
    "                           \"Heilpraktiker\"\n",
    "                           \"Kinder- und Jugendarzt\",\n",
    "                           \"Plastischer & Ästhetischer Chirurg\",\n",
    "                           \"Endokrinologe & Diabetologe\"\n",
    "                          ]\n",
    "specialization_keywords"
   ]
  },
  {
   "cell_type": "code",
   "execution_count": 2,
   "id": "660f386e-d5a8-4fc6-a4df-11905b9cce24",
   "metadata": {},
   "outputs": [
    {
     "data": {
      "text/plain": [
       "12"
      ]
     },
     "execution_count": 2,
     "metadata": {},
     "output_type": "execute_result"
    }
   ],
   "source": [
    "len(specialization_keywords)"
   ]
  }
 ],
 "metadata": {
  "kernelspec": {
   "display_name": "VIZ",
   "language": "python",
   "name": "viz"
  },
  "language_info": {
   "codemirror_mode": {
    "name": "ipython",
    "version": 3
   },
   "file_extension": ".py",
   "mimetype": "text/x-python",
   "name": "python",
   "nbconvert_exporter": "python",
   "pygments_lexer": "ipython3",
   "version": "3.10.13"
  }
 },
 "nbformat": 4,
 "nbformat_minor": 5
}
