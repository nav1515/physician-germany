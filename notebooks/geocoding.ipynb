{
 "cells": [
  {
   "cell_type": "markdown",
   "id": "f27b2b28-326d-4e31-8774-c2133d96c31f",
   "metadata": {},
   "source": [
    "### Given a csv file with \"address\", read it in and add add coordinates in \"lat\" and \"lon\" columns using Google Maps Geocoding API\n",
    "https://developers.google.com/maps/documentation/geocoding/requests-geocoding"
   ]
  },
  {
   "cell_type": "code",
   "execution_count": 1,
   "id": "7345818f-829b-4332-a03a-809e232ae4df",
   "metadata": {},
   "outputs": [],
   "source": [
    "import json\n",
    "import requests\n",
    "import pandas as pd\n",
    "from copy import deepcopy\n",
    "from tqdm import tqdm"
   ]
  },
  {
   "cell_type": "code",
   "execution_count": 2,
   "id": "75ebfb8c-a0ef-464c-9c50-94518c29ab70",
   "metadata": {},
   "outputs": [],
   "source": [
    "# constants\n",
    "key_json = json.load(open(\"credentials.json\"))\n",
    "gmaps_key = key_json[\"key\"]\n",
    "outputFormat = \"json\"\n",
    "url = \"https://maps.googleapis.com/maps/api/geocode/\""
   ]
  },
  {
   "cell_type": "code",
   "execution_count": 10,
   "id": "ae17c132-2241-47cf-ab60-3f812253b525",
   "metadata": {},
   "outputs": [],
   "source": [
    "def get_lat_lon_for_address(row):\n",
    "    address = row[\"street_and_house_no\"] + ' ' + str(row[\"zipcode\"]) + ' ' + row[\"area\"]\n",
    "    address_http = address.replace(' ', \"%20\").replace('+', \"%2B\")\n",
    "    parameters = f\"address={address_http}&key={gmaps_key}\"\n",
    "    request = f\"{url}{outputFormat}?{parameters}\"\n",
    "    result = requests.get(request).json()\n",
    "    location = result[\"results\"][0][\"geometry\"][\"location\"]\n",
    "    return pd.Series([location[\"lat\"], location[\"lng\"]])"
   ]
  },
  {
   "cell_type": "code",
   "execution_count": 11,
   "id": "e048313f-fb07-41eb-9448-a26e659f8dc6",
   "metadata": {},
   "outputs": [
    {
     "name": "stderr",
     "output_type": "stream",
     "text": [
      "100%|███████████████████████████████████████████████████████████████████████████████████████████████████████████████████| 2473/2473 [11:26<00:00,  3.60it/s]\n"
     ]
    },
    {
     "data": {
      "text/html": [
       "<div>\n",
       "<style scoped>\n",
       "    .dataframe tbody tr th:only-of-type {\n",
       "        vertical-align: middle;\n",
       "    }\n",
       "\n",
       "    .dataframe tbody tr th {\n",
       "        vertical-align: top;\n",
       "    }\n",
       "\n",
       "    .dataframe thead th {\n",
       "        text-align: right;\n",
       "    }\n",
       "</style>\n",
       "<table border=\"1\" class=\"dataframe\">\n",
       "  <thead>\n",
       "    <tr style=\"text-align: right;\">\n",
       "      <th></th>\n",
       "      <th>name</th>\n",
       "      <th>expertise</th>\n",
       "      <th>zipcode</th>\n",
       "      <th>area</th>\n",
       "      <th>street_and_house_no</th>\n",
       "      <th>telephone</th>\n",
       "      <th>distance</th>\n",
       "      <th>lat</th>\n",
       "      <th>lon</th>\n",
       "    </tr>\n",
       "  </thead>\n",
       "  <tbody>\n",
       "    <tr>\n",
       "      <th>0</th>\n",
       "      <td>Frau Dr. med. Christa Hutterer</td>\n",
       "      <td>Fachärztin für Diagnostische Radiologie, Fachä...</td>\n",
       "      <td>80331</td>\n",
       "      <td>München-Altstadt-Lehel</td>\n",
       "      <td>Kaufingerstraße 15</td>\n",
       "      <td>089 / 2 00 01 43 - 50</td>\n",
       "      <td>0.1 km</td>\n",
       "      <td>48.137815</td>\n",
       "      <td>11.571804</td>\n",
       "    </tr>\n",
       "    <tr>\n",
       "      <th>1</th>\n",
       "      <td>Herr Dr. med. Josef J. Dohrenbusch</td>\n",
       "      <td>Facharzt für Allgemeinmedizin</td>\n",
       "      <td>80331</td>\n",
       "      <td>München</td>\n",
       "      <td>Kaufingerstraße 12</td>\n",
       "      <td>089 / 24 20 93 98</td>\n",
       "      <td>0.1 km</td>\n",
       "      <td>48.137615</td>\n",
       "      <td>11.573961</td>\n",
       "    </tr>\n",
       "    <tr>\n",
       "      <th>2</th>\n",
       "      <td>Frau Dr. med. Heidi Herrmann</td>\n",
       "      <td>Fachärztin für Innere Medizin</td>\n",
       "      <td>80331</td>\n",
       "      <td>München</td>\n",
       "      <td>Altheimer Eck 2</td>\n",
       "      <td>089 / 45 22 81 81</td>\n",
       "      <td>0.1 km</td>\n",
       "      <td>48.137541</td>\n",
       "      <td>11.571022</td>\n",
       "    </tr>\n",
       "    <tr>\n",
       "      <th>3</th>\n",
       "      <td>Herr Dr. med. (univ.) Thomas Wendel</td>\n",
       "      <td>Praktischer Arzt</td>\n",
       "      <td>80331</td>\n",
       "      <td>München</td>\n",
       "      <td>Altheimer Eck 10</td>\n",
       "      <td>089 / 89 67 40 20</td>\n",
       "      <td>0.1 km</td>\n",
       "      <td>48.137505</td>\n",
       "      <td>11.570328</td>\n",
       "    </tr>\n",
       "    <tr>\n",
       "      <th>4</th>\n",
       "      <td>Frau Dr. med. Sabine Konz</td>\n",
       "      <td>Praktische Ärztin</td>\n",
       "      <td>80331</td>\n",
       "      <td>München</td>\n",
       "      <td>Eisenmannstraße 4</td>\n",
       "      <td>089 / 37 02 97 67</td>\n",
       "      <td>0.2 km</td>\n",
       "      <td>48.137763</td>\n",
       "      <td>11.569028</td>\n",
       "    </tr>\n",
       "  </tbody>\n",
       "</table>\n",
       "</div>"
      ],
      "text/plain": [
       "                                  name  \\\n",
       "0       Frau Dr. med. Christa Hutterer   \n",
       "1   Herr Dr. med. Josef J. Dohrenbusch   \n",
       "2         Frau Dr. med. Heidi Herrmann   \n",
       "3  Herr Dr. med. (univ.) Thomas Wendel   \n",
       "4            Frau Dr. med. Sabine Konz   \n",
       "\n",
       "                                           expertise  zipcode  \\\n",
       "0  Fachärztin für Diagnostische Radiologie, Fachä...    80331   \n",
       "1                      Facharzt für Allgemeinmedizin    80331   \n",
       "2                      Fachärztin für Innere Medizin    80331   \n",
       "3                                   Praktischer Arzt    80331   \n",
       "4                                  Praktische Ärztin    80331   \n",
       "\n",
       "                     area street_and_house_no              telephone distance  \\\n",
       "0  München-Altstadt-Lehel  Kaufingerstraße 15  089 / 2 00 01 43 - 50   0.1 km   \n",
       "1                 München  Kaufingerstraße 12      089 / 24 20 93 98   0.1 km   \n",
       "2                 München     Altheimer Eck 2      089 / 45 22 81 81   0.1 km   \n",
       "3                 München    Altheimer Eck 10      089 / 89 67 40 20   0.1 km   \n",
       "4                 München   Eisenmannstraße 4      089 / 37 02 97 67   0.2 km   \n",
       "\n",
       "         lat        lon  \n",
       "0  48.137815  11.571804  \n",
       "1  48.137615  11.573961  \n",
       "2  48.137541  11.571022  \n",
       "3  48.137505  11.570328  \n",
       "4  48.137763  11.569028  "
      ]
     },
     "execution_count": 11,
     "metadata": {},
     "output_type": "execute_result"
    }
   ],
   "source": [
    "df = pd.read_csv(\"../data/physicians.csv\", index_col=0)\n",
    "tqdm.pandas()\n",
    "df[[\"lat\", \"lon\"]] = df.progress_apply(get_lat_lon_for_address, axis=1)\n",
    "df.head()"
   ]
  },
  {
   "cell_type": "code",
   "execution_count": 12,
   "id": "f1f6f66d-3d4e-4790-b2e8-bcb74e390ba6",
   "metadata": {},
   "outputs": [
    {
     "name": "stdout",
     "output_type": "stream",
     "text": [
      "<class 'pandas.core.frame.DataFrame'>\n",
      "Index: 2473 entries, 0 to 2472\n",
      "Data columns (total 9 columns):\n",
      " #   Column               Non-Null Count  Dtype  \n",
      "---  ------               --------------  -----  \n",
      " 0   name                 2473 non-null   object \n",
      " 1   expertise            2414 non-null   object \n",
      " 2   zipcode              2473 non-null   int64  \n",
      " 3   area                 2473 non-null   object \n",
      " 4   street_and_house_no  2473 non-null   object \n",
      " 5   telephone            2473 non-null   object \n",
      " 6   distance             2473 non-null   object \n",
      " 7   lat                  2473 non-null   float64\n",
      " 8   lon                  2473 non-null   float64\n",
      "dtypes: float64(2), int64(1), object(6)\n",
      "memory usage: 193.2+ KB\n"
     ]
    }
   ],
   "source": [
    "df.info()"
   ]
  },
  {
   "cell_type": "code",
   "execution_count": 13,
   "id": "6d11ad34-2e02-4fa9-8888-2586c8b3bd8e",
   "metadata": {},
   "outputs": [],
   "source": [
    "df.to_csv(\"../data/physicians_with_coordinates.csv\")"
   ]
  },
  {
   "cell_type": "code",
   "execution_count": 14,
   "id": "5721522d-a210-46b4-8bc1-a2931918c8cf",
   "metadata": {},
   "outputs": [
    {
     "data": {
      "text/plain": [
       "2473"
      ]
     },
     "execution_count": 14,
     "metadata": {},
     "output_type": "execute_result"
    }
   ],
   "source": [
    "len(df)"
   ]
  }
 ],
 "metadata": {
  "kernelspec": {
   "display_name": "VIZ",
   "language": "python",
   "name": "viz"
  },
  "language_info": {
   "codemirror_mode": {
    "name": "ipython",
    "version": 3
   },
   "file_extension": ".py",
   "mimetype": "text/x-python",
   "name": "python",
   "nbconvert_exporter": "python",
   "pygments_lexer": "ipython3",
   "version": "3.10.13"
  }
 },
 "nbformat": 4,
 "nbformat_minor": 5
}
