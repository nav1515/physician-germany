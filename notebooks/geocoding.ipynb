{
 "cells": [
  {
   "cell_type": "markdown",
   "id": "f27b2b28-326d-4e31-8774-c2133d96c31f",
   "metadata": {},
   "source": [
    "### Given a csv file with \"address\", read it in and add add coordinates in \"lat\" and \"lon\" columns using Google Maps Geocoding API\n",
    "https://developers.google.com/maps/documentation/geocoding/requests-geocoding"
   ]
  },
  {
   "cell_type": "code",
   "execution_count": 8,
   "id": "7345818f-829b-4332-a03a-809e232ae4df",
   "metadata": {},
   "outputs": [],
   "source": [
    "import json\n",
    "import requests\n",
    "import pandas as pd\n",
    "from copy import deepcopy\n",
    "from tqdm import tqdm"
   ]
  },
  {
   "cell_type": "code",
   "execution_count": 2,
   "id": "75ebfb8c-a0ef-464c-9c50-94518c29ab70",
   "metadata": {},
   "outputs": [],
   "source": [
    "# constants\n",
    "key_json = json.load(open(\"credentials.json\"))\n",
    "gmaps_key = key_json[\"key\"]\n",
    "outputFormat = \"json\"\n",
    "url = \"https://maps.googleapis.com/maps/api/geocode/\""
   ]
  },
  {
   "cell_type": "code",
   "execution_count": 3,
   "id": "ae17c132-2241-47cf-ab60-3f812253b525",
   "metadata": {},
   "outputs": [],
   "source": [
    "def get_lat_lon_for_address(row):\n",
    "    address = row[\"street_and_house_no\"] + ' ' + row[\"zipcode_and_city\"]\n",
    "    address_http = address.replace(' ', \"%20\").replace('+', \"%2B\")\n",
    "    parameters = f\"address={address_http}&key={gmaps_key}\"\n",
    "    request = f\"{url}{outputFormat}?{parameters}\"\n",
    "    result = requests.get(request).json()\n",
    "    location = result[\"results\"][0][\"geometry\"][\"location\"]\n",
    "    return pd.Series([location[\"lat\"], location[\"lng\"]])"
   ]
  },
  {
   "cell_type": "code",
   "execution_count": 4,
   "id": "e048313f-fb07-41eb-9448-a26e659f8dc6",
   "metadata": {},
   "outputs": [
    {
     "data": {
      "text/html": [
       "<div>\n",
       "<style scoped>\n",
       "    .dataframe tbody tr th:only-of-type {\n",
       "        vertical-align: middle;\n",
       "    }\n",
       "\n",
       "    .dataframe tbody tr th {\n",
       "        vertical-align: top;\n",
       "    }\n",
       "\n",
       "    .dataframe thead th {\n",
       "        text-align: right;\n",
       "    }\n",
       "</style>\n",
       "<table border=\"1\" class=\"dataframe\">\n",
       "  <thead>\n",
       "    <tr style=\"text-align: right;\">\n",
       "      <th></th>\n",
       "      <th>Unnamed: 0</th>\n",
       "      <th>name</th>\n",
       "      <th>expertise</th>\n",
       "      <th>distance</th>\n",
       "      <th>street_and_house_no</th>\n",
       "      <th>zipcode_and_city</th>\n",
       "      <th>telephone</th>\n",
       "      <th>lat</th>\n",
       "      <th>lon</th>\n",
       "    </tr>\n",
       "  </thead>\n",
       "  <tbody>\n",
       "    <tr>\n",
       "      <th>0</th>\n",
       "      <td>0</td>\n",
       "      <td>Frau Dr. med. Christa Hutterer</td>\n",
       "      <td>Fachärztin für Diagnostische Radiologie, Fachä...</td>\n",
       "      <td>0.1 km</td>\n",
       "      <td>Kaufingerstraße 15</td>\n",
       "      <td>80331 München-Altstadt-Lehel</td>\n",
       "      <td>089 / 2 00 01 43 - 50</td>\n",
       "      <td>48.137815</td>\n",
       "      <td>11.571804</td>\n",
       "    </tr>\n",
       "    <tr>\n",
       "      <th>1</th>\n",
       "      <td>1</td>\n",
       "      <td>Herr Dr. med. Josef J. Dohrenbusch</td>\n",
       "      <td>Facharzt für Allgemeinmedizin</td>\n",
       "      <td>0.1 km</td>\n",
       "      <td>Kaufingerstraße 12</td>\n",
       "      <td>80331 München</td>\n",
       "      <td>089 / 24 20 93 98</td>\n",
       "      <td>48.137615</td>\n",
       "      <td>11.573961</td>\n",
       "    </tr>\n",
       "    <tr>\n",
       "      <th>2</th>\n",
       "      <td>2</td>\n",
       "      <td>Frau Dr. med. Heidi Herrmann</td>\n",
       "      <td>Fachärztin für Innere Medizin</td>\n",
       "      <td>0.1 km</td>\n",
       "      <td>Altheimer Eck 2</td>\n",
       "      <td>80331 München</td>\n",
       "      <td>089 / 45 22 81 81</td>\n",
       "      <td>48.137541</td>\n",
       "      <td>11.571022</td>\n",
       "    </tr>\n",
       "    <tr>\n",
       "      <th>3</th>\n",
       "      <td>3</td>\n",
       "      <td>Herr Dr. med. (univ.) Thomas Wendel</td>\n",
       "      <td>Praktischer Arzt</td>\n",
       "      <td>0.1 km</td>\n",
       "      <td>Altheimer Eck 10</td>\n",
       "      <td>80331 München</td>\n",
       "      <td>089 / 89 67 40 20</td>\n",
       "      <td>48.137505</td>\n",
       "      <td>11.570328</td>\n",
       "    </tr>\n",
       "    <tr>\n",
       "      <th>4</th>\n",
       "      <td>4</td>\n",
       "      <td>Frau Dr. med. Sabine Konz</td>\n",
       "      <td>Praktische Ärztin</td>\n",
       "      <td>0.2 km</td>\n",
       "      <td>Eisenmannstraße 4</td>\n",
       "      <td>80331 München</td>\n",
       "      <td>089 / 37 02 97 67</td>\n",
       "      <td>48.137763</td>\n",
       "      <td>11.569028</td>\n",
       "    </tr>\n",
       "  </tbody>\n",
       "</table>\n",
       "</div>"
      ],
      "text/plain": [
       "   Unnamed: 0                                 name  \\\n",
       "0           0       Frau Dr. med. Christa Hutterer   \n",
       "1           1   Herr Dr. med. Josef J. Dohrenbusch   \n",
       "2           2         Frau Dr. med. Heidi Herrmann   \n",
       "3           3  Herr Dr. med. (univ.) Thomas Wendel   \n",
       "4           4            Frau Dr. med. Sabine Konz   \n",
       "\n",
       "                                           expertise distance  \\\n",
       "0  Fachärztin für Diagnostische Radiologie, Fachä...   0.1 km   \n",
       "1                      Facharzt für Allgemeinmedizin   0.1 km   \n",
       "2                      Fachärztin für Innere Medizin   0.1 km   \n",
       "3                                   Praktischer Arzt   0.1 km   \n",
       "4                                  Praktische Ärztin   0.2 km   \n",
       "\n",
       "  street_and_house_no              zipcode_and_city              telephone  \\\n",
       "0  Kaufingerstraße 15  80331 München-Altstadt-Lehel  089 / 2 00 01 43 - 50   \n",
       "1  Kaufingerstraße 12                 80331 München      089 / 24 20 93 98   \n",
       "2     Altheimer Eck 2                 80331 München      089 / 45 22 81 81   \n",
       "3    Altheimer Eck 10                 80331 München      089 / 89 67 40 20   \n",
       "4   Eisenmannstraße 4                 80331 München      089 / 37 02 97 67   \n",
       "\n",
       "         lat        lon  \n",
       "0  48.137815  11.571804  \n",
       "1  48.137615  11.573961  \n",
       "2  48.137541  11.571022  \n",
       "3  48.137505  11.570328  \n",
       "4  48.137763  11.569028  "
      ]
     },
     "execution_count": 4,
     "metadata": {},
     "output_type": "execute_result"
    }
   ],
   "source": [
    "df_scraped = pd.read_csv(\"../data/physicians.csv\")\n",
    "df = deepcopy(df_scraped)\n",
    "tqdm.pandas()\n",
    "df[[\"lat\", \"lon\"]] = df.progress_apply(get_lat_lon_for_address, axis=1)\n",
    "df.head()"
   ]
  },
  {
   "cell_type": "code",
   "execution_count": 5,
   "id": "6d11ad34-2e02-4fa9-8888-2586c8b3bd8e",
   "metadata": {},
   "outputs": [],
   "source": [
    "df.to_csv(\"../data/physicians_with_coordinates.csv\")"
   ]
  },
  {
   "cell_type": "code",
   "execution_count": 7,
   "id": "5721522d-a210-46b4-8bc1-a2931918c8cf",
   "metadata": {},
   "outputs": [
    {
     "data": {
      "text/plain": [
       "1620"
      ]
     },
     "execution_count": 7,
     "metadata": {},
     "output_type": "execute_result"
    }
   ],
   "source": [
    "len(df)"
   ]
  }
 ],
 "metadata": {
  "kernelspec": {
   "display_name": "VIZ",
   "language": "python",
   "name": "viz"
  },
  "language_info": {
   "codemirror_mode": {
    "name": "ipython",
    "version": 3
   },
   "file_extension": ".py",
   "mimetype": "text/x-python",
   "name": "python",
   "nbconvert_exporter": "python",
   "pygments_lexer": "ipython3",
   "version": "3.10.13"
  }
 },
 "nbformat": 4,
 "nbformat_minor": 5
}
