{
 "cells": [
  {
   "cell_type": "markdown",
   "id": "8eaf8320-28dd-42b1-ac25-cff4aba89a80",
   "metadata": {},
   "source": [
    "### List of freqently searched physician's specializations according to https://www.jameda.de/"
   ]
  },
  {
   "cell_type": "code",
   "execution_count": 1,
   "id": "035e7441-3e19-4785-b024-ef7ac418adb5",
   "metadata": {},
   "outputs": [],
   "source": [
    "frequent_searches = [\"https://www.jameda.de/allgemeinmediziner\",\n",
    "                  \"https://www.jameda.de/zahnarzt\",\n",
    "                  \"https://www.jameda.de/orthopaede-unfallchirurg\"\n",
    "]"
   ]
  },
  {
   "cell_type": "code",
   "execution_count": 2,
   "id": "d77b212f-7f23-4fe8-9844-a0a5fba314f6",
   "metadata": {},
   "outputs": [
    {
     "data": {
      "text/plain": [
       "['allgemeinmediziner', 'zahnarzt', 'orthopaede-unfallchirurg']"
      ]
     },
     "execution_count": 2,
     "metadata": {},
     "output_type": "execute_result"
    }
   ],
   "source": [
    "specialization_keywords = [x.split('/')[-1] for x in frequent_searches]\n",
    "specialization_keywords"
   ]
  }
 ],
 "metadata": {
  "kernelspec": {
   "display_name": "VIZ",
   "language": "python",
   "name": "viz"
  },
  "language_info": {
   "codemirror_mode": {
    "name": "ipython",
    "version": 3
   },
   "file_extension": ".py",
   "mimetype": "text/x-python",
   "name": "python",
   "nbconvert_exporter": "python",
   "pygments_lexer": "ipython3",
   "version": "3.10.13"
  }
 },
 "nbformat": 4,
 "nbformat_minor": 5
}
